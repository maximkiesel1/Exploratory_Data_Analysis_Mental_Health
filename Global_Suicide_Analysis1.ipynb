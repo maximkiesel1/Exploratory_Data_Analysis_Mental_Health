{
 "cells": [
  {
   "cell_type": "markdown",
   "id": "d207b721",
   "metadata": {},
   "source": [
    "# The Global Suicide Analysis 1985-2015"
   ]
  },
  {
   "cell_type": "markdown",
   "id": "0c065761",
   "metadata": {},
   "source": [
    "## 1. The Key Questions"
   ]
  },
  {
   "cell_type": "markdown",
   "id": "fb1aafb3",
   "metadata": {},
   "source": [
    "In this analysis I will look at 3 key aspects about the top 30 countries with the highest GPD:\n",
    "- Which 5 countries have the biggest suicied rate over the years and in the last years?\n",
    "- In which age category is the biggest increase of the suicide rate of the specific country?\n",
    "- What is the suicide rate in the next 5 years?"
   ]
  },
  {
   "cell_type": "markdown",
   "id": "ff8f5f41",
   "metadata": {},
   "source": [
    "## 2. Data Understanding"
   ]
  },
  {
   "cell_type": "markdown",
   "id": "e2ef507c",
   "metadata": {},
   "source": [
    "To do this analysis I use the Suicide Rates Overview (1985 to 2021) data from kaggle.com (https://www.kaggle.com/datasets/omkargowda/suicide-rates-overview-1985-to-2021)."
   ]
  },
  {
   "cell_type": "markdown",
   "id": "2dc889ca",
   "metadata": {},
   "source": [
    "At first I load the necessary libraries, load the data and get an overview about the data."
   ]
  },
  {
   "cell_type": "code",
   "execution_count": 206,
   "id": "ffd44f05",
   "metadata": {
    "scrolled": true
   },
   "outputs": [],
   "source": [
    "# import all necessary libraries\n",
    "import pandas as pd\n",
    "import numpy as np\n",
    "import matplotlib.pyplot as plt\n",
    "from sklearn.linear_model import LinearRegression\n",
    "from sklearn.model_selection import train_test_split\n",
    "from sklearn.metrics import r2_score, mean_squared_error\n",
    "import seaborn as sns\n",
    "from heapq import nsmallest\n",
    "import matplotlib.ticker as ticker\n",
    "import plotly.graph_objects as go\n",
    "from pyecharts.charts import Bar\n",
    "from pyecharts import options as opts\n",
    "from pyecharts.globals import ThemeType"
   ]
  },
  {
   "cell_type": "code",
   "execution_count": 207,
   "id": "7be8ddd1",
   "metadata": {},
   "outputs": [],
   "source": [
    "df = pd.read_csv(\"data.csv\") # load the CSV data"
   ]
  },
  {
   "cell_type": "code",
   "execution_count": 208,
   "id": "bcc410c4",
   "metadata": {},
   "outputs": [
    {
     "data": {
      "text/html": [
       "<div>\n",
       "<style scoped>\n",
       "    .dataframe tbody tr th:only-of-type {\n",
       "        vertical-align: middle;\n",
       "    }\n",
       "\n",
       "    .dataframe tbody tr th {\n",
       "        vertical-align: top;\n",
       "    }\n",
       "\n",
       "    .dataframe thead th {\n",
       "        text-align: right;\n",
       "    }\n",
       "</style>\n",
       "<table border=\"1\" class=\"dataframe\">\n",
       "  <thead>\n",
       "    <tr style=\"text-align: right;\">\n",
       "      <th></th>\n",
       "      <th>country</th>\n",
       "      <th>year</th>\n",
       "      <th>sex</th>\n",
       "      <th>age</th>\n",
       "      <th>suicides_no</th>\n",
       "      <th>population</th>\n",
       "      <th>suicides/100k pop</th>\n",
       "      <th>country-year</th>\n",
       "      <th>HDI for year</th>\n",
       "      <th>gdp_for_year ($)</th>\n",
       "      <th>gdp_per_capita ($)</th>\n",
       "      <th>generation</th>\n",
       "    </tr>\n",
       "  </thead>\n",
       "  <tbody>\n",
       "    <tr>\n",
       "      <th>0</th>\n",
       "      <td>Albania</td>\n",
       "      <td>1987</td>\n",
       "      <td>male</td>\n",
       "      <td>15-24 years</td>\n",
       "      <td>21.000000</td>\n",
       "      <td>312900</td>\n",
       "      <td>6.710000</td>\n",
       "      <td>Albania1987</td>\n",
       "      <td>NaN</td>\n",
       "      <td>2,15,66,24,900</td>\n",
       "      <td>796.000000</td>\n",
       "      <td>Generation X</td>\n",
       "    </tr>\n",
       "    <tr>\n",
       "      <th>1</th>\n",
       "      <td>Albania</td>\n",
       "      <td>1987</td>\n",
       "      <td>male</td>\n",
       "      <td>35-54 years</td>\n",
       "      <td>16.000000</td>\n",
       "      <td>308000</td>\n",
       "      <td>5.190000</td>\n",
       "      <td>Albania1987</td>\n",
       "      <td>NaN</td>\n",
       "      <td>2,15,66,24,900</td>\n",
       "      <td>796.000000</td>\n",
       "      <td>Silent</td>\n",
       "    </tr>\n",
       "    <tr>\n",
       "      <th>2</th>\n",
       "      <td>Albania</td>\n",
       "      <td>1987</td>\n",
       "      <td>female</td>\n",
       "      <td>15-24 years</td>\n",
       "      <td>14.000000</td>\n",
       "      <td>289700</td>\n",
       "      <td>4.830000</td>\n",
       "      <td>Albania1987</td>\n",
       "      <td>NaN</td>\n",
       "      <td>2,15,66,24,900</td>\n",
       "      <td>796.000000</td>\n",
       "      <td>Generation X</td>\n",
       "    </tr>\n",
       "    <tr>\n",
       "      <th>3</th>\n",
       "      <td>Albania</td>\n",
       "      <td>1987</td>\n",
       "      <td>male</td>\n",
       "      <td>75+ years</td>\n",
       "      <td>1.000000</td>\n",
       "      <td>21800</td>\n",
       "      <td>4.590000</td>\n",
       "      <td>Albania1987</td>\n",
       "      <td>NaN</td>\n",
       "      <td>2,15,66,24,900</td>\n",
       "      <td>796.000000</td>\n",
       "      <td>G.I. Generation</td>\n",
       "    </tr>\n",
       "    <tr>\n",
       "      <th>4</th>\n",
       "      <td>Albania</td>\n",
       "      <td>1987</td>\n",
       "      <td>male</td>\n",
       "      <td>25-34 years</td>\n",
       "      <td>9.000000</td>\n",
       "      <td>274300</td>\n",
       "      <td>3.280000</td>\n",
       "      <td>Albania1987</td>\n",
       "      <td>NaN</td>\n",
       "      <td>2,15,66,24,900</td>\n",
       "      <td>796.000000</td>\n",
       "      <td>Boomers</td>\n",
       "    </tr>\n",
       "  </tbody>\n",
       "</table>\n",
       "</div>"
      ],
      "text/plain": [
       "   country  year     sex          age  suicides_no  population  \\\n",
       "0  Albania  1987    male  15-24 years    21.000000      312900   \n",
       "1  Albania  1987    male  35-54 years    16.000000      308000   \n",
       "2  Albania  1987  female  15-24 years    14.000000      289700   \n",
       "3  Albania  1987    male    75+ years     1.000000       21800   \n",
       "4  Albania  1987    male  25-34 years     9.000000      274300   \n",
       "\n",
       "   suicides/100k pop country-year  HDI for year  gdp_for_year ($)   \\\n",
       "0           6.710000  Albania1987           NaN     2,15,66,24,900   \n",
       "1           5.190000  Albania1987           NaN     2,15,66,24,900   \n",
       "2           4.830000  Albania1987           NaN     2,15,66,24,900   \n",
       "3           4.590000  Albania1987           NaN     2,15,66,24,900   \n",
       "4           3.280000  Albania1987           NaN     2,15,66,24,900   \n",
       "\n",
       "   gdp_per_capita ($)       generation  \n",
       "0          796.000000     Generation X  \n",
       "1          796.000000           Silent  \n",
       "2          796.000000     Generation X  \n",
       "3          796.000000  G.I. Generation  \n",
       "4          796.000000          Boomers  "
      ]
     },
     "execution_count": 208,
     "metadata": {},
     "output_type": "execute_result"
    }
   ],
   "source": [
    "df.head() # Look at the first 5 rows of the dataset"
   ]
  },
  {
   "cell_type": "markdown",
   "id": "70a9d03a",
   "metadata": {},
   "source": [
    "- \"country-year\" is a combination from the columns country+year. This column can be deleted. **This will be done in the next chapter**.\n",
    "- Year is a time series for each country.\n",
    "- The GDP is stand for the corresponding year and is the value created through the production of goods and services in a country during a certain period of time. It´s an indicator for the economy performance of an country.\n",
    "- The same means for the HDI (Human Development Index). It´s an indicator for the development of an country. \n",
    "- The column \"population\" is the population per age area and not the whole population of the country.\n",
    "- The same means for the suicide number (suicides_no) and for the sucide rate per 100.000 people (suicides/100k pop)."
   ]
  },
  {
   "cell_type": "code",
   "execution_count": 209,
   "id": "74fea69a",
   "metadata": {},
   "outputs": [
    {
     "data": {
      "text/plain": [
       "(31756, 12)"
      ]
     },
     "execution_count": 209,
     "metadata": {},
     "output_type": "execute_result"
    }
   ],
   "source": [
    "df.shape # check the shape of the datafraem"
   ]
  },
  {
   "cell_type": "markdown",
   "id": "a22c3273",
   "metadata": {},
   "source": [
    "There are 31756 rows and 12 columns in the dataset."
   ]
  },
  {
   "cell_type": "code",
   "execution_count": 210,
   "id": "ae567739",
   "metadata": {
    "scrolled": true
   },
   "outputs": [
    {
     "data": {
      "text/plain": [
       "country                object\n",
       "year                    int64\n",
       "sex                    object\n",
       "age                    object\n",
       "suicides_no           float64\n",
       "population              int64\n",
       "suicides/100k pop     float64\n",
       "country-year           object\n",
       "HDI for year          float64\n",
       " gdp_for_year ($)      object\n",
       "gdp_per_capita ($)    float64\n",
       "generation             object\n",
       "dtype: object"
      ]
     },
     "execution_count": 210,
     "metadata": {},
     "output_type": "execute_result"
    }
   ],
   "source": [
    "df.dtypes # Check the types of the columns"
   ]
  },
  {
   "cell_type": "markdown",
   "id": "e0e4ff20",
   "metadata": {},
   "source": [
    "- There are 6 categorical columns and 6 numeric columns.\n",
    "- The GPD per year has a some spaces in the name. This needs to be cleaned.\n",
    "- The GPD per year is an object, but this is wrong. It needs to be convert to a float.\n",
    "- The \"suicides_no\" should be transformed to an integer. "
   ]
  },
  {
   "cell_type": "markdown",
   "id": "8eb71ea3",
   "metadata": {},
   "source": [
    "Now I clean the data name of the GDP per year."
   ]
  },
  {
   "cell_type": "code",
   "execution_count": 211,
   "id": "3296998f",
   "metadata": {},
   "outputs": [],
   "source": [
    "df = df.rename({' gdp_for_year ($) ': 'gdp_for_year ($)'}, axis=1) # Rename column"
   ]
  },
  {
   "cell_type": "markdown",
   "id": "643d1e98",
   "metadata": {},
   "source": [
    "To transform the \" gdp_for_year ($) \" I need first remove a comma in the number. Then I can transform it."
   ]
  },
  {
   "cell_type": "code",
   "execution_count": 212,
   "id": "80c447b8",
   "metadata": {},
   "outputs": [],
   "source": [
    "df = df.replace(',','', regex=True) # Replace all comma"
   ]
  },
  {
   "cell_type": "code",
   "execution_count": 213,
   "id": "94f7bb71",
   "metadata": {},
   "outputs": [],
   "source": [
    "df = df.astype({'gdp_for_year ($)': float}) # Transform to float"
   ]
  },
  {
   "cell_type": "code",
   "execution_count": 214,
   "id": "e624985f",
   "metadata": {},
   "outputs": [],
   "source": [
    "#df = df.astype({'suicides_no': int}) # Transform to int"
   ]
  },
  {
   "cell_type": "markdown",
   "id": "23f87b45",
   "metadata": {},
   "source": [
    "The transformation don´t work, because there are NaN values. **The cleaning and transformation will be done in the next chapter**."
   ]
  },
  {
   "cell_type": "markdown",
   "id": "8e039c4a",
   "metadata": {},
   "source": [
    "### 2.1. Numeric values"
   ]
  },
  {
   "cell_type": "markdown",
   "id": "d18c842c",
   "metadata": {},
   "source": [
    "Let´s take a look at the numeric values."
   ]
  },
  {
   "cell_type": "markdown",
   "id": "99dd712f",
   "metadata": {},
   "source": [
    "First I plot numeric values as histogramms."
   ]
  },
  {
   "cell_type": "code",
   "execution_count": 215,
   "id": "cf80e022",
   "metadata": {},
   "outputs": [
    {
     "data": {
      "image/png": "[encoded data removed]",
      "text/plain": [
       "<Figure size 1900x1000 with 9 Axes>"
      ]
     },
     "metadata": {},
     "output_type": "display_data"
    }
   ],
   "source": [
    "df.hist(figsize=(19,10)); # Show the histogramms of the numeric values"
   ]
  },
  {
   "cell_type": "markdown",
   "id": "c10327bb",
   "metadata": {},
   "source": [
    "- The frequency of the different years is in the dataset not evenly distribute. \n",
    "- Most of the numeric values are right skewed, except of the HDI => The mean is for this columns not the right statistical measurement.\n",
    "- From this macro perspective, the values of \"sucides_no\", \"suicides/100k pop\" and the GDP per year don´t have much variation.\n",
    "- The x scaling of the popluation looks strang. Probably the problem is the scientific notation."
   ]
  },
  {
   "cell_type": "markdown",
   "id": "2956c969",
   "metadata": {},
   "source": [
    "Let´s look more deeper in the columns:\n",
    "- 'suicides_no'\n",
    "- 'suicides/100k pop'\n",
    "- 'population'\n",
    "- GPD per year"
   ]
  },
  {
   "cell_type": "code",
   "execution_count": 216,
   "id": "7959d31c",
   "metadata": {
    "scrolled": false
   },
   "outputs": [
    {
     "data": {
      "image/png": "[encoded data removed]",
      "text/plain": [
       "<Figure size 2000x500 with 1 Axes>"
      ]
     },
     "metadata": {},
     "output_type": "display_data"
    }
   ],
   "source": [
    "df['suicides_no'].hist(figsize=(20,5), bins=100); # Show the histogramms of the specific column with extreme amount of bins"
   ]
  },
  {
   "cell_type": "markdown",
   "id": "34c2941c",
   "metadata": {},
   "source": [
    "Even with more bins it looks like there is no variation. Maybe there is a extreme max value."
   ]
  },
  {
   "cell_type": "code",
   "execution_count": 217,
   "id": "9b7f6a68",
   "metadata": {},
   "outputs": [
    {
     "data": {
      "text/plain": [
       "count   30556.000000\n",
       "mean      237.136242\n",
       "std       867.956107\n",
       "min         0.000000\n",
       "25%         3.000000\n",
       "50%        25.000000\n",
       "75%       132.000000\n",
       "max     22338.000000\n",
       "Name: suicides_no, dtype: float64"
      ]
     },
     "execution_count": 217,
     "metadata": {},
     "output_type": "execute_result"
    }
   ],
   "source": [
    "df['suicides_no'].describe() # Show the statistic characteristics of the specific column"
   ]
  },
  {
   "cell_type": "markdown",
   "id": "683a8d45",
   "metadata": {},
   "source": [
    "Ok, the problem here is this probebly outlier of 22338. **This needs to be analyzed in the next chapter**."
   ]
  },
  {
   "cell_type": "code",
   "execution_count": 218,
   "id": "33643294",
   "metadata": {
    "scrolled": true
   },
   "outputs": [
    {
     "data": {
      "image/png": "[encoded data removed]",
      "text/plain": [
       "<Figure size 2000x500 with 1 Axes>"
      ]
     },
     "metadata": {},
     "output_type": "display_data"
    }
   ],
   "source": [
    "df['suicides/100k pop'].hist(figsize=(20,5), bins=100); # Show the histogramms of the specific column with extreme amount of bins"
   ]
  },
  {
   "cell_type": "markdown",
   "id": "96121b5a",
   "metadata": {},
   "source": [
    "There is a little bit more variation, but it looks also like that there are extreme values."
   ]
  },
  {
   "cell_type": "code",
   "execution_count": 219,
   "id": "b3cca00f",
   "metadata": {},
   "outputs": [
    {
     "data": {
      "text/plain": [
       "count   31756.000000\n",
       "mean       11.716668\n",
       "std        21.590926\n",
       "min         0.000000\n",
       "25%         0.370000\n",
       "50%         4.285000\n",
       "75%        14.560000\n",
       "max       515.092734\n",
       "Name: suicides/100k pop, dtype: float64"
      ]
     },
     "execution_count": 219,
     "metadata": {},
     "output_type": "execute_result"
    }
   ],
   "source": [
    "df['suicides/100k pop'].describe() # Show the statistic characteristics of the specific column"
   ]
  },
  {
   "cell_type": "markdown",
   "id": "8b1d46cf",
   "metadata": {},
   "source": [
    "This max value could be corresponding with the max value in the last column. **This needs to be analyzed in the next chapter**."
   ]
  },
  {
   "cell_type": "code",
   "execution_count": 220,
   "id": "8d32bb3c",
   "metadata": {
    "scrolled": true
   },
   "outputs": [
    {
     "data": {
      "text/plain": [
       "count        31756.000000\n",
       "mean       7217454.237435\n",
       "std       57993230.362607\n",
       "min            278.000000\n",
       "25%         128821.000000\n",
       "50%         546832.500000\n",
       "75%        2908763.000000\n",
       "max     1411100000.000000\n",
       "Name: population, dtype: float64"
      ]
     },
     "execution_count": 220,
     "metadata": {},
     "output_type": "execute_result"
    }
   ],
   "source": [
    "pd.set_option('float_format', '{:f}'.format) # Clean from the scientific notation\n",
    "df['population'].describe() # Show the statistic characteristics of the specific column"
   ]
  },
  {
   "cell_type": "code",
   "execution_count": 221,
   "id": "31feaf34",
   "metadata": {
    "scrolled": true
   },
   "outputs": [
    {
     "data": {
      "image/png": "[encoded data removed]",
      "text/plain": [
       "<Figure size 2000x300 with 1 Axes>"
      ]
     },
     "metadata": {},
     "output_type": "display_data"
    }
   ],
   "source": [
    "plt.figure(figsize=(20,3)) # Show the histogramms of the specific column with extreme amount of bins and without the scientific notation\n",
    "ax = plt.axes()\n",
    "plt.hist(df['population'], bins=100)\n",
    "plt.title('population')\n",
    "plt.setp(ax.get_xticklabels(), rotation=90, ha='right')\n",
    "plt.grid(alpha=0.5)\n",
    "plt.ticklabel_format(style='plain')"
   ]
  },
  {
   "cell_type": "markdown",
   "id": "51ae589f",
   "metadata": {},
   "source": [
    "Here I have the same problem with outlier. **This needs to be analyzed in the next chapter**."
   ]
  },
  {
   "cell_type": "code",
   "execution_count": 222,
   "id": "82d59542",
   "metadata": {},
   "outputs": [
    {
     "data": {
      "text/plain": [
       "count            31756.000000\n",
       "mean      572248693464.378052\n",
       "std      2544260716231.737305\n",
       "min           46919625.000000\n",
       "25%        10553337673.000000\n",
       "50%        55849686539.000000\n",
       "75%       286519135327.000000\n",
       "max     51000000000000.000000\n",
       "Name: gdp_for_year ($), dtype: float64"
      ]
     },
     "execution_count": 222,
     "metadata": {},
     "output_type": "execute_result"
    }
   ],
   "source": [
    "df['gdp_for_year ($)'].describe()"
   ]
  },
  {
   "cell_type": "code",
   "execution_count": 223,
   "id": "c6f525c0",
   "metadata": {},
   "outputs": [
    {
     "data": {
      "image/png": "[encoded data removed]",
      "text/plain": [
       "<Figure size 2000x300 with 1 Axes>"
      ]
     },
     "metadata": {},
     "output_type": "display_data"
    }
   ],
   "source": [
    "plt.figure(figsize=(20,3)) # Show the histogramms of the specific column with extrem amount of bins and without the scientific notation\n",
    "ax = plt.axes() \n",
    "plt.hist(df['gdp_for_year ($)'], bins=100)\n",
    "plt.title('gdp_for_year ($)')\n",
    "plt.setp(ax.get_xticklabels(), rotation=90, ha='right')\n",
    "plt.grid(alpha=0.5)\n",
    "plt.ticklabel_format(style='plain')"
   ]
  },
  {
   "cell_type": "markdown",
   "id": "afe5b566",
   "metadata": {},
   "source": [
    "Here I have the same problem with outlier. **This needs to be analyzed in the next chapter**."
   ]
  },
  {
   "cell_type": "markdown",
   "id": "ea796b18",
   "metadata": {},
   "source": [
    "### 2.2. Categorical values"
   ]
  },
  {
   "cell_type": "markdown",
   "id": "920c4b5f",
   "metadata": {},
   "source": [
    "In the next step I look at the unique values for each categorical value."
   ]
  },
  {
   "cell_type": "code",
   "execution_count": 224,
   "id": "5f0bc61a",
   "metadata": {},
   "outputs": [
    {
     "name": "stdout",
     "output_type": "stream",
     "text": [
      "country\n",
      "['Albania' 'Antigua and Barbuda' 'Argentina' 'Armenia' 'Aruba' 'Australia'\n",
      " 'Austria' 'Azerbaijan' 'Bahamas' 'Bahrain' 'Barbados' 'Belarus' 'Belgium'\n",
      " 'Belize' 'Bosnia and Herzegovina' 'Brazil' 'Bulgaria' 'Cabo Verde'\n",
      " 'Canada' 'Chile' 'Colombia' 'Costa Rica' 'Croatia' 'Cuba' 'Cyprus'\n",
      " 'Czech Republic' 'Denmark' 'Dominica' 'Ecuador' 'El Salvador' 'Estonia'\n",
      " 'Fiji' 'Finland' 'France' 'Georgia' 'Germany' 'Greece' 'Grenada'\n",
      " 'Guatemala' 'Guyana' 'Hungary' 'Iceland' 'Ireland' 'Israel' 'Italy'\n",
      " 'Jamaica' 'Japan' 'Kazakhstan' 'Kiribati' 'Kuwait' 'Kyrgyzstan' 'Latvia'\n",
      " 'Lithuania' 'Luxembourg' 'Macau' 'Maldives' 'Malta' 'Mauritius' 'Mexico'\n",
      " 'Mongolia' 'Montenegro' 'Netherlands' 'New Zealand' 'Nicaragua' 'Norway'\n",
      " 'Oman' 'Panama' 'Paraguay' 'Philippines' 'Poland' 'Portugal'\n",
      " 'Puerto Rico' 'Qatar' 'Republic of Korea' 'Romania' 'Russian Federation'\n",
      " 'Saint Kitts and Nevis' 'Saint Lucia' 'Saint Vincent and Grenadines'\n",
      " 'San Marino' 'Serbia' 'Seychelles' 'Singapore' 'Slovakia' 'Slovenia'\n",
      " 'South Africa' 'Spain' 'Sri Lanka' 'Suriname' 'Sweden' 'Switzerland'\n",
      " 'Thailand' 'Trinidad and Tobago' 'Turkey' 'Turkmenistan' 'Ukraine'\n",
      " 'United Arab Emirates' 'United Kingdom' 'United States' 'Uruguay'\n",
      " 'Uzbekistan' 'Brunei Darussalam' 'China Hong Kong SAR' 'Czechia'\n",
      " 'Dominican Republic' 'Egypt' 'Jordan' 'Lebanon' 'North Macedonia' 'Peru'\n",
      " 'Republic of Moldova' 'Saint Vincent and the Grenadines' 'Tajikistan'\n",
      " 'United States of America']\n",
      "______________\n",
      "sex\n",
      "['male' 'female']\n",
      "______________\n",
      "age\n",
      "['15-24 years' '35-54 years' '75+ years' '25-34 years' '55-74 years'\n",
      " '5-14 years']\n",
      "______________\n",
      "country-year\n",
      "['Albania1987' 'Albania1988' 'Albania1989' ...\n",
      " 'United States of America2017' 'Uruguay2017' 'Uzbekistan2017']\n",
      "______________\n",
      "generation\n",
      "['Generation X' 'Silent' 'G.I. Generation' 'Boomers' 'Millenials'\n",
      " 'Generation Z']\n",
      "______________\n"
     ]
    }
   ],
   "source": [
    "# Iterate through the columns and print the corresponding unqiue values\n",
    "for i in df:\n",
    "    if df[i].dtypes == \"object\":\n",
    "        print(i)\n",
    "        print(df[i].unique())\n",
    "        print(\"______________\")"
   ]
  },
  {
   "cell_type": "markdown",
   "id": "e0251caa",
   "metadata": {},
   "source": [
    "- There are alot of different countries. But I choose for a better overview just the top 50 countries with the highest GPD.\n",
    "- There are no NaN values.\n",
    "- It seems like that that the country USA appears two times: \"United States of America\" and \"United States\". **This needs to be analyzed in the next chapter**."
   ]
  },
  {
   "cell_type": "markdown",
   "id": "a9944153",
   "metadata": {},
   "source": [
    "Now I look at the distribution of the contegorical values. The columns of \"gdp_for_year ($)\" and \"country-year\" excluded. GDP because it is numerical and country-year because it´s unnecessary."
   ]
  },
  {
   "cell_type": "code",
   "execution_count": 225,
   "id": "c6539032",
   "metadata": {
    "scrolled": false
   },
   "outputs": [
    {
     "data": {
      "image/png": "[encoded data removed]",
      "text/plain": [
       "<Figure size 2000x300 with 1 Axes>"
      ]
     },
     "metadata": {},
     "output_type": "display_data"
    },
    {
     "data": {
      "image/png": "[encoded data removed]",
      "text/plain": [
       "<Figure size 2000x300 with 1 Axes>"
      ]
     },
     "metadata": {},
     "output_type": "display_data"
    },
    {
     "data": {
      "image/png": "[encoded data removed]",
      "text/plain": [
       "<Figure size 2000x300 with 1 Axes>"
      ]
     },
     "metadata": {},
     "output_type": "display_data"
    },
    {
     "data": {
      "image/png": "[encoded data removed]",
      "text/plain": [
       "<Figure size 2000x300 with 1 Axes>"
      ]
     },
     "metadata": {},
     "output_type": "display_data"
    }
   ],
   "source": [
    "df_obj = df.select_dtypes(include ='object') # Create a subset of object columns\n",
    "for i in df_obj: # Iterate through all columns and print the corresponding histogramms\n",
    "    if i != ' gdp_for_year ($) ' and i !='country-year':\n",
    "        plt.figure(figsize=(20,3))\n",
    "        ax = plt.axes()\n",
    "        plt.hist(df_obj[i])\n",
    "        plt.title(i)\n",
    "        plt.setp(ax.get_xticklabels(), rotation=90, ha='right')\n",
    "        plt.grid(alpha=0.5)\n",
    "        plt.show()"
   ]
  },
  {
   "cell_type": "markdown",
   "id": "36651292",
   "metadata": {},
   "source": [
    "- The frequency of the different countries is in the dataset not evenly distribute. There are countries with just 500 datapoints (e.g. USA). This can have an impact on the analysis, e.g. the machine learning performance.\n",
    "- It´s similar for the column \"generation\". Here is the Generation Z underrepresented. \n",
    "- The rest of the categorical data is almost evenly distributed."
   ]
  },
  {
   "cell_type": "markdown",
   "id": "66b09f7c",
   "metadata": {},
   "source": [
    "### 2.3. NaN values"
   ]
  },
  {
   "cell_type": "markdown",
   "id": "581a2ee9",
   "metadata": {},
   "source": [
    "Now I define a function which is visualing the NaN-rate."
   ]
  },
  {
   "cell_type": "code",
   "execution_count": 226,
   "id": "23826f84",
   "metadata": {},
   "outputs": [],
   "source": [
    "def number_na(df):\n",
    "    '''\n",
    "    INPUT\n",
    "    df - pandas dataframe \n",
    "    \n",
    "    OUTPUT\n",
    "    dict_nan_rate - dictonary with the columns as keys and the corresponding NaN-rate\n",
    "    ''' \n",
    "    \n",
    "    # Create a dictonary to fill it with the columns as keys and the corresponding NaN-rates.\n",
    "    dict_nan_rate = {}\n",
    "    for i in df:\n",
    "        dict_nan_rate[i] = df[i].isna().sum()/len(df[i])\n",
    "    \n",
    "    \n",
    "    # Plot a bar chart with the dictonary\n",
    "    plt.figure(figsize=(19,8))\n",
    "    ax = plt.axes()\n",
    "    plt.bar(list(dict_nan_rate.keys()), list(dict_nan_rate.values()), width=0.3, alpha=0.7)\n",
    "    plt.title(\"NaN-rate for all columns of the dataset\")\n",
    "    plt.ylabel(\"NaN-rate\")\n",
    "    plt.setp(ax.get_xticklabels(), rotation=90, ha='right')\n",
    "    plt.grid(alpha=0.5)\n",
    "    plt.show\n",
    "    \n",
    "    return dict_nan_rate"
   ]
  },
  {
   "cell_type": "code",
   "execution_count": 227,
   "id": "61aef982",
   "metadata": {},
   "outputs": [
    {
     "data": {
      "text/plain": [
       "{'country': 0.0,\n",
       " 'year': 0.0,\n",
       " 'sex': 0.0,\n",
       " 'age': 0.0,\n",
       " 'suicides_no': 0.03778813452575891,\n",
       " 'population': 0.0,\n",
       " 'suicides/100k pop': 0.0,\n",
       " 'country-year': 0.0,\n",
       " 'HDI for year': 0.6126716211109712,\n",
       " 'gdp_for_year ($)': 0.0,\n",
       " 'gdp_per_capita ($)': 0.0,\n",
       " 'generation': 0.0}"
      ]
     },
     "execution_count": 227,
     "metadata": {},
     "output_type": "execute_result"
    },
    {
     "data": {
      "image/png": "[encoded data removed]",
      "text/plain": [
       "<Figure size 1900x800 with 1 Axes>"
      ]
     },
     "metadata": {},
     "output_type": "display_data"
    }
   ],
   "source": [
    "number_na(df)"
   ]
  },
  {
   "cell_type": "markdown",
   "id": "b99f2192",
   "metadata": {},
   "source": [
    "- The dataset is very good. The are almost no NaN-Values\n",
    "- For the suicide number I need to check which strategy I use to work with this. **This need to be analyzed in the next chapter**. \n",
    "- The same goes for HDI. **This need to be analyzed in the next chapter**. "
   ]
  },
  {
   "cell_type": "markdown",
   "id": "e231eaea",
   "metadata": {},
   "source": [
    "## 3. Data Preparation "
   ]
  },
  {
   "cell_type": "markdown",
   "id": "62a93cfd",
   "metadata": {},
   "source": [
    "Here are the special observations from the last chapter:\n",
    "- Delete the country-year column\n",
    "- Transform the suicide number to an integer\n",
    "- Outlier analyzation of the numeric values\n",
    "- NaN cleaning\n",
    "- Twice ouccuring of USA"
   ]
  },
  {
   "cell_type": "markdown",
   "id": "2bb5e159",
   "metadata": {},
   "source": [
    "I start with the deleting of the column."
   ]
  },
  {
   "cell_type": "code",
   "execution_count": 228,
   "id": "e4148fbf",
   "metadata": {},
   "outputs": [],
   "source": [
    "df = df.drop(columns=['country-year'], axis=1) # Drop a specific column"
   ]
  },
  {
   "cell_type": "markdown",
   "id": "4b66f2dc",
   "metadata": {},
   "source": [
    "Then I go to the NaN cleaning."
   ]
  },
  {
   "cell_type": "markdown",
   "id": "075636dd",
   "metadata": {},
   "source": [
    "First I check how much data data is missing"
   ]
  },
  {
   "cell_type": "markdown",
   "id": "d6db9999",
   "metadata": {},
   "source": [
    "I start with the suicide number. Because this column will be my target value for my machine learning modell the values can be deleted. "
   ]
  },
  {
   "cell_type": "code",
   "execution_count": 229,
   "id": "f4bb0655",
   "metadata": {},
   "outputs": [
    {
     "data": {
      "text/html": [
       "<div>\n",
       "<style scoped>\n",
       "    .dataframe tbody tr th:only-of-type {\n",
       "        vertical-align: middle;\n",
       "    }\n",
       "\n",
       "    .dataframe tbody tr th {\n",
       "        vertical-align: top;\n",
       "    }\n",
       "\n",
       "    .dataframe thead th {\n",
       "        text-align: right;\n",
       "    }\n",
       "</style>\n",
       "<table border=\"1\" class=\"dataframe\">\n",
       "  <thead>\n",
       "    <tr style=\"text-align: right;\">\n",
       "      <th></th>\n",
       "      <th>suicides_no</th>\n",
       "      <th>population</th>\n",
       "      <th>suicides/100k pop</th>\n",
       "      <th>HDI for year</th>\n",
       "      <th>gdp_for_year ($)</th>\n",
       "      <th>gdp_per_capita ($)</th>\n",
       "    </tr>\n",
       "    <tr>\n",
       "      <th>year</th>\n",
       "      <th></th>\n",
       "      <th></th>\n",
       "      <th></th>\n",
       "      <th></th>\n",
       "      <th></th>\n",
       "      <th></th>\n",
       "    </tr>\n",
       "  </thead>\n",
       "  <tbody>\n",
       "    <tr>\n",
       "      <th>1985</th>\n",
       "      <td>425.416667</td>\n",
       "      <td>4417211.250000</td>\n",
       "      <td>9.704167</td>\n",
       "      <td>0.753000</td>\n",
       "      <td>489285164271.000000</td>\n",
       "      <td>9231.000000</td>\n",
       "    </tr>\n",
       "    <tr>\n",
       "      <th>1986</th>\n",
       "      <td>403.250000</td>\n",
       "      <td>4426627.750000</td>\n",
       "      <td>9.334167</td>\n",
       "      <td>NaN</td>\n",
       "      <td>601452653181.000000</td>\n",
       "      <td>11323.000000</td>\n",
       "    </tr>\n",
       "    <tr>\n",
       "      <th>1987</th>\n",
       "      <td>382.833333</td>\n",
       "      <td>4436639.000000</td>\n",
       "      <td>8.650833</td>\n",
       "      <td>NaN</td>\n",
       "      <td>745162608269.000000</td>\n",
       "      <td>13996.000000</td>\n",
       "    </tr>\n",
       "    <tr>\n",
       "      <th>1988</th>\n",
       "      <td>414.250000</td>\n",
       "      <td>4442565.000000</td>\n",
       "      <td>9.545833</td>\n",
       "      <td>NaN</td>\n",
       "      <td>910122732124.000000</td>\n",
       "      <td>17072.000000</td>\n",
       "    </tr>\n",
       "    <tr>\n",
       "      <th>1989</th>\n",
       "      <td>363.416667</td>\n",
       "      <td>4452094.083333</td>\n",
       "      <td>8.265833</td>\n",
       "      <td>NaN</td>\n",
       "      <td>926884816754.000000</td>\n",
       "      <td>17349.000000</td>\n",
       "    </tr>\n",
       "    <tr>\n",
       "      <th>1990</th>\n",
       "      <td>386.916667</td>\n",
       "      <td>4463154.500000</td>\n",
       "      <td>8.611667</td>\n",
       "      <td>0.773000</td>\n",
       "      <td>1093169389205.000000</td>\n",
       "      <td>20411.000000</td>\n",
       "    </tr>\n",
       "    <tr>\n",
       "      <th>1991</th>\n",
       "      <td>378.916667</td>\n",
       "      <td>4491952.250000</td>\n",
       "      <td>8.233333</td>\n",
       "      <td>NaN</td>\n",
       "      <td>1142797178131.000000</td>\n",
       "      <td>21201.000000</td>\n",
       "    </tr>\n",
       "    <tr>\n",
       "      <th>1992</th>\n",
       "      <td>385.666667</td>\n",
       "      <td>4506363.166667</td>\n",
       "      <td>8.229167</td>\n",
       "      <td>NaN</td>\n",
       "      <td>1179659529660.000000</td>\n",
       "      <td>21815.000000</td>\n",
       "    </tr>\n",
       "    <tr>\n",
       "      <th>1993</th>\n",
       "      <td>371.833333</td>\n",
       "      <td>4523665.166667</td>\n",
       "      <td>8.070833</td>\n",
       "      <td>NaN</td>\n",
       "      <td>1061388722256.000000</td>\n",
       "      <td>19553.000000</td>\n",
       "    </tr>\n",
       "    <tr>\n",
       "      <th>1994</th>\n",
       "      <td>365.000000</td>\n",
       "      <td>4541441.083333</td>\n",
       "      <td>7.896667</td>\n",
       "      <td>NaN</td>\n",
       "      <td>1140489745944.000000</td>\n",
       "      <td>20927.000000</td>\n",
       "    </tr>\n",
       "    <tr>\n",
       "      <th>1995</th>\n",
       "      <td>359.583333</td>\n",
       "      <td>4562247.000000</td>\n",
       "      <td>7.695000</td>\n",
       "      <td>0.837000</td>\n",
       "      <td>1335218557677.000000</td>\n",
       "      <td>24389.000000</td>\n",
       "    </tr>\n",
       "    <tr>\n",
       "      <th>1996</th>\n",
       "      <td>347.083333</td>\n",
       "      <td>4584350.583333</td>\n",
       "      <td>7.360000</td>\n",
       "      <td>NaN</td>\n",
       "      <td>1408781591264.000000</td>\n",
       "      <td>25609.000000</td>\n",
       "    </tr>\n",
       "    <tr>\n",
       "      <th>1997</th>\n",
       "      <td>345.250000</td>\n",
       "      <td>4605552.916667</td>\n",
       "      <td>7.398333</td>\n",
       "      <td>NaN</td>\n",
       "      <td>1552483628029.000000</td>\n",
       "      <td>28091.000000</td>\n",
       "    </tr>\n",
       "    <tr>\n",
       "      <th>1998</th>\n",
       "      <td>365.750000</td>\n",
       "      <td>4627281.583333</td>\n",
       "      <td>7.563333</td>\n",
       "      <td>NaN</td>\n",
       "      <td>1638511096390.000000</td>\n",
       "      <td>29508.000000</td>\n",
       "    </tr>\n",
       "    <tr>\n",
       "      <th>1999</th>\n",
       "      <td>370.666667</td>\n",
       "      <td>4652778.250000</td>\n",
       "      <td>7.703333</td>\n",
       "      <td>NaN</td>\n",
       "      <td>1665623685488.000000</td>\n",
       "      <td>29832.000000</td>\n",
       "    </tr>\n",
       "    <tr>\n",
       "      <th>2000</th>\n",
       "      <td>357.500000</td>\n",
       "      <td>4677825.750000</td>\n",
       "      <td>7.277500</td>\n",
       "      <td>0.865000</td>\n",
       "      <td>1647951278560.000000</td>\n",
       "      <td>29358.000000</td>\n",
       "    </tr>\n",
       "    <tr>\n",
       "      <th>2001</th>\n",
       "      <td>344.000000</td>\n",
       "      <td>4630999.416667</td>\n",
       "      <td>7.095000</td>\n",
       "      <td>NaN</td>\n",
       "      <td>1621510004318.000000</td>\n",
       "      <td>29179.000000</td>\n",
       "    </tr>\n",
       "    <tr>\n",
       "      <th>2002</th>\n",
       "      <td>343.083333</td>\n",
       "      <td>4659078.666667</td>\n",
       "      <td>6.892500</td>\n",
       "      <td>NaN</td>\n",
       "      <td>1768408273381.000000</td>\n",
       "      <td>31630.000000</td>\n",
       "    </tr>\n",
       "    <tr>\n",
       "      <th>2003</th>\n",
       "      <td>331.583333</td>\n",
       "      <td>4680980.916667</td>\n",
       "      <td>6.679167</td>\n",
       "      <td>NaN</td>\n",
       "      <td>2038395102041.000000</td>\n",
       "      <td>36289.000000</td>\n",
       "    </tr>\n",
       "    <tr>\n",
       "      <th>2004</th>\n",
       "      <td>348.583333</td>\n",
       "      <td>4704584.250000</td>\n",
       "      <td>6.893333</td>\n",
       "      <td>NaN</td>\n",
       "      <td>2398555474185.000000</td>\n",
       "      <td>42486.000000</td>\n",
       "    </tr>\n",
       "    <tr>\n",
       "      <th>2005</th>\n",
       "      <td>337.250000</td>\n",
       "      <td>4734085.333333</td>\n",
       "      <td>6.596667</td>\n",
       "      <td>0.890000</td>\n",
       "      <td>2520701818182.000000</td>\n",
       "      <td>44372.000000</td>\n",
       "    </tr>\n",
       "    <tr>\n",
       "      <th>2006</th>\n",
       "      <td>343.500000</td>\n",
       "      <td>4757594.083333</td>\n",
       "      <td>6.514167</td>\n",
       "      <td>NaN</td>\n",
       "      <td>2692612695492.000000</td>\n",
       "      <td>47163.000000</td>\n",
       "    </tr>\n",
       "    <tr>\n",
       "      <th>2007</th>\n",
       "      <td>324.750000</td>\n",
       "      <td>4781896.416667</td>\n",
       "      <td>6.243333</td>\n",
       "      <td>NaN</td>\n",
       "      <td>3074359743898.000000</td>\n",
       "      <td>53576.000000</td>\n",
       "    </tr>\n",
       "    <tr>\n",
       "      <th>2008</th>\n",
       "      <td>354.916667</td>\n",
       "      <td>4806947.666667</td>\n",
       "      <td>6.725833</td>\n",
       "      <td>NaN</td>\n",
       "      <td>2890564338235.000000</td>\n",
       "      <td>50111.000000</td>\n",
       "    </tr>\n",
       "    <tr>\n",
       "      <th>2009</th>\n",
       "      <td>353.833333</td>\n",
       "      <td>4834463.250000</td>\n",
       "      <td>6.500000</td>\n",
       "      <td>NaN</td>\n",
       "      <td>2382825985356.000000</td>\n",
       "      <td>41074.000000</td>\n",
       "    </tr>\n",
       "    <tr>\n",
       "      <th>2010</th>\n",
       "      <td>349.000000</td>\n",
       "      <td>4866960.750000</td>\n",
       "      <td>6.450833</td>\n",
       "      <td>0.906000</td>\n",
       "      <td>2441173394730.000000</td>\n",
       "      <td>41798.000000</td>\n",
       "    </tr>\n",
       "    <tr>\n",
       "      <th>2011</th>\n",
       "      <td>366.083333</td>\n",
       "      <td>4906821.000000</td>\n",
       "      <td>6.524167</td>\n",
       "      <td>0.901000</td>\n",
       "      <td>2619700404733.000000</td>\n",
       "      <td>44491.000000</td>\n",
       "    </tr>\n",
       "    <tr>\n",
       "      <th>2012</th>\n",
       "      <td>370.333333</td>\n",
       "      <td>4975719.166667</td>\n",
       "      <td>6.622500</td>\n",
       "      <td>0.901000</td>\n",
       "      <td>2662085168499.000000</td>\n",
       "      <td>44585.000000</td>\n",
       "    </tr>\n",
       "    <tr>\n",
       "      <th>2013</th>\n",
       "      <td>402.000000</td>\n",
       "      <td>5007649.416667</td>\n",
       "      <td>7.076667</td>\n",
       "      <td>0.902000</td>\n",
       "      <td>2739818680930.000000</td>\n",
       "      <td>45594.000000</td>\n",
       "    </tr>\n",
       "    <tr>\n",
       "      <th>2014</th>\n",
       "      <td>399.000000</td>\n",
       "      <td>5047540.166667</td>\n",
       "      <td>6.994167</td>\n",
       "      <td>0.907000</td>\n",
       "      <td>3022827781881.000000</td>\n",
       "      <td>49906.000000</td>\n",
       "    </tr>\n",
       "    <tr>\n",
       "      <th>2015</th>\n",
       "      <td>409.166667</td>\n",
       "      <td>5090245.166667</td>\n",
       "      <td>7.228333</td>\n",
       "      <td>NaN</td>\n",
       "      <td>2885570309161.000000</td>\n",
       "      <td>47240.000000</td>\n",
       "    </tr>\n",
       "    <tr>\n",
       "      <th>2017</th>\n",
       "      <td>381.666667</td>\n",
       "      <td>66058859.000000</td>\n",
       "      <td>0.577768</td>\n",
       "      <td>0.928150</td>\n",
       "      <td>2700000000000.000000</td>\n",
       "      <td>40857.755580</td>\n",
       "    </tr>\n",
       "    <tr>\n",
       "      <th>2018</th>\n",
       "      <td>418.000000</td>\n",
       "      <td>66460344.000000</td>\n",
       "      <td>0.628946</td>\n",
       "      <td>0.927070</td>\n",
       "      <td>2900000000000.000000</td>\n",
       "      <td>43646.951970</td>\n",
       "    </tr>\n",
       "    <tr>\n",
       "      <th>2019</th>\n",
       "      <td>486.416667</td>\n",
       "      <td>66836327.000000</td>\n",
       "      <td>0.727773</td>\n",
       "      <td>0.932872</td>\n",
       "      <td>2880000000000.000000</td>\n",
       "      <td>43070.498360</td>\n",
       "    </tr>\n",
       "    <tr>\n",
       "      <th>2020</th>\n",
       "      <td>NaN</td>\n",
       "      <td>67081000.000000</td>\n",
       "      <td>0.000000</td>\n",
       "      <td>0.922948</td>\n",
       "      <td>2760000000000.000000</td>\n",
       "      <td>41059.168810</td>\n",
       "    </tr>\n",
       "  </tbody>\n",
       "</table>\n",
       "</div>"
      ],
      "text/plain": [
       "      suicides_no      population  suicides/100k pop  HDI for year  \\\n",
       "year                                                                 \n",
       "1985   425.416667  4417211.250000           9.704167      0.753000   \n",
       "1986   403.250000  4426627.750000           9.334167           NaN   \n",
       "1987   382.833333  4436639.000000           8.650833           NaN   \n",
       "1988   414.250000  4442565.000000           9.545833           NaN   \n",
       "1989   363.416667  4452094.083333           8.265833           NaN   \n",
       "1990   386.916667  4463154.500000           8.611667      0.773000   \n",
       "1991   378.916667  4491952.250000           8.233333           NaN   \n",
       "1992   385.666667  4506363.166667           8.229167           NaN   \n",
       "1993   371.833333  4523665.166667           8.070833           NaN   \n",
       "1994   365.000000  4541441.083333           7.896667           NaN   \n",
       "1995   359.583333  4562247.000000           7.695000      0.837000   \n",
       "1996   347.083333  4584350.583333           7.360000           NaN   \n",
       "1997   345.250000  4605552.916667           7.398333           NaN   \n",
       "1998   365.750000  4627281.583333           7.563333           NaN   \n",
       "1999   370.666667  4652778.250000           7.703333           NaN   \n",
       "2000   357.500000  4677825.750000           7.277500      0.865000   \n",
       "2001   344.000000  4630999.416667           7.095000           NaN   \n",
       "2002   343.083333  4659078.666667           6.892500           NaN   \n",
       "2003   331.583333  4680980.916667           6.679167           NaN   \n",
       "2004   348.583333  4704584.250000           6.893333           NaN   \n",
       "2005   337.250000  4734085.333333           6.596667      0.890000   \n",
       "2006   343.500000  4757594.083333           6.514167           NaN   \n",
       "2007   324.750000  4781896.416667           6.243333           NaN   \n",
       "2008   354.916667  4806947.666667           6.725833           NaN   \n",
       "2009   353.833333  4834463.250000           6.500000           NaN   \n",
       "2010   349.000000  4866960.750000           6.450833      0.906000   \n",
       "2011   366.083333  4906821.000000           6.524167      0.901000   \n",
       "2012   370.333333  4975719.166667           6.622500      0.901000   \n",
       "2013   402.000000  5007649.416667           7.076667      0.902000   \n",
       "2014   399.000000  5047540.166667           6.994167      0.907000   \n",
       "2015   409.166667  5090245.166667           7.228333           NaN   \n",
       "2017   381.666667 66058859.000000           0.577768      0.928150   \n",
       "2018   418.000000 66460344.000000           0.628946      0.927070   \n",
       "2019   486.416667 66836327.000000           0.727773      0.932872   \n",
       "2020          NaN 67081000.000000           0.000000      0.922948   \n",
       "\n",
       "         gdp_for_year ($)  gdp_per_capita ($)  \n",
       "year                                           \n",
       "1985  489285164271.000000         9231.000000  \n",
       "1986  601452653181.000000        11323.000000  \n",
       "1987  745162608269.000000        13996.000000  \n",
       "1988  910122732124.000000        17072.000000  \n",
       "1989  926884816754.000000        17349.000000  \n",
       "1990 1093169389205.000000        20411.000000  \n",
       "1991 1142797178131.000000        21201.000000  \n",
       "1992 1179659529660.000000        21815.000000  \n",
       "1993 1061388722256.000000        19553.000000  \n",
       "1994 1140489745944.000000        20927.000000  \n",
       "1995 1335218557677.000000        24389.000000  \n",
       "1996 1408781591264.000000        25609.000000  \n",
       "1997 1552483628029.000000        28091.000000  \n",
       "1998 1638511096390.000000        29508.000000  \n",
       "1999 1665623685488.000000        29832.000000  \n",
       "2000 1647951278560.000000        29358.000000  \n",
       "2001 1621510004318.000000        29179.000000  \n",
       "2002 1768408273381.000000        31630.000000  \n",
       "2003 2038395102041.000000        36289.000000  \n",
       "2004 2398555474185.000000        42486.000000  \n",
       "2005 2520701818182.000000        44372.000000  \n",
       "2006 2692612695492.000000        47163.000000  \n",
       "2007 3074359743898.000000        53576.000000  \n",
       "2008 2890564338235.000000        50111.000000  \n",
       "2009 2382825985356.000000        41074.000000  \n",
       "2010 2441173394730.000000        41798.000000  \n",
       "2011 2619700404733.000000        44491.000000  \n",
       "2012 2662085168499.000000        44585.000000  \n",
       "2013 2739818680930.000000        45594.000000  \n",
       "2014 3022827781881.000000        49906.000000  \n",
       "2015 2885570309161.000000        47240.000000  \n",
       "2017 2700000000000.000000        40857.755580  \n",
       "2018 2900000000000.000000        43646.951970  \n",
       "2019 2880000000000.000000        43070.498360  \n",
       "2020 2760000000000.000000        41059.168810  "
      ]
     },
     "execution_count": 229,
     "metadata": {},
     "output_type": "execute_result"
    }
   ],
   "source": [
    "df.groupby(['country', 'year']).mean().loc['United Kingdom']"
   ]
  },
  {
   "cell_type": "code",
   "execution_count": 230,
   "id": "ff03a17d",
   "metadata": {},
   "outputs": [],
   "source": [
    "df = df.dropna(subset=['suicides_no'])"
   ]
  },
  {
   "cell_type": "markdown",
   "id": "dc4846d9",
   "metadata": {},
   "source": [
    "Now I look at the HDI. Because the HDI is connected with a country I will analyze the NaN quote of each country."
   ]
  },
  {
   "cell_type": "code",
   "execution_count": 231,
   "id": "68891639",
   "metadata": {},
   "outputs": [],
   "source": [
    "def na_separation(df, column, na_column):\n",
    "    '''\n",
    "    INPUT\n",
    "    df - pandas dataframe \n",
    "    column - column name of a dataframe for the separation of the unqiue values\n",
    "    na_column - target column for the NaN analyzation\n",
    "    \n",
    "    OUTPUT\n",
    "    dict_nan_country - dictonary with the columns as keys and the corresponding NaN-rate\n",
    "    ''' \n",
    "    \n",
    "    unique_values = list(df[column].unique())\n",
    "    # Create a dictonary to fill it with the columns as keys and the corresponding NaN-rates.\n",
    "    dict_nan_separation = {}\n",
    "    for i in unique_values:\n",
    "        dict_nan_separation[i] = df[df[column] == i][na_column].isna().sum()/len(df[df[column] == i])\n",
    "    \n",
    "    \n",
    "    # Plot a bar chart with the dictonary\n",
    "    plt.figure(figsize=(19,8))\n",
    "    ax = plt.axes()\n",
    "    plt.bar(list(dict_nan_separation.keys()), list(dict_nan_separation.values()), width=0.3, alpha=0.7)\n",
    "    plt.title(\"NaN-rate for all columns of the dataset\")\n",
    "    plt.ylabel(\"NaN-rate\")\n",
    "    plt.setp(ax.get_xticklabels(), rotation=90, ha='right')\n",
    "    plt.grid(alpha=0.5)\n",
    "    plt.show\n",
    "\n",
    "    return dict_nan_separation"
   ]
  },
  {
   "cell_type": "code",
   "execution_count": 232,
   "id": "059e4a54",
   "metadata": {
    "scrolled": false
   },
   "outputs": [
    {
     "data": {
      "image/png": "[encoded data removed]",
      "text/plain": [
       "<Figure size 1900x800 with 1 Axes>"
      ]
     },
     "metadata": {},
     "output_type": "display_data"
    }
   ],
   "source": [
    "dict_nan_separation = na_separation(df, 'country', 'HDI for year');"
   ]
  },
  {
   "cell_type": "markdown",
   "id": "41c5e732",
   "metadata": {},
   "source": [
    "Most of the countries have a really high NaN rate."
   ]
  },
  {
   "cell_type": "code",
   "execution_count": 233,
   "id": "26526e16",
   "metadata": {},
   "outputs": [
    {
     "data": {
      "text/plain": [
       "0.6491228070175439"
      ]
     },
     "execution_count": 233,
     "metadata": {},
     "output_type": "execute_result"
    }
   ],
   "source": [
    "len(dict((k, v) for k, v in dict_nan_separation.items() if v >= 0.6))/len(dict_nan_separation) # Find the rate of countries with a NaN rate over 60%"
   ]
  },
  {
   "cell_type": "markdown",
   "id": "c4cd355a",
   "metadata": {},
   "source": [
    "Almost 65% of the countries have a NaN rate of over 60%. Because the HDI coupled on the time a filling of the NaN values makes no sense. That´s why the column will deleted."
   ]
  },
  {
   "cell_type": "code",
   "execution_count": 234,
   "id": "1402d35f",
   "metadata": {},
   "outputs": [],
   "source": [
    "df = df.drop(columns=['HDI for year'], axis=1) # Drop a specific column"
   ]
  },
  {
   "cell_type": "markdown",
   "id": "be94c5f3",
   "metadata": {},
   "source": [
    "Now I can transform the suicide number to the right data type."
   ]
  },
  {
   "cell_type": "code",
   "execution_count": 235,
   "id": "6d5fed69",
   "metadata": {},
   "outputs": [],
   "source": [
    "df = df.astype({'suicides_no': int}) # Transform to int"
   ]
  },
  {
   "cell_type": "markdown",
   "id": "b11d12d9",
   "metadata": {},
   "source": [
    "Let´s move to the next point, the outlier detection."
   ]
  },
  {
   "cell_type": "markdown",
   "id": "8c0e19d1",
   "metadata": {},
   "source": [
    "I look at all values which are close to the max value to see if there abnormalities which indicates outlier."
   ]
  },
  {
   "cell_type": "code",
   "execution_count": 236,
   "id": "d1c7832c",
   "metadata": {
    "scrolled": true
   },
   "outputs": [
    {
     "name": "stdout",
     "output_type": "stream",
     "text": [
      "8\n"
     ]
    },
    {
     "data": {
      "text/html": [
       "<div>\n",
       "<style scoped>\n",
       "    .dataframe tbody tr th:only-of-type {\n",
       "        vertical-align: middle;\n",
       "    }\n",
       "\n",
       "    .dataframe tbody tr th {\n",
       "        vertical-align: top;\n",
       "    }\n",
       "\n",
       "    .dataframe thead th {\n",
       "        text-align: right;\n",
       "    }\n",
       "</style>\n",
       "<table border=\"1\" class=\"dataframe\">\n",
       "  <thead>\n",
       "    <tr style=\"text-align: right;\">\n",
       "      <th></th>\n",
       "      <th>country</th>\n",
       "      <th>year</th>\n",
       "      <th>sex</th>\n",
       "      <th>age</th>\n",
       "      <th>suicides_no</th>\n",
       "      <th>population</th>\n",
       "      <th>suicides/100k pop</th>\n",
       "      <th>gdp_for_year ($)</th>\n",
       "      <th>gdp_per_capita ($)</th>\n",
       "      <th>generation</th>\n",
       "    </tr>\n",
       "  </thead>\n",
       "  <tbody>\n",
       "    <tr>\n",
       "      <th>20984</th>\n",
       "      <td>Russian Federation</td>\n",
       "      <td>1993</td>\n",
       "      <td>male</td>\n",
       "      <td>35-54 years</td>\n",
       "      <td>20256</td>\n",
       "      <td>18908000</td>\n",
       "      <td>107.130000</td>\n",
       "      <td>435083713851.000000</td>\n",
       "      <td>3160.000000</td>\n",
       "      <td>Boomers</td>\n",
       "    </tr>\n",
       "    <tr>\n",
       "      <th>20996</th>\n",
       "      <td>Russian Federation</td>\n",
       "      <td>1994</td>\n",
       "      <td>male</td>\n",
       "      <td>35-54 years</td>\n",
       "      <td>22338</td>\n",
       "      <td>19044200</td>\n",
       "      <td>117.300000</td>\n",
       "      <td>395077301248.000000</td>\n",
       "      <td>2853.000000</td>\n",
       "      <td>Boomers</td>\n",
       "    </tr>\n",
       "    <tr>\n",
       "      <th>21008</th>\n",
       "      <td>Russian Federation</td>\n",
       "      <td>1995</td>\n",
       "      <td>male</td>\n",
       "      <td>35-54 years</td>\n",
       "      <td>21706</td>\n",
       "      <td>19249600</td>\n",
       "      <td>112.760000</td>\n",
       "      <td>395531066563.000000</td>\n",
       "      <td>2844.000000</td>\n",
       "      <td>Boomers</td>\n",
       "    </tr>\n",
       "    <tr>\n",
       "      <th>21020</th>\n",
       "      <td>Russian Federation</td>\n",
       "      <td>1996</td>\n",
       "      <td>male</td>\n",
       "      <td>35-54 years</td>\n",
       "      <td>20562</td>\n",
       "      <td>19507100</td>\n",
       "      <td>105.410000</td>\n",
       "      <td>391719993757.000000</td>\n",
       "      <td>2813.000000</td>\n",
       "      <td>Boomers</td>\n",
       "    </tr>\n",
       "    <tr>\n",
       "      <th>21057</th>\n",
       "      <td>Russian Federation</td>\n",
       "      <td>1999</td>\n",
       "      <td>male</td>\n",
       "      <td>35-54 years</td>\n",
       "      <td>20705</td>\n",
       "      <td>21016400</td>\n",
       "      <td>98.520000</td>\n",
       "      <td>195905767669.000000</td>\n",
       "      <td>1412.000000</td>\n",
       "      <td>Boomers</td>\n",
       "    </tr>\n",
       "    <tr>\n",
       "      <th>21068</th>\n",
       "      <td>Russian Federation</td>\n",
       "      <td>2000</td>\n",
       "      <td>male</td>\n",
       "      <td>35-54 years</td>\n",
       "      <td>21063</td>\n",
       "      <td>21378098</td>\n",
       "      <td>98.530000</td>\n",
       "      <td>259708496267.000000</td>\n",
       "      <td>1879.000000</td>\n",
       "      <td>Boomers</td>\n",
       "    </tr>\n",
       "    <tr>\n",
       "      <th>21080</th>\n",
       "      <td>Russian Federation</td>\n",
       "      <td>2001</td>\n",
       "      <td>male</td>\n",
       "      <td>35-54 years</td>\n",
       "      <td>21262</td>\n",
       "      <td>21476420</td>\n",
       "      <td>99.000000</td>\n",
       "      <td>306602673980.000000</td>\n",
       "      <td>2229.000000</td>\n",
       "      <td>Boomers</td>\n",
       "    </tr>\n",
       "    <tr>\n",
       "      <th>21092</th>\n",
       "      <td>Russian Federation</td>\n",
       "      <td>2002</td>\n",
       "      <td>male</td>\n",
       "      <td>35-54 years</td>\n",
       "      <td>20119</td>\n",
       "      <td>21320535</td>\n",
       "      <td>94.360000</td>\n",
       "      <td>345110438692.000000</td>\n",
       "      <td>2527.000000</td>\n",
       "      <td>Boomers</td>\n",
       "    </tr>\n",
       "  </tbody>\n",
       "</table>\n",
       "</div>"
      ],
      "text/plain": [
       "                  country  year   sex          age  suicides_no  population  \\\n",
       "20984  Russian Federation  1993  male  35-54 years        20256    18908000   \n",
       "20996  Russian Federation  1994  male  35-54 years        22338    19044200   \n",
       "21008  Russian Federation  1995  male  35-54 years        21706    19249600   \n",
       "21020  Russian Federation  1996  male  35-54 years        20562    19507100   \n",
       "21057  Russian Federation  1999  male  35-54 years        20705    21016400   \n",
       "21068  Russian Federation  2000  male  35-54 years        21063    21378098   \n",
       "21080  Russian Federation  2001  male  35-54 years        21262    21476420   \n",
       "21092  Russian Federation  2002  male  35-54 years        20119    21320535   \n",
       "\n",
       "       suicides/100k pop    gdp_for_year ($)  gdp_per_capita ($) generation  \n",
       "20984         107.130000 435083713851.000000         3160.000000    Boomers  \n",
       "20996         117.300000 395077301248.000000         2853.000000    Boomers  \n",
       "21008         112.760000 395531066563.000000         2844.000000    Boomers  \n",
       "21020         105.410000 391719993757.000000         2813.000000    Boomers  \n",
       "21057          98.520000 195905767669.000000         1412.000000    Boomers  \n",
       "21068          98.530000 259708496267.000000         1879.000000    Boomers  \n",
       "21080          99.000000 306602673980.000000         2229.000000    Boomers  \n",
       "21092          94.360000 345110438692.000000         2527.000000    Boomers  "
      ]
     },
     "execution_count": 236,
     "metadata": {},
     "output_type": "execute_result"
    }
   ],
   "source": [
    "print(len(df[df[\"suicides_no\"]>20000])) # Print the number of rows with a specific condition\n",
    "df[df[\"suicides_no\"]>20000] # Show subset of dataframe with a specific condition"
   ]
  },
  {
   "cell_type": "markdown",
   "id": "63bd1dec",
   "metadata": {},
   "source": [
    "I see here no abnormalities. The suicide rate was truly very high in this ages."
   ]
  },
  {
   "cell_type": "code",
   "execution_count": 237,
   "id": "08bd7edc",
   "metadata": {},
   "outputs": [
    {
     "name": "stdout",
     "output_type": "stream",
     "text": [
      "12\n"
     ]
    },
    {
     "data": {
      "text/html": [
       "<div>\n",
       "<style scoped>\n",
       "    .dataframe tbody tr th:only-of-type {\n",
       "        vertical-align: middle;\n",
       "    }\n",
       "\n",
       "    .dataframe tbody tr th {\n",
       "        vertical-align: top;\n",
       "    }\n",
       "\n",
       "    .dataframe thead th {\n",
       "        text-align: right;\n",
       "    }\n",
       "</style>\n",
       "<table border=\"1\" class=\"dataframe\">\n",
       "  <thead>\n",
       "    <tr style=\"text-align: right;\">\n",
       "      <th></th>\n",
       "      <th>country</th>\n",
       "      <th>year</th>\n",
       "      <th>sex</th>\n",
       "      <th>age</th>\n",
       "      <th>suicides_no</th>\n",
       "      <th>population</th>\n",
       "      <th>suicides/100k pop</th>\n",
       "      <th>gdp_for_year ($)</th>\n",
       "      <th>gdp_per_capita ($)</th>\n",
       "      <th>generation</th>\n",
       "    </tr>\n",
       "  </thead>\n",
       "  <tbody>\n",
       "    <tr>\n",
       "      <th>28078</th>\n",
       "      <td>China Hong Kong SAR</td>\n",
       "      <td>2017</td>\n",
       "      <td>male</td>\n",
       "      <td>5-14 years</td>\n",
       "      <td>3</td>\n",
       "      <td>1396215000</td>\n",
       "      <td>0.000215</td>\n",
       "      <td>12300000000000.000000</td>\n",
       "      <td>8816.986905</td>\n",
       "      <td>Generation X</td>\n",
       "    </tr>\n",
       "    <tr>\n",
       "      <th>28406</th>\n",
       "      <td>China Hong Kong SAR</td>\n",
       "      <td>2017</td>\n",
       "      <td>male</td>\n",
       "      <td>15-24 years</td>\n",
       "      <td>54</td>\n",
       "      <td>1396215000</td>\n",
       "      <td>0.003868</td>\n",
       "      <td>12300000000000.000000</td>\n",
       "      <td>8816.986905</td>\n",
       "      <td>Generation X</td>\n",
       "    </tr>\n",
       "    <tr>\n",
       "      <th>28734</th>\n",
       "      <td>China Hong Kong SAR</td>\n",
       "      <td>2017</td>\n",
       "      <td>male</td>\n",
       "      <td>25-34 years</td>\n",
       "      <td>62</td>\n",
       "      <td>1396215000</td>\n",
       "      <td>0.004441</td>\n",
       "      <td>12300000000000.000000</td>\n",
       "      <td>8816.986905</td>\n",
       "      <td>Boomers</td>\n",
       "    </tr>\n",
       "    <tr>\n",
       "      <th>29062</th>\n",
       "      <td>China Hong Kong SAR</td>\n",
       "      <td>2017</td>\n",
       "      <td>male</td>\n",
       "      <td>35-54 years</td>\n",
       "      <td>148</td>\n",
       "      <td>1396215000</td>\n",
       "      <td>0.010600</td>\n",
       "      <td>12300000000000.000000</td>\n",
       "      <td>8816.986905</td>\n",
       "      <td>Silent</td>\n",
       "    </tr>\n",
       "    <tr>\n",
       "      <th>29390</th>\n",
       "      <td>China Hong Kong SAR</td>\n",
       "      <td>2017</td>\n",
       "      <td>male</td>\n",
       "      <td>55-74 years</td>\n",
       "      <td>165</td>\n",
       "      <td>1396215000</td>\n",
       "      <td>0.011818</td>\n",
       "      <td>12300000000000.000000</td>\n",
       "      <td>8816.986905</td>\n",
       "      <td>G.I. Generation</td>\n",
       "    </tr>\n",
       "    <tr>\n",
       "      <th>29718</th>\n",
       "      <td>China Hong Kong SAR</td>\n",
       "      <td>2017</td>\n",
       "      <td>male</td>\n",
       "      <td>75+ years</td>\n",
       "      <td>95</td>\n",
       "      <td>1396215000</td>\n",
       "      <td>0.006804</td>\n",
       "      <td>12300000000000.000000</td>\n",
       "      <td>8816.986905</td>\n",
       "      <td>G.I. Generation</td>\n",
       "    </tr>\n",
       "    <tr>\n",
       "      <th>30046</th>\n",
       "      <td>China Hong Kong SAR</td>\n",
       "      <td>2017</td>\n",
       "      <td>female</td>\n",
       "      <td>5-14 years</td>\n",
       "      <td>2</td>\n",
       "      <td>1396215000</td>\n",
       "      <td>0.000143</td>\n",
       "      <td>12300000000000.000000</td>\n",
       "      <td>8816.986905</td>\n",
       "      <td>Generation X</td>\n",
       "    </tr>\n",
       "    <tr>\n",
       "      <th>30374</th>\n",
       "      <td>China Hong Kong SAR</td>\n",
       "      <td>2017</td>\n",
       "      <td>female</td>\n",
       "      <td>15-24 years</td>\n",
       "      <td>21</td>\n",
       "      <td>1396215000</td>\n",
       "      <td>0.001504</td>\n",
       "      <td>12300000000000.000000</td>\n",
       "      <td>8816.986905</td>\n",
       "      <td>Generation X</td>\n",
       "    </tr>\n",
       "    <tr>\n",
       "      <th>30702</th>\n",
       "      <td>China Hong Kong SAR</td>\n",
       "      <td>2017</td>\n",
       "      <td>female</td>\n",
       "      <td>25-34 years</td>\n",
       "      <td>48</td>\n",
       "      <td>1396215000</td>\n",
       "      <td>0.003438</td>\n",
       "      <td>12300000000000.000000</td>\n",
       "      <td>8816.986905</td>\n",
       "      <td>Boomers</td>\n",
       "    </tr>\n",
       "    <tr>\n",
       "      <th>31030</th>\n",
       "      <td>China Hong Kong SAR</td>\n",
       "      <td>2017</td>\n",
       "      <td>female</td>\n",
       "      <td>35-54 years</td>\n",
       "      <td>99</td>\n",
       "      <td>1396215000</td>\n",
       "      <td>0.007091</td>\n",
       "      <td>12300000000000.000000</td>\n",
       "      <td>8816.986905</td>\n",
       "      <td>Silent</td>\n",
       "    </tr>\n",
       "    <tr>\n",
       "      <th>31358</th>\n",
       "      <td>China Hong Kong SAR</td>\n",
       "      <td>2017</td>\n",
       "      <td>female</td>\n",
       "      <td>55-74 years</td>\n",
       "      <td>87</td>\n",
       "      <td>1396215000</td>\n",
       "      <td>0.006231</td>\n",
       "      <td>12300000000000.000000</td>\n",
       "      <td>8816.986905</td>\n",
       "      <td>G.I. Generation</td>\n",
       "    </tr>\n",
       "    <tr>\n",
       "      <th>31686</th>\n",
       "      <td>China Hong Kong SAR</td>\n",
       "      <td>2017</td>\n",
       "      <td>female</td>\n",
       "      <td>75+ years</td>\n",
       "      <td>56</td>\n",
       "      <td>1396215000</td>\n",
       "      <td>0.004011</td>\n",
       "      <td>12300000000000.000000</td>\n",
       "      <td>8816.986905</td>\n",
       "      <td>G.I. Generation</td>\n",
       "    </tr>\n",
       "  </tbody>\n",
       "</table>\n",
       "</div>"
      ],
      "text/plain": [
       "                   country  year     sex          age  suicides_no  \\\n",
       "28078  China Hong Kong SAR  2017    male   5-14 years            3   \n",
       "28406  China Hong Kong SAR  2017    male  15-24 years           54   \n",
       "28734  China Hong Kong SAR  2017    male  25-34 years           62   \n",
       "29062  China Hong Kong SAR  2017    male  35-54 years          148   \n",
       "29390  China Hong Kong SAR  2017    male  55-74 years          165   \n",
       "29718  China Hong Kong SAR  2017    male    75+ years           95   \n",
       "30046  China Hong Kong SAR  2017  female   5-14 years            2   \n",
       "30374  China Hong Kong SAR  2017  female  15-24 years           21   \n",
       "30702  China Hong Kong SAR  2017  female  25-34 years           48   \n",
       "31030  China Hong Kong SAR  2017  female  35-54 years           99   \n",
       "31358  China Hong Kong SAR  2017  female  55-74 years           87   \n",
       "31686  China Hong Kong SAR  2017  female    75+ years           56   \n",
       "\n",
       "       population  suicides/100k pop      gdp_for_year ($)  \\\n",
       "28078  1396215000           0.000215 12300000000000.000000   \n",
       "28406  1396215000           0.003868 12300000000000.000000   \n",
       "28734  1396215000           0.004441 12300000000000.000000   \n",
       "29062  1396215000           0.010600 12300000000000.000000   \n",
       "29390  1396215000           0.011818 12300000000000.000000   \n",
       "29718  1396215000           0.006804 12300000000000.000000   \n",
       "30046  1396215000           0.000143 12300000000000.000000   \n",
       "30374  1396215000           0.001504 12300000000000.000000   \n",
       "30702  1396215000           0.003438 12300000000000.000000   \n",
       "31030  1396215000           0.007091 12300000000000.000000   \n",
       "31358  1396215000           0.006231 12300000000000.000000   \n",
       "31686  1396215000           0.004011 12300000000000.000000   \n",
       "\n",
       "       gdp_per_capita ($)       generation  \n",
       "28078         8816.986905     Generation X  \n",
       "28406         8816.986905     Generation X  \n",
       "28734         8816.986905          Boomers  \n",
       "29062         8816.986905           Silent  \n",
       "29390         8816.986905  G.I. Generation  \n",
       "29718         8816.986905  G.I. Generation  \n",
       "30046         8816.986905     Generation X  \n",
       "30374         8816.986905     Generation X  \n",
       "30702         8816.986905          Boomers  \n",
       "31030         8816.986905           Silent  \n",
       "31358         8816.986905  G.I. Generation  \n",
       "31686         8816.986905  G.I. Generation  "
      ]
     },
     "execution_count": 237,
     "metadata": {},
     "output_type": "execute_result"
    }
   ],
   "source": [
    "print(len(df[df[\"population\"]>(1*10**9)])) # Print the number of rows with a specific condition\n",
    "df[df[\"population\"]>(1*10**9)] # Show subset of dataframe with a specific condition"
   ]
  },
  {
   "cell_type": "markdown",
   "id": "00b0e6d1",
   "metadata": {},
   "source": [
    "The high population numbers are also plausible. China has the one of the highest people density at this age."
   ]
  },
  {
   "cell_type": "code",
   "execution_count": 238,
   "id": "3efccc79",
   "metadata": {
    "scrolled": true
   },
   "outputs": [
    {
     "name": "stdout",
     "output_type": "stream",
     "text": [
      "8\n"
     ]
    },
    {
     "data": {
      "text/html": [
       "<div>\n",
       "<style scoped>\n",
       "    .dataframe tbody tr th:only-of-type {\n",
       "        vertical-align: middle;\n",
       "    }\n",
       "\n",
       "    .dataframe tbody tr th {\n",
       "        vertical-align: top;\n",
       "    }\n",
       "\n",
       "    .dataframe thead th {\n",
       "        text-align: right;\n",
       "    }\n",
       "</style>\n",
       "<table border=\"1\" class=\"dataframe\">\n",
       "  <thead>\n",
       "    <tr style=\"text-align: right;\">\n",
       "      <th></th>\n",
       "      <th>country</th>\n",
       "      <th>year</th>\n",
       "      <th>sex</th>\n",
       "      <th>age</th>\n",
       "      <th>suicides_no</th>\n",
       "      <th>population</th>\n",
       "      <th>suicides/100k pop</th>\n",
       "      <th>gdp_for_year ($)</th>\n",
       "      <th>gdp_per_capita ($)</th>\n",
       "      <th>generation</th>\n",
       "    </tr>\n",
       "  </thead>\n",
       "  <tbody>\n",
       "    <tr>\n",
       "      <th>29028</th>\n",
       "      <td>Republic of Korea</td>\n",
       "      <td>2018</td>\n",
       "      <td>male</td>\n",
       "      <td>35-54 years</td>\n",
       "      <td>1495</td>\n",
       "      <td>297298</td>\n",
       "      <td>502.862448</td>\n",
       "      <td>50500000000000.000000</td>\n",
       "      <td>45492.802020</td>\n",
       "      <td>Silent</td>\n",
       "    </tr>\n",
       "    <tr>\n",
       "      <th>29110</th>\n",
       "      <td>Republic of Korea</td>\n",
       "      <td>2017</td>\n",
       "      <td>male</td>\n",
       "      <td>35-54 years</td>\n",
       "      <td>1495</td>\n",
       "      <td>290239</td>\n",
       "      <td>515.092734</td>\n",
       "      <td>47600000000000.000000</td>\n",
       "      <td>43033.440800</td>\n",
       "      <td>Silent</td>\n",
       "    </tr>\n",
       "    <tr>\n",
       "      <th>29356</th>\n",
       "      <td>Republic of Korea</td>\n",
       "      <td>2018</td>\n",
       "      <td>male</td>\n",
       "      <td>55-74 years</td>\n",
       "      <td>1495</td>\n",
       "      <td>297298</td>\n",
       "      <td>502.862448</td>\n",
       "      <td>50500000000000.000000</td>\n",
       "      <td>45492.802020</td>\n",
       "      <td>G.I. Generation</td>\n",
       "    </tr>\n",
       "    <tr>\n",
       "      <th>29438</th>\n",
       "      <td>Republic of Korea</td>\n",
       "      <td>2017</td>\n",
       "      <td>male</td>\n",
       "      <td>55-74 years</td>\n",
       "      <td>1495</td>\n",
       "      <td>290239</td>\n",
       "      <td>515.092734</td>\n",
       "      <td>47600000000000.000000</td>\n",
       "      <td>43033.440800</td>\n",
       "      <td>G.I. Generation</td>\n",
       "    </tr>\n",
       "    <tr>\n",
       "      <th>29684</th>\n",
       "      <td>Republic of Korea</td>\n",
       "      <td>2018</td>\n",
       "      <td>male</td>\n",
       "      <td>75+ years</td>\n",
       "      <td>1495</td>\n",
       "      <td>297298</td>\n",
       "      <td>502.862448</td>\n",
       "      <td>50500000000000.000000</td>\n",
       "      <td>45492.802020</td>\n",
       "      <td>G.I. Generation</td>\n",
       "    </tr>\n",
       "    <tr>\n",
       "      <th>29766</th>\n",
       "      <td>Republic of Korea</td>\n",
       "      <td>2017</td>\n",
       "      <td>male</td>\n",
       "      <td>75+ years</td>\n",
       "      <td>1495</td>\n",
       "      <td>290239</td>\n",
       "      <td>515.092734</td>\n",
       "      <td>47600000000000.000000</td>\n",
       "      <td>43033.440800</td>\n",
       "      <td>G.I. Generation</td>\n",
       "    </tr>\n",
       "    <tr>\n",
       "      <th>30996</th>\n",
       "      <td>Republic of Korea</td>\n",
       "      <td>2018</td>\n",
       "      <td>female</td>\n",
       "      <td>35-54 years</td>\n",
       "      <td>1495</td>\n",
       "      <td>297298</td>\n",
       "      <td>502.862448</td>\n",
       "      <td>50500000000000.000000</td>\n",
       "      <td>45492.802020</td>\n",
       "      <td>Silent</td>\n",
       "    </tr>\n",
       "    <tr>\n",
       "      <th>31078</th>\n",
       "      <td>Republic of Korea</td>\n",
       "      <td>2017</td>\n",
       "      <td>female</td>\n",
       "      <td>35-54 years</td>\n",
       "      <td>1495</td>\n",
       "      <td>290239</td>\n",
       "      <td>515.092734</td>\n",
       "      <td>47600000000000.000000</td>\n",
       "      <td>43033.440800</td>\n",
       "      <td>Silent</td>\n",
       "    </tr>\n",
       "  </tbody>\n",
       "</table>\n",
       "</div>"
      ],
      "text/plain": [
       "                 country  year     sex          age  suicides_no  population  \\\n",
       "29028  Republic of Korea  2018    male  35-54 years         1495      297298   \n",
       "29110  Republic of Korea  2017    male  35-54 years         1495      290239   \n",
       "29356  Republic of Korea  2018    male  55-74 years         1495      297298   \n",
       "29438  Republic of Korea  2017    male  55-74 years         1495      290239   \n",
       "29684  Republic of Korea  2018    male    75+ years         1495      297298   \n",
       "29766  Republic of Korea  2017    male    75+ years         1495      290239   \n",
       "30996  Republic of Korea  2018  female  35-54 years         1495      297298   \n",
       "31078  Republic of Korea  2017  female  35-54 years         1495      290239   \n",
       "\n",
       "       suicides/100k pop      gdp_for_year ($)  gdp_per_capita ($)  \\\n",
       "29028         502.862448 50500000000000.000000        45492.802020   \n",
       "29110         515.092734 47600000000000.000000        43033.440800   \n",
       "29356         502.862448 50500000000000.000000        45492.802020   \n",
       "29438         515.092734 47600000000000.000000        43033.440800   \n",
       "29684         502.862448 50500000000000.000000        45492.802020   \n",
       "29766         515.092734 47600000000000.000000        43033.440800   \n",
       "30996         502.862448 50500000000000.000000        45492.802020   \n",
       "31078         515.092734 47600000000000.000000        43033.440800   \n",
       "\n",
       "            generation  \n",
       "29028           Silent  \n",
       "29110           Silent  \n",
       "29356  G.I. Generation  \n",
       "29438  G.I. Generation  \n",
       "29684  G.I. Generation  \n",
       "29766  G.I. Generation  \n",
       "30996           Silent  \n",
       "31078           Silent  "
      ]
     },
     "execution_count": 238,
     "metadata": {},
     "output_type": "execute_result"
    }
   ],
   "source": [
    "print(len(df[df[\"suicides/100k pop\"]>500])) # Print the number of rows with a specific condition\n",
    "df[df[\"suicides/100k pop\"]>500] # Show subset of dataframe with a specific condition"
   ]
  },
  {
   "cell_type": "markdown",
   "id": "7274b6a3",
   "metadata": {},
   "source": [
    "Also here I see no abnormalities."
   ]
  },
  {
   "cell_type": "markdown",
   "id": "b1cb6175",
   "metadata": {},
   "source": [
    "Finally I analyze why USA appears two times as a value for the column \"country\"."
   ]
  },
  {
   "cell_type": "markdown",
   "id": "8a3b19b5",
   "metadata": {},
   "source": [
    "My assumption is that the column is splitted by the years."
   ]
  },
  {
   "cell_type": "code",
   "execution_count": 239,
   "id": "f4eaa007",
   "metadata": {},
   "outputs": [
    {
     "data": {
      "text/plain": [
       "26848    1985\n",
       "26859    1985\n",
       "26858    1985\n",
       "26857    1985\n",
       "26855    1985\n",
       "         ... \n",
       "27209    2015\n",
       "27208    2015\n",
       "27218    2015\n",
       "27212    2015\n",
       "27219    2015\n",
       "Name: year, Length: 372, dtype: int64"
      ]
     },
     "execution_count": 239,
     "metadata": {},
     "output_type": "execute_result"
    }
   ],
   "source": [
    "df[df[\"country\"]==\"United States\"]['year'].sort_values() # Show a sorted subset of dataframe with a specific condition"
   ]
  },
  {
   "cell_type": "code",
   "execution_count": 240,
   "id": "7ea8a299",
   "metadata": {
    "scrolled": true
   },
   "outputs": [
    {
     "data": {
      "text/plain": [
       "29785    2017\n",
       "31425    2017\n",
       "31097    2017\n",
       "30769    2017\n",
       "30441    2017\n",
       "30113    2017\n",
       "29457    2017\n",
       "29129    2017\n",
       "28801    2017\n",
       "31753    2017\n",
       "28145    2017\n",
       "28473    2017\n",
       "28719    2018\n",
       "30687    2018\n",
       "28063    2018\n",
       "30359    2018\n",
       "30031    2018\n",
       "31015    2018\n",
       "29703    2018\n",
       "31343    2018\n",
       "31671    2018\n",
       "29375    2018\n",
       "29047    2018\n",
       "28391    2018\n",
       "29621    2019\n",
       "31589    2019\n",
       "30605    2019\n",
       "28965    2019\n",
       "30277    2019\n",
       "28309    2019\n",
       "27981    2019\n",
       "29949    2019\n",
       "31261    2019\n",
       "29293    2019\n",
       "28637    2019\n",
       "30933    2019\n",
       "31179    2020\n",
       "31507    2020\n",
       "30195    2020\n",
       "30523    2020\n",
       "28227    2020\n",
       "29867    2020\n",
       "29539    2020\n",
       "29211    2020\n",
       "28883    2020\n",
       "28555    2020\n",
       "30851    2020\n",
       "27899    2020\n",
       "Name: year, dtype: int64"
      ]
     },
     "execution_count": 240,
     "metadata": {},
     "output_type": "execute_result"
    }
   ],
   "source": [
    "df[df[\"country\"]==\"United States of America\"]['year'].sort_values() # Show a sorted subset of dataframe with a specific condition"
   ]
  },
  {
   "cell_type": "markdown",
   "id": "ed11f979",
   "metadata": {},
   "source": [
    "My assumption was true. Now I need to connected both subsets."
   ]
  },
  {
   "cell_type": "markdown",
   "id": "49f3ece6",
   "metadata": {},
   "source": [
    "I just rename both name to \"USA\"."
   ]
  },
  {
   "cell_type": "code",
   "execution_count": 241,
   "id": "da4837f8",
   "metadata": {},
   "outputs": [],
   "source": [
    "df = df.replace('United States of America', 'USA') # Rename specific rows\n",
    "df = df.replace('United States', 'USA') # Rename specific rows"
   ]
  },
  {
   "cell_type": "markdown",
   "id": "1a950894",
   "metadata": {},
   "source": [
    "## 4. Analyzation an Modelling"
   ]
  },
  {
   "cell_type": "markdown",
   "id": "2068a8f9",
   "metadata": {},
   "source": [
    "### 4.1. Top 5 countries with the highest suicide rate over the years"
   ]
  },
  {
   "cell_type": "markdown",
   "id": "8da4c827",
   "metadata": {},
   "source": []
  },
  {
   "cell_type": "code",
   "execution_count": 242,
   "id": "e0cd1301",
   "metadata": {},
   "outputs": [],
   "source": [
    "df_gb_c_y = df.groupby(['country', 'year']).mean()"
   ]
  },
  {
   "cell_type": "code",
   "execution_count": 243,
   "id": "99785001",
   "metadata": {},
   "outputs": [],
   "source": [
    "top_countries = df.groupby(['country']).mean().nlargest(50, 'gdp_for_year ($)').index.tolist()"
   ]
  },
  {
   "cell_type": "code",
   "execution_count": 244,
   "id": "77c2fab2",
   "metadata": {
    "scrolled": false
   },
   "outputs": [
    {
     "data": {
      "application/vnd.plotly.v1+json": {
       "config": {
        "plotlyServerURL": "https://plot.ly"
       },
       "data": [
        {
         "line": {
          "color": "#471063"
         },
         "name": "USA",
         "type": "scatter",
         "x": [
          1985,
          1986,
          1987,
          1988,
          1989,
          1990,
          1991,
          1992,
          1993,
          1994,
          1995,
          1996,
          1997,
          1998,
          1999,
          2000,
          2001,
          2002,
          2003,
          2004,
          2005,
          2006,
          2007,
          2008,
          2009,
          2010,
          2011,
          2012,
          2013,
          2014,
          2015,
          2017,
          2018,
          2019,
          2020
         ],
         "y": [
          15.393333333333333,
          15.970833333333333,
          15.971666666666666,
          15.6425,
          15.203333333333333,
          15.65,
          15.314166666666667,
          14.814166666666667,
          14.926666666666668,
          14.669166666666667,
          14.424166666666666,
          13.870833333333332,
          13.496666666666668,
          13.375833333333333,
          12.564166666666667,
          12.215000000000002,
          12.351666666666667,
          12.501666666666667,
          12.136666666666665,
          12.241666666666667,
          12.223333333333334,
          12.094166666666666,
          12.426666666666668,
          12.770000000000001,
          12.849166666666667,
          13.240833333333333,
          13.530000000000001,
          13.761666666666665,
          13.889166666666668,
          14.277500000000002,
          14.6175,
          0.4077185831666667,
          0.412028542,
          0.3697753805,
          0.36643922858333333
         ]
        },
        {
         "line": {
          "color": "#481769"
         },
         "name": "Republic of Korea",
         "type": "scatter",
         "x": [
          1985,
          1986,
          1987,
          1988,
          1989,
          1990,
          1991,
          1992,
          1993,
          1994,
          1995,
          1996,
          1997,
          1998,
          1999,
          2000,
          2001,
          2002,
          2003,
          2004,
          2005,
          2006,
          2007,
          2008,
          2009,
          2010,
          2011,
          2012,
          2013,
          2014,
          2015,
          2017,
          2018,
          2019
         ],
         "y": [
          12.220833333333333,
          11.9425,
          10.686666666666667,
          9.548333333333334,
          10.116666666666667,
          10.044166666666667,
          9.681666666666667,
          10.615833333333333,
          13.29,
          13.783333333333333,
          14.94,
          18.0825,
          18.900000000000002,
          25.19333333333333,
          21.459999999999997,
          20.715833333333332,
          22.795,
          30.08666666666667,
          37.843333333333334,
          39.141666666666666,
          39.92,
          35.038333333333334,
          38.87833333333334,
          37.69,
          43.29333333333333,
          43.18333333333334,
          42.92083333333333,
          36.93833333333333,
          35.714166666666664,
          32.11083333333333,
          32.428333333333335,
          275.63490778416667,
          276.57434628883334,
          274.0327547140833
         ]
        },
        {
         "line": {
          "color": "#481d6f"
         },
         "name": "Japan",
         "type": "scatter",
         "x": [
          1985,
          1986,
          1987,
          1988,
          1989,
          1990,
          1991,
          1992,
          1993,
          1994,
          1995,
          1996,
          1997,
          1998,
          1999,
          2000,
          2001,
          2002,
          2003,
          2004,
          2005,
          2006,
          2007,
          2008,
          2009,
          2010,
          2011,
          2012,
          2013,
          2014,
          2015,
          2017,
          2018,
          2019
         ],
         "y": [
          25.039166666666663,
          26.962500000000002,
          24.6075,
          23.72666666666667,
          21.951666666666668,
          20.530833333333334,
          19.5425,
          20.023333333333333,
          18.675,
          19.079166666666666,
          19.010833333333334,
          19.04,
          19.781666666666666,
          25.55,
          24.90833333333333,
          23.209999999999997,
          22.263333333333335,
          22.153333333333332,
          23.284166666666664,
          22.1875,
          22.24083333333333,
          21.853333333333335,
          22.396666666666665,
          22.11,
          22.224166666666665,
          21.29,
          21.034166666666668,
          19.474999999999998,
          19.263333333333332,
          18.184166666666666,
          17.169999999999998,
          0.8890411534166667,
          0.880049838,
          0.8461459494999999
         ]
        },
        {
         "line": {
          "color": "#472a7a"
         },
         "name": "United Kingdom",
         "type": "scatter",
         "x": [
          1985,
          1986,
          1987,
          1988,
          1989,
          1990,
          1991,
          1992,
          1993,
          1994,
          1995,
          1996,
          1997,
          1998,
          1999,
          2000,
          2001,
          2002,
          2003,
          2004,
          2005,
          2006,
          2007,
          2008,
          2009,
          2010,
          2011,
          2012,
          2013,
          2014,
          2015,
          2017,
          2018,
          2019
         ],
         "y": [
          9.704166666666667,
          9.334166666666667,
          8.650833333333333,
          9.545833333333333,
          8.265833333333333,
          8.611666666666666,
          8.233333333333333,
          8.229166666666666,
          8.070833333333333,
          7.896666666666667,
          7.695,
          7.36,
          7.398333333333333,
          7.5633333333333335,
          7.703333333333333,
          7.2775,
          7.095,
          6.892499999999999,
          6.679166666666667,
          6.8933333333333335,
          6.596666666666667,
          6.514166666666667,
          6.243333333333333,
          6.725833333333333,
          6.5,
          6.450833333333333,
          6.524166666666667,
          6.6225,
          7.076666666666667,
          6.9941666666666675,
          7.228333333333333,
          0.5777675733333333,
          0.6289464886666667,
          0.7277728869166666
         ]
        },
        {
         "line": {
          "color": "#453781"
         },
         "name": "Italy",
         "type": "scatter",
         "x": [
          1985,
          1986,
          1987,
          1988,
          1989,
          1990,
          1991,
          1992,
          1993,
          1994,
          1995,
          1996,
          1997,
          1998,
          1999,
          2000,
          2001,
          2002,
          2003,
          2004,
          2005,
          2006,
          2007,
          2008,
          2009,
          2010,
          2011,
          2012,
          2013,
          2014,
          2015,
          2017
         ],
         "y": [
          11.116666666666667,
          10.920833333333334,
          10.461666666666668,
          10.150833333333333,
          9.72,
          10.165000000000001,
          9.655833333333334,
          9.623333333333333,
          10.095,
          9.910833333333333,
          9.834166666666667,
          9.620833333333334,
          9.753333333333334,
          9.486666666666666,
          8.31,
          8.268333333333333,
          7.989166666666667,
          7.884166666666666,
          7.868333333333333,
          7.610833333333333,
          6.8825,
          6.800833333333333,
          6.830000000000001,
          6.8075,
          6.8275,
          6.730833333333333,
          7.173333333333333,
          7.120833333333334,
          7.071666666666666,
          6.844166666666666,
          6.5375000000000005,
          0.5423706355833333
         ]
        },
        {
         "line": {
          "color": "#414287"
         },
         "name": "Brazil",
         "type": "scatter",
         "x": [
          1985,
          1986,
          1987,
          1988,
          1989,
          1990,
          1991,
          1992,
          1993,
          1994,
          1995,
          1996,
          1997,
          1998,
          1999,
          2000,
          2001,
          2002,
          2003,
          2004,
          2005,
          2006,
          2007,
          2008,
          2009,
          2010,
          2011,
          2012,
          2013,
          2014,
          2015,
          2017,
          2018,
          2019
         ],
         "y": [
          4.931666666666667,
          4.763333333333333,
          5.843333333333334,
          5.446666666666666,
          5.335,
          5.588333333333334,
          5.695,
          5.41,
          5.655,
          5.959166666666667,
          6.27,
          6.110833333333333,
          6.3999999999999995,
          6.254166666666666,
          5.637499999999999,
          5.685833333333334,
          6.1241666666666665,
          5.814166666666666,
          5.672499999999999,
          5.851666666666667,
          6.133333333333333,
          5.824999999999999,
          5.973333333333334,
          6.017499999999999,
          5.864166666666667,
          6.060833333333334,
          6.034166666666667,
          6.204166666666667,
          6.1175,
          6.094166666666666,
          6.454166666666667,
          0.38708111941666673,
          0.38814446774999994,
          0.38923511716666664
         ]
        },
        {
         "line": {
          "color": "#3f4889"
         },
         "name": "Canada",
         "type": "scatter",
         "x": [
          1985,
          1986,
          1987,
          1988,
          1989,
          1990,
          1991,
          1992,
          1993,
          1994,
          1995,
          1996,
          1997,
          1998,
          1999,
          2000,
          2001,
          2002,
          2003,
          2004,
          2005,
          2006,
          2007,
          2008,
          2009,
          2010,
          2011,
          2012,
          2013,
          2017,
          2018,
          2019
         ],
         "y": [
          13.871666666666668,
          15.8425,
          14.944166666666666,
          14.615,
          14.248333333333333,
          13.751666666666667,
          13.981666666666667,
          13.633333333333333,
          13.668333333333335,
          13.4925,
          13.626666666666667,
          13.574166666666665,
          12.619166666666667,
          12.51,
          13.203333333333333,
          11.583333333333334,
          11.4525,
          11.4775,
          11.439166666666667,
          10.971666666666666,
          11.153333333333334,
          10.535833333333333,
          10.620833333333334,
          10.6325,
          10.889166666666666,
          11.055833333333332,
          10.418333333333333,
          10.656666666666666,
          11.090833333333334,
          1.0345625714166666,
          0.962046473,
          0.9860049790833334
         ]
        },
        {
         "line": {
          "color": "#3a538b"
         },
         "name": "Spain",
         "type": "scatter",
         "x": [
          1985,
          1986,
          1987,
          1988,
          1989,
          1990,
          1991,
          1992,
          1993,
          1994,
          1995,
          1996,
          1997,
          1998,
          1999,
          2000,
          2001,
          2002,
          2003,
          2004,
          2005,
          2006,
          2007,
          2008,
          2009,
          2010,
          2011,
          2012,
          2013,
          2014,
          2015,
          2017,
          2018,
          2019,
          2020
         ],
         "y": [
          9.5775,
          9.985833333333334,
          10.178333333333333,
          10.606666666666667,
          10.540833333333333,
          10.770000000000001,
          10.153333333333332,
          9.9175,
          10.070833333333335,
          10.360000000000001,
          10.3175,
          10.544166666666667,
          10.943333333333333,
          10.336666666666668,
          9.923333333333334,
          10.184166666666668,
          9.366666666666667,
          9.636666666666667,
          9.7075,
          9.385833333333334,
          8.971666666666666,
          8.3225,
          8.245833333333334,
          8.209999999999999,
          8.168333333333333,
          7.286666666666666,
          7.3825,
          8.073333333333332,
          8.443333333333333,
          8.695833333333335,
          8.115,
          0.7374103256666666,
          0.63055020425,
          0.7264619725833333,
          0.7686652561666666
         ]
        },
        {
         "line": {
          "color": "#355e8d"
         },
         "name": "Mexico",
         "type": "scatter",
         "x": [
          1985,
          1986,
          1987,
          1988,
          1989,
          1990,
          1991,
          1992,
          1993,
          1994,
          1995,
          1996,
          1997,
          1998,
          1999,
          2000,
          2001,
          2002,
          2003,
          2004,
          2005,
          2006,
          2007,
          2008,
          2009,
          2010,
          2011,
          2012,
          2013,
          2014,
          2015,
          2017,
          2018,
          2019,
          2020
         ],
         "y": [
          3.1808333333333336,
          3.811666666666667,
          3.4525,
          3.518333333333333,
          4.0216666666666665,
          4.070833333333334,
          3.9741666666666666,
          4.339166666666666,
          4.333333333333333,
          4.66,
          4.924166666666667,
          4.694166666666667,
          4.755833333333333,
          4.736666666666667,
          4.574166666666667,
          4.574166666666667,
          5.2749999999999995,
          4.863333333333333,
          5.25,
          5.0625,
          5.185,
          4.935,
          4.8341666666666665,
          5.069166666666667,
          5.345,
          5.0841666666666665,
          5.46,
          5.285833333333334,
          5.415833333333333,
          5.698333333333333,
          5.547499999999999,
          0.44319436291666664,
          0.44262525366666666,
          0.44656189350000003,
          0.46237395583333335
         ]
        },
        {
         "line": {
          "color": "#33638d"
         },
         "name": "Australia",
         "type": "scatter",
         "x": [
          1985,
          1986,
          1987,
          1988,
          1989,
          1990,
          1991,
          1992,
          1993,
          1994,
          1995,
          1996,
          1997,
          1998,
          1999,
          2000,
          2001,
          2002,
          2003,
          2004,
          2006,
          2007,
          2008,
          2009,
          2010,
          2011,
          2012,
          2013,
          2014,
          2015,
          2017,
          2018,
          2019,
          2020
         ],
         "y": [
          13.6175,
          14.649166666666666,
          15.735,
          14.943333333333333,
          14.009166666666667,
          14.362499999999999,
          15.012500000000001,
          14.22,
          12.912500000000001,
          13.979166666666666,
          12.9325,
          14.611666666666666,
          15.5775,
          14.700833333333334,
          13.929166666666667,
          13.151666666666666,
          13.2325,
          12.056666666666667,
          11.153333333333334,
          11.146666666666667,
          10.6575,
          10.854166666666666,
          10.874166666666667,
          10.843333333333334,
          11.053333333333335,
          11.101666666666667,
          11.630833333333333,
          11.565,
          12.4225,
          12.848333333333334,
          1.1151002175833333,
          1.06542157075,
          1.09115087675,
          1.01960782175
         ]
        },
        {
         "line": {
          "color": "#31688e"
         },
         "name": "Netherlands",
         "type": "scatter",
         "x": [
          1985,
          1986,
          1987,
          1988,
          1989,
          1990,
          1991,
          1992,
          1993,
          1994,
          1995,
          1996,
          1997,
          1998,
          1999,
          2000,
          2001,
          2002,
          2003,
          2004,
          2005,
          2006,
          2007,
          2008,
          2009,
          2010,
          2011,
          2012,
          2013,
          2014,
          2015,
          2016,
          2017,
          2018,
          2019,
          2020
         ],
         "y": [
          13.324166666666668,
          13.19,
          13.097500000000002,
          12.299999999999999,
          11.334166666666667,
          11.347499999999998,
          12.540833333333333,
          11.957500000000001,
          11.331666666666665,
          11.413333333333334,
          10.418333333333333,
          11.255833333333333,
          11.380833333333333,
          10.708333333333334,
          10.263333333333334,
          9.915833333333333,
          9.691666666666666,
          9.977500000000001,
          9.444166666666666,
          9.263333333333334,
          9.44,
          9.4325,
          8.12,
          8.5075,
          9.025,
          9.124166666666667,
          9.423333333333334,
          9.875833333333334,
          10.460833333333333,
          10.118333333333334,
          10.5775,
          12.739,
          0.9325038805833333,
          0.8850007405833332,
          0.8700937616666667,
          0.8714846772500001
         ]
        },
        {
         "line": {
          "color": "#2c718e"
         },
         "name": "Sweden",
         "type": "scatter",
         "x": [
          1987,
          1988,
          1989,
          1990,
          1991,
          1992,
          1993,
          1994,
          1995,
          1996,
          1997,
          1998,
          1999,
          2000,
          2001,
          2002,
          2003,
          2004,
          2005,
          2006,
          2007,
          2008,
          2009,
          2010,
          2011,
          2012,
          2013,
          2014,
          2015,
          2016,
          2017,
          2018
         ],
         "y": [
          19.2425,
          19.305833333333332,
          19.861666666666668,
          18.504166666666666,
          18.128333333333334,
          16.731666666666666,
          16.7475,
          16.3075,
          15.976666666666667,
          14.853333333333333,
          13.9325,
          14.65,
          14.386666666666665,
          13.541666666666666,
          13.957500000000001,
          13.559166666666668,
          12.784166666666666,
          13.1175,
          13.718333333333334,
          13.396666666666667,
          12.282499999999999,
          12.973333333333334,
          13.366666666666667,
          12.211666666666666,
          11.814166666666667,
          12.3425,
          13.183333333333335,
          12.420833333333334,
          12.441666666666668,
          13.884,
          0.9859777723333333,
          1.04174713175
         ]
        },
        {
         "line": {
          "color": "#2a768e"
         },
         "name": "Belgium",
         "type": "scatter",
         "x": [
          1985,
          1986,
          1987,
          1988,
          1989,
          1990,
          1991,
          1992,
          1993,
          1994,
          1995,
          1996,
          1997,
          1998,
          1999,
          2000,
          2001,
          2002,
          2003,
          2004,
          2005,
          2006,
          2007,
          2008,
          2009,
          2010,
          2011,
          2012,
          2013,
          2014,
          2015,
          2017,
          2018
         ],
         "y": [
          27.67,
          26.224166666666665,
          27.313333333333333,
          23.650000000000002,
          23.7375,
          23.0925,
          22.001666666666665,
          22.156666666666666,
          25.03916666666667,
          25.03333333333333,
          23.825,
          22.295,
          23.728333333333335,
          22.061666666666667,
          19.224999999999998,
          22.316666666666666,
          21.76833333333333,
          20.654999999999998,
          20.7275,
          19.255,
          19.3125,
          17.908333333333335,
          17.38083333333333,
          18.461666666666666,
          18.195833333333333,
          18.348333333333333,
          18.892500000000002,
          18.094166666666666,
          16.79583333333333,
          16.820833333333333,
          16.388333333333332,
          1.2637187105,
          1.3075694459166667
         ]
        },
        {
         "line": {
          "color": "#27808e"
         },
         "name": "Argentina",
         "type": "scatter",
         "x": [
          1985,
          1986,
          1987,
          1988,
          1989,
          1990,
          1991,
          1992,
          1993,
          1994,
          1995,
          1996,
          1997,
          1998,
          1999,
          2000,
          2001,
          2002,
          2003,
          2004,
          2005,
          2006,
          2007,
          2008,
          2009,
          2010,
          2011,
          2012,
          2013,
          2014,
          2015,
          2017,
          2018,
          2019
         ],
         "y": [
          11.205833333333333,
          12.741666666666667,
          12.081666666666665,
          12.186666666666667,
          11.5775,
          11.241666666666667,
          9.936666666666666,
          10.571666666666667,
          11.230833333333335,
          10.170833333333333,
          9.9975,
          9.835833333333333,
          9.283333333333333,
          9.744166666666667,
          9.765833333333333,
          10.949166666666665,
          11.963333333333333,
          11.618333333333334,
          12.190833333333332,
          10.921666666666667,
          10.681666666666667,
          10.685,
          9.862499999999999,
          9.8425,
          8.943333333333333,
          9.27,
          8.8225,
          9.985,
          8.618333333333334,
          9.279166666666667,
          9.344166666666666,
          0.6026059839166666,
          0.6129970844166667,
          0.60341441625
         ]
        },
        {
         "line": {
          "color": "#25848e"
         },
         "name": "Austria",
         "type": "scatter",
         "x": [
          1985,
          1986,
          1987,
          1988,
          1989,
          1990,
          1991,
          1992,
          1993,
          1994,
          1995,
          1996,
          1997,
          1998,
          1999,
          2000,
          2001,
          2002,
          2003,
          2004,
          2005,
          2006,
          2007,
          2008,
          2009,
          2010,
          2011,
          2012,
          2013,
          2014,
          2015,
          2016,
          2017,
          2018,
          2019,
          2020
         ],
         "y": [
          32.0675,
          33.483333333333334,
          33.82333333333333,
          29.80333333333333,
          29.94333333333333,
          29.48166666666667,
          29.6225,
          28.478333333333335,
          28.996666666666666,
          28.635,
          29.007499999999997,
          28.554166666666664,
          24.791666666666668,
          24.115,
          23.358333333333334,
          24.147499999999997,
          21.825833333333335,
          23.076666666666668,
          21.421666666666667,
          21.169999999999998,
          19.604166666666668,
          18.241666666666667,
          18.109166666666667,
          18.037499999999998,
          17.768333333333334,
          17.295833333333334,
          17.624166666666667,
          17.219166666666666,
          17.676666666666666,
          17.485,
          16.218333333333334,
          18.323,
          1.1594115917499999,
          1.139638716,
          1.0444913918333334,
          1.0018469871666666
         ]
        },
        {
         "line": {
          "color": "#21a585"
         },
         "name": "Thailand",
         "type": "scatter",
         "x": [
          1985,
          1986,
          1987,
          1990,
          1991,
          1992,
          1994,
          1995,
          1996,
          1997,
          1998,
          1999,
          2000,
          2002,
          2003,
          2004,
          2005,
          2006,
          2007,
          2008,
          2009,
          2010,
          2011,
          2012,
          2013,
          2014,
          2015,
          2016,
          2017,
          2018,
          2019
         ],
         "y": [
          6.878333333333333,
          5.9925,
          6.818333333333334,
          7.993333333333333,
          7.204999999999999,
          6.925,
          4.689166666666667,
          7.793333333333334,
          7.754166666666666,
          7.197500000000001,
          8.296666666666667,
          9.085833333333333,
          8.841666666666667,
          8.593333333333334,
          7.596666666666667,
          7.171666666666667,
          6.4991666666666665,
          5.753333333333334,
          6.595,
          6.515000000000001,
          6.546666666666667,
          6.708333333333333,
          6.465833333333333,
          6.724166666666666,
          6.63,
          6.413333333333334,
          6.7625,
          7.731999999999999,
          0.511531543,
          0.5506520034166668,
          0.6719698481666666
         ]
        },
        {
         "line": {
          "color": "#28ae80"
         },
         "name": "Finland",
         "type": "scatter",
         "x": [
          1987,
          1988,
          1989,
          1990,
          1991,
          1992,
          1993,
          1994,
          1995,
          1996,
          1997,
          1998,
          1999,
          2000,
          2001,
          2002,
          2003,
          2004,
          2005,
          2006,
          2007,
          2008,
          2009,
          2010,
          2011,
          2012,
          2013,
          2014,
          2015,
          2017,
          2018,
          2019
         ],
         "y": [
          28.945833333333336,
          29.503333333333334,
          31.113333333333333,
          33.01833333333334,
          31.465,
          29.155833333333334,
          27.75,
          27.52,
          27.08,
          24.1375,
          25.8625,
          25.11916666666667,
          23.5925,
          22.1375,
          22.265833333333333,
          21.293333333333333,
          20.2875,
          20.32916666666667,
          19.21,
          19.483333333333334,
          18.59,
          18.357499999999998,
          19.04083333333333,
          17.934166666666666,
          16.9675,
          15.584166666666667,
          16.4025,
          14.763333333333334,
          13.4325,
          1.2466230736666668,
          1.2238182223333334,
          1.1258801636666667
         ]
        },
        {
         "line": {
          "color": "#2eb37c"
         },
         "name": "Greece",
         "type": "scatter",
         "x": [
          1985,
          1986,
          1987,
          1988,
          1989,
          1990,
          1991,
          1992,
          1993,
          1994,
          1995,
          1996,
          1997,
          1998,
          1999,
          2000,
          2001,
          2002,
          2003,
          2004,
          2005,
          2006,
          2007,
          2008,
          2009,
          2010,
          2011,
          2012,
          2013,
          2014,
          2015,
          2017,
          2018,
          2019
         ],
         "y": [
          4.8475,
          5.100833333333333,
          5.255,
          5.01,
          4.5441666666666665,
          4.2908333333333335,
          4.5475,
          4.0775,
          4.425,
          3.9033333333333338,
          4.14,
          3.7608333333333337,
          3.971666666666667,
          4.0225,
          3.811666666666667,
          3.7383333333333333,
          3.234166666666667,
          3.1958333333333333,
          3.3891666666666667,
          3.41,
          3.8775,
          3.784166666666667,
          2.825833333333333,
          3.358333333333333,
          3.4141666666666666,
          3.3249999999999997,
          4.056666666666667,
          4.443333333333333,
          4.5925,
          4.985,
          4.671666666666667,
          0.40524996925,
          0.44023590316666666,
          0.4119416953333333
         ]
        },
        {
         "line": {
          "color": "#35b779"
         },
         "name": "Colombia",
         "type": "scatter",
         "x": [
          1985,
          1986,
          1987,
          1988,
          1989,
          1990,
          1991,
          1992,
          1993,
          1994,
          1995,
          1996,
          1997,
          1998,
          1999,
          2000,
          2001,
          2002,
          2003,
          2004,
          2005,
          2006,
          2007,
          2008,
          2009,
          2010,
          2011,
          2012,
          2013,
          2014,
          2015,
          2017,
          2018,
          2019
         ],
         "y": [
          5.213333333333334,
          4.175833333333333,
          3.7641666666666667,
          4.22,
          3.474166666666667,
          3.6191666666666666,
          3.6308333333333334,
          4.123333333333333,
          4.1025,
          4.6625000000000005,
          4.136666666666667,
          4.430833333333333,
          4.3975,
          6.806666666666666,
          7.008333333333333,
          7.4816666666666665,
          7.355833333333333,
          6.781666666666666,
          6.654166666666666,
          7.020833333333333,
          6.236666666666667,
          6.534166666666667,
          6.1875,
          6.185,
          6.1525,
          5.603333333333333,
          5.239999999999999,
          5.5375000000000005,
          5.2941666666666665,
          5.551666666666667,
          5.866666666666666,
          0.46723652358333334,
          0.48552101258333336,
          0.486509836
         ]
        },
        {
         "line": {
          "color": "#46c06f"
         },
         "name": "Israel",
         "type": "scatter",
         "x": [
          1985,
          1986,
          1987,
          1988,
          1989,
          1990,
          1991,
          1992,
          1993,
          1994,
          1995,
          1996,
          1997,
          1998,
          1999,
          2000,
          2001,
          2002,
          2003,
          2004,
          2005,
          2006,
          2007,
          2008,
          2009,
          2010,
          2011,
          2012,
          2013,
          2014,
          2015,
          2017,
          2018
         ],
         "y": [
          9.335833333333333,
          10.856666666666667,
          11.134166666666667,
          10.346666666666666,
          14.193333333333333,
          10.188333333333334,
          11.611666666666666,
          10.9125,
          11.435833333333333,
          12.490833333333335,
          10.619166666666667,
          9.209166666666667,
          10.548333333333334,
          8.3425,
          8.548333333333334,
          9.046666666666667,
          9.019166666666667,
          7.790833333333333,
          8.0975,
          8.203333333333333,
          8.575833333333334,
          6.71,
          6.139166666666667,
          7.2775,
          6.6933333333333325,
          8.289166666666667,
          7.284166666666667,
          6.982500000000001,
          6.184166666666666,
          5.938333333333333,
          5.4925,
          0.3844697186666666,
          0.4212260399166667
         ]
        },
        {
         "line": {
          "color": "#50c46a"
         },
         "name": "Singapore",
         "type": "scatter",
         "x": [
          1985,
          1986,
          1987,
          1988,
          1989,
          1990,
          1991,
          1992,
          1993,
          1994,
          1995,
          1996,
          1997,
          1998,
          1999,
          2000,
          2001,
          2002,
          2003,
          2004,
          2005,
          2006,
          2007,
          2008,
          2009,
          2010,
          2011,
          2012,
          2013,
          2014,
          2015,
          2017,
          2018,
          2019,
          2020
         ],
         "y": [
          29.44666666666667,
          27.050833333333333,
          22.796666666666667,
          30.015833333333333,
          29.50916666666667,
          22.66916666666667,
          19.115,
          17.118333333333332,
          19.595000000000002,
          20.570833333333333,
          23.563333333333333,
          17.411666666666665,
          17.220833333333335,
          17.94666666666667,
          13.870833333333332,
          13.695,
          13.983333333333334,
          14.365833333333333,
          14.395000000000001,
          13.956666666666665,
          15.027500000000002,
          12.395833333333334,
          13.813333333333333,
          12.520833333333334,
          12.465000000000002,
          10.769166666666665,
          9.746666666666668,
          11.801666666666668,
          11.489166666666668,
          10.981666666666667,
          9.1075,
          0.4558478266666666,
          0.4936146948333333,
          0.4704656565,
          0.5261639495
         ]
        },
        {
         "line": {
          "color": "#65cb5e"
         },
         "name": "Ireland",
         "type": "scatter",
         "x": [
          1985,
          1986,
          1987,
          1988,
          1989,
          1990,
          1991,
          1992,
          1993,
          1994,
          1995,
          1996,
          1997,
          1998,
          1999,
          2000,
          2001,
          2002,
          2003,
          2004,
          2005,
          2006,
          2007,
          2008,
          2009,
          2010,
          2011,
          2012,
          2013,
          2014,
          2018
         ],
         "y": [
          8.513333333333334,
          8.74,
          7.951666666666667,
          9.436666666666666,
          9.213333333333333,
          10.473333333333334,
          10.544166666666667,
          11.489166666666668,
          9.7625,
          11.901666666666666,
          11.986666666666666,
          12.128333333333332,
          13.012500000000001,
          13.514166666666666,
          11.768333333333333,
          11.863333333333335,
          12.414166666666667,
          11.318333333333333,
          11.230833333333335,
          10.785000000000002,
          10.0925,
          10.538333333333332,
          10.147499999999999,
          10.796666666666667,
          11.0525,
          10.025,
          11.548333333333334,
          11.471666666666666,
          9.784166666666666,
          9.973333333333334,
          0.7481878445833333
         ]
        },
        {
         "line": {
          "color": "#7cd250"
         },
         "name": "Chile",
         "type": "scatter",
         "x": [
          1985,
          1986,
          1987,
          1988,
          1989,
          1990,
          1991,
          1992,
          1993,
          1994,
          1995,
          1996,
          1997,
          1998,
          1999,
          2000,
          2001,
          2002,
          2003,
          2004,
          2005,
          2006,
          2007,
          2008,
          2009,
          2010,
          2011,
          2012,
          2013,
          2014,
          2015,
          2017,
          2018
         ],
         "y": [
          9.075833333333334,
          7.578333333333333,
          7.451666666666667,
          7.908333333333334,
          8.37,
          7.655,
          8.235833333333334,
          6.573333333333333,
          8.598333333333334,
          7.945,
          9.075833333333334,
          7.975833333333333,
          8.344166666666666,
          9.147499999999999,
          9.321666666666667,
          12.431666666666667,
          12.298333333333334,
          12.44,
          12.795,
          12.974166666666667,
          12.285833333333334,
          12.921666666666667,
          12.576666666666668,
          13.99,
          14.524999999999999,
          13.573333333333332,
          13.403333333333334,
          12.3675,
          11.21,
          11.4475,
          12.306666666666667,
          0.8529058438333333,
          0.81277120225
         ]
        },
        {
         "line": {
          "color": "#95d840"
         },
         "name": "Romania",
         "type": "scatter",
         "x": [
          1989,
          1990,
          1991,
          1992,
          1993,
          1994,
          1995,
          1996,
          1997,
          1998,
          1999,
          2000,
          2001,
          2002,
          2003,
          2004,
          2005,
          2006,
          2007,
          2008,
          2009,
          2010,
          2011,
          2012,
          2013,
          2014,
          2015,
          2016,
          2017,
          2018,
          2019
         ],
         "y": [
          13.1475,
          10.493333333333334,
          11.115,
          13.681666666666667,
          13.505833333333333,
          14.398333333333333,
          13.015,
          13.331666666666669,
          13.466666666666667,
          13.440833333333332,
          13.189166666666667,
          13.265833333333333,
          12.425833333333332,
          14.466666666666667,
          13.309166666666668,
          12.599166666666667,
          12.167499999999999,
          12.424166666666666,
          11.338333333333333,
          11.700000000000001,
          12.001666666666667,
          12.503333333333332,
          11.565,
          11.835833333333333,
          11.499166666666667,
          10.919166666666667,
          11.129166666666665,
          11.633,
          0.8214763788333334,
          0.83359137,
          0.7493769589166667
         ]
        },
        {
         "line": {
          "color": "#bddf26"
         },
         "name": "Ukraine",
         "type": "scatter",
         "x": [
          1987,
          1988,
          1989,
          1990,
          1991,
          1992,
          1993,
          1994,
          1995,
          1996,
          1997,
          1998,
          1999,
          2000,
          2001,
          2002,
          2003,
          2004,
          2005,
          2006,
          2007,
          2008,
          2009,
          2010,
          2011,
          2012,
          2014,
          2015,
          2017,
          2018,
          2019
         ],
         "y": [
          24.503333333333334,
          23.89333333333333,
          26.36,
          24.724999999999998,
          24.825833333333335,
          26.874166666666667,
          29.3425,
          32.024166666666666,
          33.05583333333333,
          33.61833333333333,
          32.972500000000004,
          32.512499999999996,
          31.338333333333335,
          31.4325,
          29.011666666666667,
          28.670833333333334,
          28.089166666666667,
          25.587500000000002,
          24.765,
          23.56583333333333,
          23.426666666666666,
          22.875,
          23.271666666666665,
          21.9225,
          22,
          22.372500000000002,
          20.875,
          20.393333333333334,
          1.2286847818333333,
          1.097353284,
          1.0921186478333333
         ]
        },
        {
         "line": {
          "color": "#f1e51d"
         },
         "name": "Puerto Rico",
         "type": "scatter",
         "x": [
          1985,
          1986,
          1987,
          1988,
          1989,
          1990,
          1991,
          1992,
          1993,
          1994,
          1995,
          1996,
          1997,
          1998,
          1999,
          2000,
          2001,
          2002,
          2003,
          2004,
          2005,
          2006,
          2007,
          2008,
          2009,
          2010,
          2011,
          2012,
          2013,
          2014,
          2015,
          2017
         ],
         "y": [
          12.884166666666667,
          14.852500000000001,
          11.979999999999999,
          13.474166666666667,
          14.128333333333332,
          15.131666666666668,
          15.400833333333333,
          11.275833333333333,
          12.604166666666666,
          12.273333333333333,
          10.0725,
          11.650833333333333,
          8.271666666666667,
          10.9225,
          9.775833333333333,
          9.021666666666667,
          8.9075,
          7.6325,
          8.0825,
          9.079166666666667,
          8.759166666666667,
          7.941666666666666,
          7.756666666666667,
          8.923333333333334,
          10.408333333333333,
          8.653333333333334,
          7.545833333333333,
          7.258333333333334,
          7.549166666666667,
          6.424166666666667,
          7.131666666666667,
          0.618994376
         ]
        }
       ],
       "layout": {
        "template": {
         "data": {
          "bar": [
           {
            "error_x": {
             "color": "#2a3f5f"
            },
            "error_y": {
             "color": "#2a3f5f"
            },
            "marker": {
             "line": {
              "color": "#E5ECF6",
              "width": 0.5
             },
             "pattern": {
              "fillmode": "overlay",
              "size": 10,
              "solidity": 0.2
             }
            },
            "type": "bar"
           }
          ],
          "barpolar": [
           {
            "marker": {
             "line": {
              "color": "#E5ECF6",
              "width": 0.5
             },
             "pattern": {
              "fillmode": "overlay",
              "size": 10,
              "solidity": 0.2
             }
            },
            "type": "barpolar"
           }
          ],
          "carpet": [
           {
            "aaxis": {
             "endlinecolor": "#2a3f5f",
             "gridcolor": "white",
             "linecolor": "white",
             "minorgridcolor": "white",
             "startlinecolor": "#2a3f5f"
            },
            "baxis": {
             "endlinecolor": "#2a3f5f",
             "gridcolor": "white",
             "linecolor": "white",
             "minorgridcolor": "white",
             "startlinecolor": "#2a3f5f"
            },
            "type": "carpet"
           }
          ],
          "choropleth": [
           {
            "colorbar": {
             "outlinewidth": 0,
             "ticks": ""
            },
            "type": "choropleth"
           }
          ],
          "contour": [
           {
            "colorbar": {
             "outlinewidth": 0,
             "ticks": ""
            },
            "colorscale": [
             [
              0,
              "#0d0887"
             ],
             [
              0.1111111111111111,
              "#46039f"
             ],
             [
              0.2222222222222222,
              "#7201a8"
             ],
             [
              0.3333333333333333,
              "#9c179e"
             ],
             [
              0.4444444444444444,
              "#bd3786"
             ],
             [
              0.5555555555555556,
              "#d8576b"
             ],
             [
              0.6666666666666666,
              "#ed7953"
             ],
             [
              0.7777777777777778,
              "#fb9f3a"
             ],
             [
              0.8888888888888888,
              "#fdca26"
             ],
             [
              1,
              "#f0f921"
             ]
            ],
            "type": "contour"
           }
          ],
          "contourcarpet": [
           {
            "colorbar": {
             "outlinewidth": 0,
             "ticks": ""
            },
            "type": "contourcarpet"
           }
          ],
          "heatmap": [
           {
            "colorbar": {
             "outlinewidth": 0,
             "ticks": ""
            },
            "colorscale": [
             [
              0,
              "#0d0887"
             ],
             [
              0.1111111111111111,
              "#46039f"
             ],
             [
              0.2222222222222222,
              "#7201a8"
             ],
             [
              0.3333333333333333,
              "#9c179e"
             ],
             [
              0.4444444444444444,
              "#bd3786"
             ],
             [
              0.5555555555555556,
              "#d8576b"
             ],
             [
              0.6666666666666666,
              "#ed7953"
             ],
             [
              0.7777777777777778,
              "#fb9f3a"
             ],
             [
              0.8888888888888888,
              "#fdca26"
             ],
             [
              1,
              "#f0f921"
             ]
            ],
            "type": "heatmap"
           }
          ],
          "heatmapgl": [
           {
            "colorbar": {
             "outlinewidth": 0,
             "ticks": ""
            },
            "colorscale": [
             [
              0,
              "#0d0887"
             ],
             [
              0.1111111111111111,
              "#46039f"
             ],
             [
              0.2222222222222222,
              "#7201a8"
             ],
             [
              0.3333333333333333,
              "#9c179e"
             ],
             [
              0.4444444444444444,
              "#bd3786"
             ],
             [
              0.5555555555555556,
              "#d8576b"
             ],
             [
              0.6666666666666666,
              "#ed7953"
             ],
             [
              0.7777777777777778,
              "#fb9f3a"
             ],
             [
              0.8888888888888888,
              "#fdca26"
             ],
             [
              1,
              "#f0f921"
             ]
            ],
            "type": "heatmapgl"
           }
          ],
          "histogram": [
           {
            "marker": {
             "pattern": {
              "fillmode": "overlay",
              "size": 10,
              "solidity": 0.2
             }
            },
            "type": "histogram"
           }
          ],
          "histogram2d": [
           {
            "colorbar": {
             "outlinewidth": 0,
             "ticks": ""
            },
            "colorscale": [
             [
              0,
              "#0d0887"
             ],
             [
              0.1111111111111111,
              "#46039f"
             ],
             [
              0.2222222222222222,
              "#7201a8"
             ],
             [
              0.3333333333333333,
              "#9c179e"
             ],
             [
              0.4444444444444444,
              "#bd3786"
             ],
             [
              0.5555555555555556,
              "#d8576b"
             ],
             [
              0.6666666666666666,
              "#ed7953"
             ],
             [
              0.7777777777777778,
              "#fb9f3a"
             ],
             [
              0.8888888888888888,
              "#fdca26"
             ],
             [
              1,
              "#f0f921"
             ]
            ],
            "type": "histogram2d"
           }
          ],
          "histogram2dcontour": [
           {
            "colorbar": {
             "outlinewidth": 0,
             "ticks": ""
            },
            "colorscale": [
             [
              0,
              "#0d0887"
             ],
             [
              0.1111111111111111,
              "#46039f"
             ],
             [
              0.2222222222222222,
              "#7201a8"
             ],
             [
              0.3333333333333333,
              "#9c179e"
             ],
             [
              0.4444444444444444,
              "#bd3786"
             ],
             [
              0.5555555555555556,
              "#d8576b"
             ],
             [
              0.6666666666666666,
              "#ed7953"
             ],
             [
              0.7777777777777778,
              "#fb9f3a"
             ],
             [
              0.8888888888888888,
              "#fdca26"
             ],
             [
              1,
              "#f0f921"
             ]
            ],
            "type": "histogram2dcontour"
           }
          ],
          "mesh3d": [
           {
            "colorbar": {
             "outlinewidth": 0,
             "ticks": ""
            },
            "type": "mesh3d"
           }
          ],
          "parcoords": [
           {
            "line": {
             "colorbar": {
              "outlinewidth": 0,
              "ticks": ""
             }
            },
            "type": "parcoords"
           }
          ],
          "pie": [
           {
            "automargin": true,
            "type": "pie"
           }
          ],
          "scatter": [
           {
            "fillpattern": {
             "fillmode": "overlay",
             "size": 10,
             "solidity": 0.2
            },
            "type": "scatter"
           }
          ],
          "scatter3d": [
           {
            "line": {
             "colorbar": {
              "outlinewidth": 0,
              "ticks": ""
             }
            },
            "marker": {
             "colorbar": {
              "outlinewidth": 0,
              "ticks": ""
             }
            },
            "type": "scatter3d"
           }
          ],
          "scattercarpet": [
           {
            "marker": {
             "colorbar": {
              "outlinewidth": 0,
              "ticks": ""
             }
            },
            "type": "scattercarpet"
           }
          ],
          "scattergeo": [
           {
            "marker": {
             "colorbar": {
              "outlinewidth": 0,
              "ticks": ""
             }
            },
            "type": "scattergeo"
           }
          ],
          "scattergl": [
           {
            "marker": {
             "colorbar": {
              "outlinewidth": 0,
              "ticks": ""
             }
            },
            "type": "scattergl"
           }
          ],
          "scattermapbox": [
           {
            "marker": {
             "colorbar": {
              "outlinewidth": 0,
              "ticks": ""
             }
            },
            "type": "scattermapbox"
           }
          ],
          "scatterpolar": [
           {
            "marker": {
             "colorbar": {
              "outlinewidth": 0,
              "ticks": ""
             }
            },
            "type": "scatterpolar"
           }
          ],
          "scatterpolargl": [
           {
            "marker": {
             "colorbar": {
              "outlinewidth": 0,
              "ticks": ""
             }
            },
            "type": "scatterpolargl"
           }
          ],
          "scatterternary": [
           {
            "marker": {
             "colorbar": {
              "outlinewidth": 0,
              "ticks": ""
             }
            },
            "type": "scatterternary"
           }
          ],
          "surface": [
           {
            "colorbar": {
             "outlinewidth": 0,
             "ticks": ""
            },
            "colorscale": [
             [
              0,
              "#0d0887"
             ],
             [
              0.1111111111111111,
              "#46039f"
             ],
             [
              0.2222222222222222,
              "#7201a8"
             ],
             [
              0.3333333333333333,
              "#9c179e"
             ],
             [
              0.4444444444444444,
              "#bd3786"
             ],
             [
              0.5555555555555556,
              "#d8576b"
             ],
             [
              0.6666666666666666,
              "#ed7953"
             ],
             [
              0.7777777777777778,
              "#fb9f3a"
             ],
             [
              0.8888888888888888,
              "#fdca26"
             ],
             [
              1,
              "#f0f921"
             ]
            ],
            "type": "surface"
           }
          ],
          "table": [
           {
            "cells": {
             "fill": {
              "color": "#EBF0F8"
             },
             "line": {
              "color": "white"
             }
            },
            "header": {
             "fill": {
              "color": "#C8D4E3"
             },
             "line": {
              "color": "white"
             }
            },
            "type": "table"
           }
          ]
         },
         "layout": {
          "annotationdefaults": {
           "arrowcolor": "#2a3f5f",
           "arrowhead": 0,
           "arrowwidth": 1
          },
          "autotypenumbers": "strict",
          "coloraxis": {
           "colorbar": {
            "outlinewidth": 0,
            "ticks": ""
           }
          },
          "colorscale": {
           "diverging": [
            [
             0,
             "#8e0152"
            ],
            [
             0.1,
             "#c51b7d"
            ],
            [
             0.2,
             "#de77ae"
            ],
            [
             0.3,
             "#f1b6da"
            ],
            [
             0.4,
             "#fde0ef"
            ],
            [
             0.5,
             "#f7f7f7"
            ],
            [
             0.6,
             "#e6f5d0"
            ],
            [
             0.7,
             "#b8e186"
            ],
            [
             0.8,
             "#7fbc41"
            ],
            [
             0.9,
             "#4d9221"
            ],
            [
             1,
             "#276419"
            ]
           ],
           "sequential": [
            [
             0,
             "#0d0887"
            ],
            [
             0.1111111111111111,
             "#46039f"
            ],
            [
             0.2222222222222222,
             "#7201a8"
            ],
            [
             0.3333333333333333,
             "#9c179e"
            ],
            [
             0.4444444444444444,
             "#bd3786"
            ],
            [
             0.5555555555555556,
             "#d8576b"
            ],
            [
             0.6666666666666666,
             "#ed7953"
            ],
            [
             0.7777777777777778,
             "#fb9f3a"
            ],
            [
             0.8888888888888888,
             "#fdca26"
            ],
            [
             1,
             "#f0f921"
            ]
           ],
           "sequentialminus": [
            [
             0,
             "#0d0887"
            ],
            [
             0.1111111111111111,
             "#46039f"
            ],
            [
             0.2222222222222222,
             "#7201a8"
            ],
            [
             0.3333333333333333,
             "#9c179e"
            ],
            [
             0.4444444444444444,
             "#bd3786"
            ],
            [
             0.5555555555555556,
             "#d8576b"
            ],
            [
             0.6666666666666666,
             "#ed7953"
            ],
            [
             0.7777777777777778,
             "#fb9f3a"
            ],
            [
             0.8888888888888888,
             "#fdca26"
            ],
            [
             1,
             "#f0f921"
            ]
           ]
          },
          "colorway": [
           "#636efa",
           "#EF553B",
           "#00cc96",
           "#ab63fa",
           "#FFA15A",
           "#19d3f3",
           "#FF6692",
           "#B6E880",
           "#FF97FF",
           "#FECB52"
          ],
          "font": {
           "color": "#2a3f5f"
          },
          "geo": {
           "bgcolor": "white",
           "lakecolor": "white",
           "landcolor": "#E5ECF6",
           "showlakes": true,
           "showland": true,
           "subunitcolor": "white"
          },
          "hoverlabel": {
           "align": "left"
          },
          "hovermode": "closest",
          "mapbox": {
           "style": "light"
          },
          "paper_bgcolor": "white",
          "plot_bgcolor": "#E5ECF6",
          "polar": {
           "angularaxis": {
            "gridcolor": "white",
            "linecolor": "white",
            "ticks": ""
           },
           "bgcolor": "#E5ECF6",
           "radialaxis": {
            "gridcolor": "white",
            "linecolor": "white",
            "ticks": ""
           }
          },
          "scene": {
           "xaxis": {
            "backgroundcolor": "#E5ECF6",
            "gridcolor": "white",
            "gridwidth": 2,
            "linecolor": "white",
            "showbackground": true,
            "ticks": "",
            "zerolinecolor": "white"
           },
           "yaxis": {
            "backgroundcolor": "#E5ECF6",
            "gridcolor": "white",
            "gridwidth": 2,
            "linecolor": "white",
            "showbackground": true,
            "ticks": "",
            "zerolinecolor": "white"
           },
           "zaxis": {
            "backgroundcolor": "#E5ECF6",
            "gridcolor": "white",
            "gridwidth": 2,
            "linecolor": "white",
            "showbackground": true,
            "ticks": "",
            "zerolinecolor": "white"
           }
          },
          "shapedefaults": {
           "line": {
            "color": "#2a3f5f"
           }
          },
          "ternary": {
           "aaxis": {
            "gridcolor": "white",
            "linecolor": "white",
            "ticks": ""
           },
           "baxis": {
            "gridcolor": "white",
            "linecolor": "white",
            "ticks": ""
           },
           "bgcolor": "#E5ECF6",
           "caxis": {
            "gridcolor": "white",
            "linecolor": "white",
            "ticks": ""
           }
          },
          "title": {
           "x": 0.05
          },
          "xaxis": {
           "automargin": true,
           "gridcolor": "white",
           "linecolor": "white",
           "ticks": "",
           "title": {
            "standoff": 15
           },
           "zerolinecolor": "white",
           "zerolinewidth": 2
          },
          "yaxis": {
           "automargin": true,
           "gridcolor": "white",
           "linecolor": "white",
           "ticks": "",
           "title": {
            "standoff": 15
           },
           "zerolinecolor": "white",
           "zerolinewidth": 2
          }
         }
        }
       }
      },
      "text/html": [
       "<div>                            <div id=\"905b1c8a-88af-4a7d-bb18-f699f6f64b56\" class=\"plotly-graph-div\" style=\"height:525px; width:100%;\"></div>            <script type=\"text/javascript\">                require([\"plotly\"], function(Plotly) {                    window.PLOTLYENV=window.PLOTLYENV || {};                                    if (document.getElementById(\"905b1c8a-88af-4a7d-bb18-f699f6f64b56\")) {                    Plotly.newPlot(                        \"905b1c8a-88af-4a7d-bb18-f699f6f64b56\",                        [{\"line\":{\"color\":\"#471063\"},\"name\":\"USA\",\"x\":[1985,1986,1987,1988,1989,1990,1991,1992,1993,1994,1995,1996,1997,1998,1999,2000,2001,2002,2003,2004,2005,2006,2007,2008,2009,2010,2011,2012,2013,2014,2015,2017,2018,2019,2020],\"y\":[15.393333333333333,15.970833333333333,15.971666666666666,15.6425,15.203333333333333,15.65,15.314166666666667,14.814166666666667,14.926666666666668,14.669166666666667,14.424166666666666,13.870833333333332,13.496666666666668,13.375833333333333,12.564166666666667,12.215000000000002,12.351666666666667,12.501666666666667,12.136666666666665,12.241666666666667,12.223333333333334,12.094166666666666,12.426666666666668,12.770000000000001,12.849166666666667,13.240833333333333,13.530000000000001,13.761666666666665,13.889166666666668,14.277500000000002,14.6175,0.4077185831666667,0.412028542,0.3697753805,0.36643922858333333],\"type\":\"scatter\"},{\"line\":{\"color\":\"#481769\"},\"name\":\"Republic of Korea\",\"x\":[1985,1986,1987,1988,1989,1990,1991,1992,1993,1994,1995,1996,1997,1998,1999,2000,2001,2002,2003,2004,2005,2006,2007,2008,2009,2010,2011,2012,2013,2014,2015,2017,2018,2019],\"y\":[12.220833333333333,11.9425,10.686666666666667,9.548333333333334,10.116666666666667,10.044166666666667,9.681666666666667,10.615833333333333,13.29,13.783333333333333,14.94,18.0825,18.900000000000002,25.19333333333333,21.459999999999997,20.715833333333332,22.795,30.08666666666667,37.843333333333334,39.141666666666666,39.92,35.038333333333334,38.87833333333334,37.69,43.29333333333333,43.18333333333334,42.92083333333333,36.93833333333333,35.714166666666664,32.11083333333333,32.428333333333335,275.63490778416667,276.57434628883334,274.0327547140833],\"type\":\"scatter\"},{\"line\":{\"color\":\"#481d6f\"},\"name\":\"Japan\",\"x\":[1985,1986,1987,1988,1989,1990,1991,1992,1993,1994,1995,1996,1997,1998,1999,2000,2001,2002,2003,2004,2005,2006,2007,2008,2009,2010,2011,2012,2013,2014,2015,2017,2018,2019],\"y\":[25.039166666666663,26.962500000000002,24.6075,23.72666666666667,21.951666666666668,20.530833333333334,19.5425,20.023333333333333,18.675,19.079166666666666,19.010833333333334,19.04,19.781666666666666,25.55,24.90833333333333,23.209999999999997,22.263333333333335,22.153333333333332,23.284166666666664,22.1875,22.24083333333333,21.853333333333335,22.396666666666665,22.11,22.224166666666665,21.29,21.034166666666668,19.474999999999998,19.263333333333332,18.184166666666666,17.169999999999998,0.8890411534166667,0.880049838,0.8461459494999999],\"type\":\"scatter\"},{\"line\":{\"color\":\"#472a7a\"},\"name\":\"United Kingdom\",\"x\":[1985,1986,1987,1988,1989,1990,1991,1992,1993,1994,1995,1996,1997,1998,1999,2000,2001,2002,2003,2004,2005,2006,2007,2008,2009,2010,2011,2012,2013,2014,2015,2017,2018,2019],\"y\":[9.704166666666667,9.334166666666667,8.650833333333333,9.545833333333333,8.265833333333333,8.611666666666666,8.233333333333333,8.229166666666666,8.070833333333333,7.896666666666667,7.695,7.36,7.398333333333333,7.5633333333333335,7.703333333333333,7.2775,7.095,6.892499999999999,6.679166666666667,6.8933333333333335,6.596666666666667,6.514166666666667,6.243333333333333,6.725833333333333,6.5,6.450833333333333,6.524166666666667,6.6225,7.076666666666667,6.9941666666666675,7.228333333333333,0.5777675733333333,0.6289464886666667,0.7277728869166666],\"type\":\"scatter\"},{\"line\":{\"color\":\"#453781\"},\"name\":\"Italy\",\"x\":[1985,1986,1987,1988,1989,1990,1991,1992,1993,1994,1995,1996,1997,1998,1999,2000,2001,2002,2003,2004,2005,2006,2007,2008,2009,2010,2011,2012,2013,2014,2015,2017],\"y\":[11.116666666666667,10.920833333333334,10.461666666666668,10.150833333333333,9.72,10.165000000000001,9.655833333333334,9.623333333333333,10.095,9.910833333333333,9.834166666666667,9.620833333333334,9.753333333333334,9.486666666666666,8.31,8.268333333333333,7.989166666666667,7.884166666666666,7.868333333333333,7.610833333333333,6.8825,6.800833333333333,6.830000000000001,6.8075,6.8275,6.730833333333333,7.173333333333333,7.120833333333334,7.071666666666666,6.844166666666666,6.5375000000000005,0.5423706355833333],\"type\":\"scatter\"},{\"line\":{\"color\":\"#414287\"},\"name\":\"Brazil\",\"x\":[1985,1986,1987,1988,1989,1990,1991,1992,1993,1994,1995,1996,1997,1998,1999,2000,2001,2002,2003,2004,2005,2006,2007,2008,2009,2010,2011,2012,2013,2014,2015,2017,2018,2019],\"y\":[4.931666666666667,4.763333333333333,5.843333333333334,5.446666666666666,5.335,5.588333333333334,5.695,5.41,5.655,5.959166666666667,6.27,6.110833333333333,6.3999999999999995,6.254166666666666,5.637499999999999,5.685833333333334,6.1241666666666665,5.814166666666666,5.672499999999999,5.851666666666667,6.133333333333333,5.824999999999999,5.973333333333334,6.017499999999999,5.864166666666667,6.060833333333334,6.034166666666667,6.204166666666667,6.1175,6.094166666666666,6.454166666666667,0.38708111941666673,0.38814446774999994,0.38923511716666664],\"type\":\"scatter\"},{\"line\":{\"color\":\"#3f4889\"},\"name\":\"Canada\",\"x\":[1985,1986,1987,1988,1989,1990,1991,1992,1993,1994,1995,1996,1997,1998,1999,2000,2001,2002,2003,2004,2005,2006,2007,2008,2009,2010,2011,2012,2013,2017,2018,2019],\"y\":[13.871666666666668,15.8425,14.944166666666666,14.615,14.248333333333333,13.751666666666667,13.981666666666667,13.633333333333333,13.668333333333335,13.4925,13.626666666666667,13.574166666666665,12.619166666666667,12.51,13.203333333333333,11.583333333333334,11.4525,11.4775,11.439166666666667,10.971666666666666,11.153333333333334,10.535833333333333,10.620833333333334,10.6325,10.889166666666666,11.055833333333332,10.418333333333333,10.656666666666666,11.090833333333334,1.0345625714166666,0.962046473,0.9860049790833334],\"type\":\"scatter\"},{\"line\":{\"color\":\"#3a538b\"},\"name\":\"Spain\",\"x\":[1985,1986,1987,1988,1989,1990,1991,1992,1993,1994,1995,1996,1997,1998,1999,2000,2001,2002,2003,2004,2005,2006,2007,2008,2009,2010,2011,2012,2013,2014,2015,2017,2018,2019,2020],\"y\":[9.5775,9.985833333333334,10.178333333333333,10.606666666666667,10.540833333333333,10.770000000000001,10.153333333333332,9.9175,10.070833333333335,10.360000000000001,10.3175,10.544166666666667,10.943333333333333,10.336666666666668,9.923333333333334,10.184166666666668,9.366666666666667,9.636666666666667,9.7075,9.385833333333334,8.971666666666666,8.3225,8.245833333333334,8.209999999999999,8.168333333333333,7.286666666666666,7.3825,8.073333333333332,8.443333333333333,8.695833333333335,8.115,0.7374103256666666,0.63055020425,0.7264619725833333,0.7686652561666666],\"type\":\"scatter\"},{\"line\":{\"color\":\"#355e8d\"},\"name\":\"Mexico\",\"x\":[1985,1986,1987,1988,1989,1990,1991,1992,1993,1994,1995,1996,1997,1998,1999,2000,2001,2002,2003,2004,2005,2006,2007,2008,2009,2010,2011,2012,2013,2014,2015,2017,2018,2019,2020],\"y\":[3.1808333333333336,3.811666666666667,3.4525,3.518333333333333,4.0216666666666665,4.070833333333334,3.9741666666666666,4.339166666666666,4.333333333333333,4.66,4.924166666666667,4.694166666666667,4.755833333333333,4.736666666666667,4.574166666666667,4.574166666666667,5.2749999999999995,4.863333333333333,5.25,5.0625,5.185,4.935,4.8341666666666665,5.069166666666667,5.345,5.0841666666666665,5.46,5.285833333333334,5.415833333333333,5.698333333333333,5.547499999999999,0.44319436291666664,0.44262525366666666,0.44656189350000003,0.46237395583333335],\"type\":\"scatter\"},{\"line\":{\"color\":\"#33638d\"},\"name\":\"Australia\",\"x\":[1985,1986,1987,1988,1989,1990,1991,1992,1993,1994,1995,1996,1997,1998,1999,2000,2001,2002,2003,2004,2006,2007,2008,2009,2010,2011,2012,2013,2014,2015,2017,2018,2019,2020],\"y\":[13.6175,14.649166666666666,15.735,14.943333333333333,14.009166666666667,14.362499999999999,15.012500000000001,14.22,12.912500000000001,13.979166666666666,12.9325,14.611666666666666,15.5775,14.700833333333334,13.929166666666667,13.151666666666666,13.2325,12.056666666666667,11.153333333333334,11.146666666666667,10.6575,10.854166666666666,10.874166666666667,10.843333333333334,11.053333333333335,11.101666666666667,11.630833333333333,11.565,12.4225,12.848333333333334,1.1151002175833333,1.06542157075,1.09115087675,1.01960782175],\"type\":\"scatter\"},{\"line\":{\"color\":\"#31688e\"},\"name\":\"Netherlands\",\"x\":[1985,1986,1987,1988,1989,1990,1991,1992,1993,1994,1995,1996,1997,1998,1999,2000,2001,2002,2003,2004,2005,2006,2007,2008,2009,2010,2011,2012,2013,2014,2015,2016,2017,2018,2019,2020],\"y\":[13.324166666666668,13.19,13.097500000000002,12.299999999999999,11.334166666666667,11.347499999999998,12.540833333333333,11.957500000000001,11.331666666666665,11.413333333333334,10.418333333333333,11.255833333333333,11.380833333333333,10.708333333333334,10.263333333333334,9.915833333333333,9.691666666666666,9.977500000000001,9.444166666666666,9.263333333333334,9.44,9.4325,8.12,8.5075,9.025,9.124166666666667,9.423333333333334,9.875833333333334,10.460833333333333,10.118333333333334,10.5775,12.739,0.9325038805833333,0.8850007405833332,0.8700937616666667,0.8714846772500001],\"type\":\"scatter\"},{\"line\":{\"color\":\"#2c718e\"},\"name\":\"Sweden\",\"x\":[1987,1988,1989,1990,1991,1992,1993,1994,1995,1996,1997,1998,1999,2000,2001,2002,2003,2004,2005,2006,2007,2008,2009,2010,2011,2012,2013,2014,2015,2016,2017,2018],\"y\":[19.2425,19.305833333333332,19.861666666666668,18.504166666666666,18.128333333333334,16.731666666666666,16.7475,16.3075,15.976666666666667,14.853333333333333,13.9325,14.65,14.386666666666665,13.541666666666666,13.957500000000001,13.559166666666668,12.784166666666666,13.1175,13.718333333333334,13.396666666666667,12.282499999999999,12.973333333333334,13.366666666666667,12.211666666666666,11.814166666666667,12.3425,13.183333333333335,12.420833333333334,12.441666666666668,13.884,0.9859777723333333,1.04174713175],\"type\":\"scatter\"},{\"line\":{\"color\":\"#2a768e\"},\"name\":\"Belgium\",\"x\":[1985,1986,1987,1988,1989,1990,1991,1992,1993,1994,1995,1996,1997,1998,1999,2000,2001,2002,2003,2004,2005,2006,2007,2008,2009,2010,2011,2012,2013,2014,2015,2017,2018],\"y\":[27.67,26.224166666666665,27.313333333333333,23.650000000000002,23.7375,23.0925,22.001666666666665,22.156666666666666,25.03916666666667,25.03333333333333,23.825,22.295,23.728333333333335,22.061666666666667,19.224999999999998,22.316666666666666,21.76833333333333,20.654999999999998,20.7275,19.255,19.3125,17.908333333333335,17.38083333333333,18.461666666666666,18.195833333333333,18.348333333333333,18.892500000000002,18.094166666666666,16.79583333333333,16.820833333333333,16.388333333333332,1.2637187105,1.3075694459166667],\"type\":\"scatter\"},{\"line\":{\"color\":\"#27808e\"},\"name\":\"Argentina\",\"x\":[1985,1986,1987,1988,1989,1990,1991,1992,1993,1994,1995,1996,1997,1998,1999,2000,2001,2002,2003,2004,2005,2006,2007,2008,2009,2010,2011,2012,2013,2014,2015,2017,2018,2019],\"y\":[11.205833333333333,12.741666666666667,12.081666666666665,12.186666666666667,11.5775,11.241666666666667,9.936666666666666,10.571666666666667,11.230833333333335,10.170833333333333,9.9975,9.835833333333333,9.283333333333333,9.744166666666667,9.765833333333333,10.949166666666665,11.963333333333333,11.618333333333334,12.190833333333332,10.921666666666667,10.681666666666667,10.685,9.862499999999999,9.8425,8.943333333333333,9.27,8.8225,9.985,8.618333333333334,9.279166666666667,9.344166666666666,0.6026059839166666,0.6129970844166667,0.60341441625],\"type\":\"scatter\"},{\"line\":{\"color\":\"#25848e\"},\"name\":\"Austria\",\"x\":[1985,1986,1987,1988,1989,1990,1991,1992,1993,1994,1995,1996,1997,1998,1999,2000,2001,2002,2003,2004,2005,2006,2007,2008,2009,2010,2011,2012,2013,2014,2015,2016,2017,2018,2019,2020],\"y\":[32.0675,33.483333333333334,33.82333333333333,29.80333333333333,29.94333333333333,29.48166666666667,29.6225,28.478333333333335,28.996666666666666,28.635,29.007499999999997,28.554166666666664,24.791666666666668,24.115,23.358333333333334,24.147499999999997,21.825833333333335,23.076666666666668,21.421666666666667,21.169999999999998,19.604166666666668,18.241666666666667,18.109166666666667,18.037499999999998,17.768333333333334,17.295833333333334,17.624166666666667,17.219166666666666,17.676666666666666,17.485,16.218333333333334,18.323,1.1594115917499999,1.139638716,1.0444913918333334,1.0018469871666666],\"type\":\"scatter\"},{\"line\":{\"color\":\"#21a585\"},\"name\":\"Thailand\",\"x\":[1985,1986,1987,1990,1991,1992,1994,1995,1996,1997,1998,1999,2000,2002,2003,2004,2005,2006,2007,2008,2009,2010,2011,2012,2013,2014,2015,2016,2017,2018,2019],\"y\":[6.878333333333333,5.9925,6.818333333333334,7.993333333333333,7.204999999999999,6.925,4.689166666666667,7.793333333333334,7.754166666666666,7.197500000000001,8.296666666666667,9.085833333333333,8.841666666666667,8.593333333333334,7.596666666666667,7.171666666666667,6.4991666666666665,5.753333333333334,6.595,6.515000000000001,6.546666666666667,6.708333333333333,6.465833333333333,6.724166666666666,6.63,6.413333333333334,6.7625,7.731999999999999,0.511531543,0.5506520034166668,0.6719698481666666],\"type\":\"scatter\"},{\"line\":{\"color\":\"#28ae80\"},\"name\":\"Finland\",\"x\":[1987,1988,1989,1990,1991,1992,1993,1994,1995,1996,1997,1998,1999,2000,2001,2002,2003,2004,2005,2006,2007,2008,2009,2010,2011,2012,2013,2014,2015,2017,2018,2019],\"y\":[28.945833333333336,29.503333333333334,31.113333333333333,33.01833333333334,31.465,29.155833333333334,27.75,27.52,27.08,24.1375,25.8625,25.11916666666667,23.5925,22.1375,22.265833333333333,21.293333333333333,20.2875,20.32916666666667,19.21,19.483333333333334,18.59,18.357499999999998,19.04083333333333,17.934166666666666,16.9675,15.584166666666667,16.4025,14.763333333333334,13.4325,1.2466230736666668,1.2238182223333334,1.1258801636666667],\"type\":\"scatter\"},{\"line\":{\"color\":\"#2eb37c\"},\"name\":\"Greece\",\"x\":[1985,1986,1987,1988,1989,1990,1991,1992,1993,1994,1995,1996,1997,1998,1999,2000,2001,2002,2003,2004,2005,2006,2007,2008,2009,2010,2011,2012,2013,2014,2015,2017,2018,2019],\"y\":[4.8475,5.100833333333333,5.255,5.01,4.5441666666666665,4.2908333333333335,4.5475,4.0775,4.425,3.9033333333333338,4.14,3.7608333333333337,3.971666666666667,4.0225,3.811666666666667,3.7383333333333333,3.234166666666667,3.1958333333333333,3.3891666666666667,3.41,3.8775,3.784166666666667,2.825833333333333,3.358333333333333,3.4141666666666666,3.3249999999999997,4.056666666666667,4.443333333333333,4.5925,4.985,4.671666666666667,0.40524996925,0.44023590316666666,0.4119416953333333],\"type\":\"scatter\"},{\"line\":{\"color\":\"#35b779\"},\"name\":\"Colombia\",\"x\":[1985,1986,1987,1988,1989,1990,1991,1992,1993,1994,1995,1996,1997,1998,1999,2000,2001,2002,2003,2004,2005,2006,2007,2008,2009,2010,2011,2012,2013,2014,2015,2017,2018,2019],\"y\":[5.213333333333334,4.175833333333333,3.7641666666666667,4.22,3.474166666666667,3.6191666666666666,3.6308333333333334,4.123333333333333,4.1025,4.6625000000000005,4.136666666666667,4.430833333333333,4.3975,6.806666666666666,7.008333333333333,7.4816666666666665,7.355833333333333,6.781666666666666,6.654166666666666,7.020833333333333,6.236666666666667,6.534166666666667,6.1875,6.185,6.1525,5.603333333333333,5.239999999999999,5.5375000000000005,5.2941666666666665,5.551666666666667,5.866666666666666,0.46723652358333334,0.48552101258333336,0.486509836],\"type\":\"scatter\"},{\"line\":{\"color\":\"#46c06f\"},\"name\":\"Israel\",\"x\":[1985,1986,1987,1988,1989,1990,1991,1992,1993,1994,1995,1996,1997,1998,1999,2000,2001,2002,2003,2004,2005,2006,2007,2008,2009,2010,2011,2012,2013,2014,2015,2017,2018],\"y\":[9.335833333333333,10.856666666666667,11.134166666666667,10.346666666666666,14.193333333333333,10.188333333333334,11.611666666666666,10.9125,11.435833333333333,12.490833333333335,10.619166666666667,9.209166666666667,10.548333333333334,8.3425,8.548333333333334,9.046666666666667,9.019166666666667,7.790833333333333,8.0975,8.203333333333333,8.575833333333334,6.71,6.139166666666667,7.2775,6.6933333333333325,8.289166666666667,7.284166666666667,6.982500000000001,6.184166666666666,5.938333333333333,5.4925,0.3844697186666666,0.4212260399166667],\"type\":\"scatter\"},{\"line\":{\"color\":\"#50c46a\"},\"name\":\"Singapore\",\"x\":[1985,1986,1987,1988,1989,1990,1991,1992,1993,1994,1995,1996,1997,1998,1999,2000,2001,2002,2003,2004,2005,2006,2007,2008,2009,2010,2011,2012,2013,2014,2015,2017,2018,2019,2020],\"y\":[29.44666666666667,27.050833333333333,22.796666666666667,30.015833333333333,29.50916666666667,22.66916666666667,19.115,17.118333333333332,19.595000000000002,20.570833333333333,23.563333333333333,17.411666666666665,17.220833333333335,17.94666666666667,13.870833333333332,13.695,13.983333333333334,14.365833333333333,14.395000000000001,13.956666666666665,15.027500000000002,12.395833333333334,13.813333333333333,12.520833333333334,12.465000000000002,10.769166666666665,9.746666666666668,11.801666666666668,11.489166666666668,10.981666666666667,9.1075,0.4558478266666666,0.4936146948333333,0.4704656565,0.5261639495],\"type\":\"scatter\"},{\"line\":{\"color\":\"#65cb5e\"},\"name\":\"Ireland\",\"x\":[1985,1986,1987,1988,1989,1990,1991,1992,1993,1994,1995,1996,1997,1998,1999,2000,2001,2002,2003,2004,2005,2006,2007,2008,2009,2010,2011,2012,2013,2014,2018],\"y\":[8.513333333333334,8.74,7.951666666666667,9.436666666666666,9.213333333333333,10.473333333333334,10.544166666666667,11.489166666666668,9.7625,11.901666666666666,11.986666666666666,12.128333333333332,13.012500000000001,13.514166666666666,11.768333333333333,11.863333333333335,12.414166666666667,11.318333333333333,11.230833333333335,10.785000000000002,10.0925,10.538333333333332,10.147499999999999,10.796666666666667,11.0525,10.025,11.548333333333334,11.471666666666666,9.784166666666666,9.973333333333334,0.7481878445833333],\"type\":\"scatter\"},{\"line\":{\"color\":\"#7cd250\"},\"name\":\"Chile\",\"x\":[1985,1986,1987,1988,1989,1990,1991,1992,1993,1994,1995,1996,1997,1998,1999,2000,2001,2002,2003,2004,2005,2006,2007,2008,2009,2010,2011,2012,2013,2014,2015,2017,2018],\"y\":[9.075833333333334,7.578333333333333,7.451666666666667,7.908333333333334,8.37,7.655,8.235833333333334,6.573333333333333,8.598333333333334,7.945,9.075833333333334,7.975833333333333,8.344166666666666,9.147499999999999,9.321666666666667,12.431666666666667,12.298333333333334,12.44,12.795,12.974166666666667,12.285833333333334,12.921666666666667,12.576666666666668,13.99,14.524999999999999,13.573333333333332,13.403333333333334,12.3675,11.21,11.4475,12.306666666666667,0.8529058438333333,0.81277120225],\"type\":\"scatter\"},{\"line\":{\"color\":\"#95d840\"},\"name\":\"Romania\",\"x\":[1989,1990,1991,1992,1993,1994,1995,1996,1997,1998,1999,2000,2001,2002,2003,2004,2005,2006,2007,2008,2009,2010,2011,2012,2013,2014,2015,2016,2017,2018,2019],\"y\":[13.1475,10.493333333333334,11.115,13.681666666666667,13.505833333333333,14.398333333333333,13.015,13.331666666666669,13.466666666666667,13.440833333333332,13.189166666666667,13.265833333333333,12.425833333333332,14.466666666666667,13.309166666666668,12.599166666666667,12.167499999999999,12.424166666666666,11.338333333333333,11.700000000000001,12.001666666666667,12.503333333333332,11.565,11.835833333333333,11.499166666666667,10.919166666666667,11.129166666666665,11.633,0.8214763788333334,0.83359137,0.7493769589166667],\"type\":\"scatter\"},{\"line\":{\"color\":\"#bddf26\"},\"name\":\"Ukraine\",\"x\":[1987,1988,1989,1990,1991,1992,1993,1994,1995,1996,1997,1998,1999,2000,2001,2002,2003,2004,2005,2006,2007,2008,2009,2010,2011,2012,2014,2015,2017,2018,2019],\"y\":[24.503333333333334,23.89333333333333,26.36,24.724999999999998,24.825833333333335,26.874166666666667,29.3425,32.024166666666666,33.05583333333333,33.61833333333333,32.972500000000004,32.512499999999996,31.338333333333335,31.4325,29.011666666666667,28.670833333333334,28.089166666666667,25.587500000000002,24.765,23.56583333333333,23.426666666666666,22.875,23.271666666666665,21.9225,22.0,22.372500000000002,20.875,20.393333333333334,1.2286847818333333,1.097353284,1.0921186478333333],\"type\":\"scatter\"},{\"line\":{\"color\":\"#f1e51d\"},\"name\":\"Puerto Rico\",\"x\":[1985,1986,1987,1988,1989,1990,1991,1992,1993,1994,1995,1996,1997,1998,1999,2000,2001,2002,2003,2004,2005,2006,2007,2008,2009,2010,2011,2012,2013,2014,2015,2017],\"y\":[12.884166666666667,14.852500000000001,11.979999999999999,13.474166666666667,14.128333333333332,15.131666666666668,15.400833333333333,11.275833333333333,12.604166666666666,12.273333333333333,10.0725,11.650833333333333,8.271666666666667,10.9225,9.775833333333333,9.021666666666667,8.9075,7.6325,8.0825,9.079166666666667,8.759166666666667,7.941666666666666,7.756666666666667,8.923333333333334,10.408333333333333,8.653333333333334,7.545833333333333,7.258333333333334,7.549166666666667,6.424166666666667,7.131666666666667,0.618994376],\"type\":\"scatter\"}],                        {\"template\":{\"data\":{\"histogram2dcontour\":[{\"type\":\"histogram2dcontour\",\"colorbar\":{\"outlinewidth\":0,\"ticks\":\"\"},\"colorscale\":[[0.0,\"#0d0887\"],[0.1111111111111111,\"#46039f\"],[0.2222222222222222,\"#7201a8\"],[0.3333333333333333,\"#9c179e\"],[0.4444444444444444,\"#bd3786\"],[0.5555555555555556,\"#d8576b\"],[0.6666666666666666,\"#ed7953\"],[0.7777777777777778,\"#fb9f3a\"],[0.8888888888888888,\"#fdca26\"],[1.0,\"#f0f921\"]]}],\"choropleth\":[{\"type\":\"choropleth\",\"colorbar\":{\"outlinewidth\":0,\"ticks\":\"\"}}],\"histogram2d\":[{\"type\":\"histogram2d\",\"colorbar\":{\"outlinewidth\":0,\"ticks\":\"\"},\"colorscale\":[[0.0,\"#0d0887\"],[0.1111111111111111,\"#46039f\"],[0.2222222222222222,\"#7201a8\"],[0.3333333333333333,\"#9c179e\"],[0.4444444444444444,\"#bd3786\"],[0.5555555555555556,\"#d8576b\"],[0.6666666666666666,\"#ed7953\"],[0.7777777777777778,\"#fb9f3a\"],[0.8888888888888888,\"#fdca26\"],[1.0,\"#f0f921\"]]}],\"heatmap\":[{\"type\":\"heatmap\",\"colorbar\":{\"outlinewidth\":0,\"ticks\":\"\"},\"colorscale\":[[0.0,\"#0d0887\"],[0.1111111111111111,\"#46039f\"],[0.2222222222222222,\"#7201a8\"],[0.3333333333333333,\"#9c179e\"],[0.4444444444444444,\"#bd3786\"],[0.5555555555555556,\"#d8576b\"],[0.6666666666666666,\"#ed7953\"],[0.7777777777777778,\"#fb9f3a\"],[0.8888888888888888,\"#fdca26\"],[1.0,\"#f0f921\"]]}],\"heatmapgl\":[{\"type\":\"heatmapgl\",\"colorbar\":{\"outlinewidth\":0,\"ticks\":\"\"},\"colorscale\":[[0.0,\"#0d0887\"],[0.1111111111111111,\"#46039f\"],[0.2222222222222222,\"#7201a8\"],[0.3333333333333333,\"#9c179e\"],[0.4444444444444444,\"#bd3786\"],[0.5555555555555556,\"#d8576b\"],[0.6666666666666666,\"#ed7953\"],[0.7777777777777778,\"#fb9f3a\"],[0.8888888888888888,\"#fdca26\"],[1.0,\"#f0f921\"]]}],\"contourcarpet\":[{\"type\":\"contourcarpet\",\"colorbar\":{\"outlinewidth\":0,\"ticks\":\"\"}}],\"contour\":[{\"type\":\"contour\",\"colorbar\":{\"outlinewidth\":0,\"ticks\":\"\"},\"colorscale\":[[0.0,\"#0d0887\"],[0.1111111111111111,\"#46039f\"],[0.2222222222222222,\"#7201a8\"],[0.3333333333333333,\"#9c179e\"],[0.4444444444444444,\"#bd3786\"],[0.5555555555555556,\"#d8576b\"],[0.6666666666666666,\"#ed7953\"],[0.7777777777777778,\"#fb9f3a\"],[0.8888888888888888,\"#fdca26\"],[1.0,\"#f0f921\"]]}],\"surface\":[{\"type\":\"surface\",\"colorbar\":{\"outlinewidth\":0,\"ticks\":\"\"},\"colorscale\":[[0.0,\"#0d0887\"],[0.1111111111111111,\"#46039f\"],[0.2222222222222222,\"#7201a8\"],[0.3333333333333333,\"#9c179e\"],[0.4444444444444444,\"#bd3786\"],[0.5555555555555556,\"#d8576b\"],[0.6666666666666666,\"#ed7953\"],[0.7777777777777778,\"#fb9f3a\"],[0.8888888888888888,\"#fdca26\"],[1.0,\"#f0f921\"]]}],\"mesh3d\":[{\"type\":\"mesh3d\",\"colorbar\":{\"outlinewidth\":0,\"ticks\":\"\"}}],\"scatter\":[{\"fillpattern\":{\"fillmode\":\"overlay\",\"size\":10,\"solidity\":0.2},\"type\":\"scatter\"}],\"parcoords\":[{\"type\":\"parcoords\",\"line\":{\"colorbar\":{\"outlinewidth\":0,\"ticks\":\"\"}}}],\"scatterpolargl\":[{\"type\":\"scatterpolargl\",\"marker\":{\"colorbar\":{\"outlinewidth\":0,\"ticks\":\"\"}}}],\"bar\":[{\"error_x\":{\"color\":\"#2a3f5f\"},\"error_y\":{\"color\":\"#2a3f5f\"},\"marker\":{\"line\":{\"color\":\"#E5ECF6\",\"width\":0.5},\"pattern\":{\"fillmode\":\"overlay\",\"size\":10,\"solidity\":0.2}},\"type\":\"bar\"}],\"scattergeo\":[{\"type\":\"scattergeo\",\"marker\":{\"colorbar\":{\"outlinewidth\":0,\"ticks\":\"\"}}}],\"scatterpolar\":[{\"type\":\"scatterpolar\",\"marker\":{\"colorbar\":{\"outlinewidth\":0,\"ticks\":\"\"}}}],\"histogram\":[{\"marker\":{\"pattern\":{\"fillmode\":\"overlay\",\"size\":10,\"solidity\":0.2}},\"type\":\"histogram\"}],\"scattergl\":[{\"type\":\"scattergl\",\"marker\":{\"colorbar\":{\"outlinewidth\":0,\"ticks\":\"\"}}}],\"scatter3d\":[{\"type\":\"scatter3d\",\"line\":{\"colorbar\":{\"outlinewidth\":0,\"ticks\":\"\"}},\"marker\":{\"colorbar\":{\"outlinewidth\":0,\"ticks\":\"\"}}}],\"scattermapbox\":[{\"type\":\"scattermapbox\",\"marker\":{\"colorbar\":{\"outlinewidth\":0,\"ticks\":\"\"}}}],\"scatterternary\":[{\"type\":\"scatterternary\",\"marker\":{\"colorbar\":{\"outlinewidth\":0,\"ticks\":\"\"}}}],\"scattercarpet\":[{\"type\":\"scattercarpet\",\"marker\":{\"colorbar\":{\"outlinewidth\":0,\"ticks\":\"\"}}}],\"carpet\":[{\"aaxis\":{\"endlinecolor\":\"#2a3f5f\",\"gridcolor\":\"white\",\"linecolor\":\"white\",\"minorgridcolor\":\"white\",\"startlinecolor\":\"#2a3f5f\"},\"baxis\":{\"endlinecolor\":\"#2a3f5f\",\"gridcolor\":\"white\",\"linecolor\":\"white\",\"minorgridcolor\":\"white\",\"startlinecolor\":\"#2a3f5f\"},\"type\":\"carpet\"}],\"table\":[{\"cells\":{\"fill\":{\"color\":\"#EBF0F8\"},\"line\":{\"color\":\"white\"}},\"header\":{\"fill\":{\"color\":\"#C8D4E3\"},\"line\":{\"color\":\"white\"}},\"type\":\"table\"}],\"barpolar\":[{\"marker\":{\"line\":{\"color\":\"#E5ECF6\",\"width\":0.5},\"pattern\":{\"fillmode\":\"overlay\",\"size\":10,\"solidity\":0.2}},\"type\":\"barpolar\"}],\"pie\":[{\"automargin\":true,\"type\":\"pie\"}]},\"layout\":{\"autotypenumbers\":\"strict\",\"colorway\":[\"#636efa\",\"#EF553B\",\"#00cc96\",\"#ab63fa\",\"#FFA15A\",\"#19d3f3\",\"#FF6692\",\"#B6E880\",\"#FF97FF\",\"#FECB52\"],\"font\":{\"color\":\"#2a3f5f\"},\"hovermode\":\"closest\",\"hoverlabel\":{\"align\":\"left\"},\"paper_bgcolor\":\"white\",\"plot_bgcolor\":\"#E5ECF6\",\"polar\":{\"bgcolor\":\"#E5ECF6\",\"angularaxis\":{\"gridcolor\":\"white\",\"linecolor\":\"white\",\"ticks\":\"\"},\"radialaxis\":{\"gridcolor\":\"white\",\"linecolor\":\"white\",\"ticks\":\"\"}},\"ternary\":{\"bgcolor\":\"#E5ECF6\",\"aaxis\":{\"gridcolor\":\"white\",\"linecolor\":\"white\",\"ticks\":\"\"},\"baxis\":{\"gridcolor\":\"white\",\"linecolor\":\"white\",\"ticks\":\"\"},\"caxis\":{\"gridcolor\":\"white\",\"linecolor\":\"white\",\"ticks\":\"\"}},\"coloraxis\":{\"colorbar\":{\"outlinewidth\":0,\"ticks\":\"\"}},\"colorscale\":{\"sequential\":[[0.0,\"#0d0887\"],[0.1111111111111111,\"#46039f\"],[0.2222222222222222,\"#7201a8\"],[0.3333333333333333,\"#9c179e\"],[0.4444444444444444,\"#bd3786\"],[0.5555555555555556,\"#d8576b\"],[0.6666666666666666,\"#ed7953\"],[0.7777777777777778,\"#fb9f3a\"],[0.8888888888888888,\"#fdca26\"],[1.0,\"#f0f921\"]],\"sequentialminus\":[[0.0,\"#0d0887\"],[0.1111111111111111,\"#46039f\"],[0.2222222222222222,\"#7201a8\"],[0.3333333333333333,\"#9c179e\"],[0.4444444444444444,\"#bd3786\"],[0.5555555555555556,\"#d8576b\"],[0.6666666666666666,\"#ed7953\"],[0.7777777777777778,\"#fb9f3a\"],[0.8888888888888888,\"#fdca26\"],[1.0,\"#f0f921\"]],\"diverging\":[[0,\"#8e0152\"],[0.1,\"#c51b7d\"],[0.2,\"#de77ae\"],[0.3,\"#f1b6da\"],[0.4,\"#fde0ef\"],[0.5,\"#f7f7f7\"],[0.6,\"#e6f5d0\"],[0.7,\"#b8e186\"],[0.8,\"#7fbc41\"],[0.9,\"#4d9221\"],[1,\"#276419\"]]},\"xaxis\":{\"gridcolor\":\"white\",\"linecolor\":\"white\",\"ticks\":\"\",\"title\":{\"standoff\":15},\"zerolinecolor\":\"white\",\"automargin\":true,\"zerolinewidth\":2},\"yaxis\":{\"gridcolor\":\"white\",\"linecolor\":\"white\",\"ticks\":\"\",\"title\":{\"standoff\":15},\"zerolinecolor\":\"white\",\"automargin\":true,\"zerolinewidth\":2},\"scene\":{\"xaxis\":{\"backgroundcolor\":\"#E5ECF6\",\"gridcolor\":\"white\",\"linecolor\":\"white\",\"showbackground\":true,\"ticks\":\"\",\"zerolinecolor\":\"white\",\"gridwidth\":2},\"yaxis\":{\"backgroundcolor\":\"#E5ECF6\",\"gridcolor\":\"white\",\"linecolor\":\"white\",\"showbackground\":true,\"ticks\":\"\",\"zerolinecolor\":\"white\",\"gridwidth\":2},\"zaxis\":{\"backgroundcolor\":\"#E5ECF6\",\"gridcolor\":\"white\",\"linecolor\":\"white\",\"showbackground\":true,\"ticks\":\"\",\"zerolinecolor\":\"white\",\"gridwidth\":2}},\"shapedefaults\":{\"line\":{\"color\":\"#2a3f5f\"}},\"annotationdefaults\":{\"arrowcolor\":\"#2a3f5f\",\"arrowhead\":0,\"arrowwidth\":1},\"geo\":{\"bgcolor\":\"white\",\"landcolor\":\"#E5ECF6\",\"subunitcolor\":\"white\",\"showland\":true,\"showlakes\":true,\"lakecolor\":\"white\"},\"title\":{\"x\":0.05},\"mapbox\":{\"style\":\"light\"}}}},                        {\"responsive\": true}                    ).then(function(){\n",
       "                            \n",
       "var gd = document.getElementById('905b1c8a-88af-4a7d-bb18-f699f6f64b56');\n",
       "var x = new MutationObserver(function (mutations, observer) {{\n",
       "        var display = window.getComputedStyle(gd).display;\n",
       "        if (!display || display === 'none') {{\n",
       "            console.log([gd, 'removed!']);\n",
       "            Plotly.purge(gd);\n",
       "            observer.disconnect();\n",
       "        }}\n",
       "}});\n",
       "\n",
       "// Listen for the removal of the full notebook cells\n",
       "var notebookContainer = gd.closest('#notebook-container');\n",
       "if (notebookContainer) {{\n",
       "    x.observe(notebookContainer, {childList: true});\n",
       "}}\n",
       "\n",
       "// Listen for the clearing of the current output cell\n",
       "var outputEl = gd.closest('.output');\n",
       "if (outputEl) {{\n",
       "    x.observe(outputEl, {childList: true});\n",
       "}}\n",
       "\n",
       "                        })                };                });            </script>        </div>"
      ]
     },
     "metadata": {},
     "output_type": "display_data"
    }
   ],
   "source": [
    "pal = list(sns.color_palette(palette='viridis', n_colors=len(top_countries)).as_hex())\n",
    "\n",
    "fig = go.Figure()\n",
    "for d,p in zip(top_countries, pal):\n",
    "    if len(df_gb_c_y.loc[d].index) > 30:\n",
    "        fig.add_trace(go.Scatter(x = df_gb_c_y.loc[d].index,\n",
    "                             y = df_gb_c_y.loc[d]['suicides/100k pop'],\n",
    "                             name = d,\n",
    "                             line_color = p, \n",
    "                             fill=None))\n",
    "\n",
    "fig.show()"
   ]
  },
  {
   "cell_type": "markdown",
   "id": "e3578665",
   "metadata": {},
   "source": [
    "The data don´t looks right. Korea have an incredible increase of the suicide rate and almoste all other countries have an massive decrease of the suicide rate."
   ]
  },
  {
   "cell_type": "markdown",
   "id": "8a29f564",
   "metadata": {},
   "source": [
    "Now I need to look much data of the eye-catching values to look for some abnormalities."
   ]
  },
  {
   "cell_type": "code",
   "execution_count": 245,
   "id": "4574f037",
   "metadata": {},
   "outputs": [
    {
     "data": {
      "text/html": [
       "<div>\n",
       "<style scoped>\n",
       "    .dataframe tbody tr th:only-of-type {\n",
       "        vertical-align: middle;\n",
       "    }\n",
       "\n",
       "    .dataframe tbody tr th {\n",
       "        vertical-align: top;\n",
       "    }\n",
       "\n",
       "    .dataframe thead th {\n",
       "        text-align: right;\n",
       "    }\n",
       "</style>\n",
       "<table border=\"1\" class=\"dataframe\">\n",
       "  <thead>\n",
       "    <tr style=\"text-align: right;\">\n",
       "      <th></th>\n",
       "      <th>suicides_no</th>\n",
       "      <th>population</th>\n",
       "      <th>suicides/100k pop</th>\n",
       "      <th>gdp_for_year ($)</th>\n",
       "      <th>gdp_per_capita ($)</th>\n",
       "    </tr>\n",
       "    <tr>\n",
       "      <th>year</th>\n",
       "      <th></th>\n",
       "      <th></th>\n",
       "      <th></th>\n",
       "      <th></th>\n",
       "      <th></th>\n",
       "    </tr>\n",
       "  </thead>\n",
       "  <tbody>\n",
       "    <tr>\n",
       "      <th>2010</th>\n",
       "      <td>1296.500000</td>\n",
       "      <td>3966551.250000</td>\n",
       "      <td>43.183333</td>\n",
       "      <td>1094499338703.000000</td>\n",
       "      <td>22994.000000</td>\n",
       "    </tr>\n",
       "    <tr>\n",
       "      <th>2011</th>\n",
       "      <td>1325.500000</td>\n",
       "      <td>3983168.083333</td>\n",
       "      <td>42.920833</td>\n",
       "      <td>1202463682634.000000</td>\n",
       "      <td>25157.000000</td>\n",
       "    </tr>\n",
       "    <tr>\n",
       "      <th>2012</th>\n",
       "      <td>1179.916667</td>\n",
       "      <td>4001748.750000</td>\n",
       "      <td>36.938333</td>\n",
       "      <td>1222807284485.000000</td>\n",
       "      <td>25464.000000</td>\n",
       "    </tr>\n",
       "    <tr>\n",
       "      <th>2013</th>\n",
       "      <td>1202.166667</td>\n",
       "      <td>4020685.333333</td>\n",
       "      <td>35.714167</td>\n",
       "      <td>1305604981272.000000</td>\n",
       "      <td>27060.000000</td>\n",
       "    </tr>\n",
       "    <tr>\n",
       "      <th>2014</th>\n",
       "      <td>1152.833333</td>\n",
       "      <td>4038826.416667</td>\n",
       "      <td>32.110833</td>\n",
       "      <td>1411333926201.000000</td>\n",
       "      <td>29120.000000</td>\n",
       "    </tr>\n",
       "    <tr>\n",
       "      <th>2015</th>\n",
       "      <td>1125.833333</td>\n",
       "      <td>4055979.333333</td>\n",
       "      <td>32.428333</td>\n",
       "      <td>1382764027114.000000</td>\n",
       "      <td>28410.000000</td>\n",
       "    </tr>\n",
       "    <tr>\n",
       "      <th>2017</th>\n",
       "      <td>800.000000</td>\n",
       "      <td>290239.000000</td>\n",
       "      <td>275.634908</td>\n",
       "      <td>47600000000000.000000</td>\n",
       "      <td>43033.440800</td>\n",
       "    </tr>\n",
       "    <tr>\n",
       "      <th>2018</th>\n",
       "      <td>822.250000</td>\n",
       "      <td>297298.000000</td>\n",
       "      <td>276.574346</td>\n",
       "      <td>50500000000000.000000</td>\n",
       "      <td>45492.802020</td>\n",
       "    </tr>\n",
       "    <tr>\n",
       "      <th>2019</th>\n",
       "      <td>834.166667</td>\n",
       "      <td>304404.000000</td>\n",
       "      <td>274.032755</td>\n",
       "      <td>51000000000000.000000</td>\n",
       "      <td>45819.480080</td>\n",
       "    </tr>\n",
       "  </tbody>\n",
       "</table>\n",
       "</div>"
      ],
      "text/plain": [
       "      suicides_no     population  suicides/100k pop      gdp_for_year ($)  \\\n",
       "year                                                                        \n",
       "2010  1296.500000 3966551.250000          43.183333  1094499338703.000000   \n",
       "2011  1325.500000 3983168.083333          42.920833  1202463682634.000000   \n",
       "2012  1179.916667 4001748.750000          36.938333  1222807284485.000000   \n",
       "2013  1202.166667 4020685.333333          35.714167  1305604981272.000000   \n",
       "2014  1152.833333 4038826.416667          32.110833  1411333926201.000000   \n",
       "2015  1125.833333 4055979.333333          32.428333  1382764027114.000000   \n",
       "2017   800.000000  290239.000000         275.634908 47600000000000.000000   \n",
       "2018   822.250000  297298.000000         276.574346 50500000000000.000000   \n",
       "2019   834.166667  304404.000000         274.032755 51000000000000.000000   \n",
       "\n",
       "      gdp_per_capita ($)  \n",
       "year                      \n",
       "2010        22994.000000  \n",
       "2011        25157.000000  \n",
       "2012        25464.000000  \n",
       "2013        27060.000000  \n",
       "2014        29120.000000  \n",
       "2015        28410.000000  \n",
       "2017        43033.440800  \n",
       "2018        45492.802020  \n",
       "2019        45819.480080  "
      ]
     },
     "execution_count": 245,
     "metadata": {},
     "output_type": "execute_result"
    }
   ],
   "source": [
    "df_gb_c_y.loc['Republic of Korea'].loc[2010:2019]"
   ]
  },
  {
   "cell_type": "code",
   "execution_count": 246,
   "id": "8279f7a1",
   "metadata": {},
   "outputs": [
    {
     "data": {
      "text/html": [
       "<div>\n",
       "<style scoped>\n",
       "    .dataframe tbody tr th:only-of-type {\n",
       "        vertical-align: middle;\n",
       "    }\n",
       "\n",
       "    .dataframe tbody tr th {\n",
       "        vertical-align: top;\n",
       "    }\n",
       "\n",
       "    .dataframe thead th {\n",
       "        text-align: right;\n",
       "    }\n",
       "</style>\n",
       "<table border=\"1\" class=\"dataframe\">\n",
       "  <thead>\n",
       "    <tr style=\"text-align: right;\">\n",
       "      <th></th>\n",
       "      <th>suicides_no</th>\n",
       "      <th>population</th>\n",
       "      <th>suicides/100k pop</th>\n",
       "      <th>gdp_for_year ($)</th>\n",
       "      <th>gdp_per_capita ($)</th>\n",
       "    </tr>\n",
       "    <tr>\n",
       "      <th>year</th>\n",
       "      <th></th>\n",
       "      <th></th>\n",
       "      <th></th>\n",
       "      <th></th>\n",
       "      <th></th>\n",
       "    </tr>\n",
       "  </thead>\n",
       "  <tbody>\n",
       "    <tr>\n",
       "      <th>2010</th>\n",
       "      <td>835.833333</td>\n",
       "      <td>6529088.916667</td>\n",
       "      <td>12.680833</td>\n",
       "      <td>3417094562649.000000</td>\n",
       "      <td>43614.000000</td>\n",
       "    </tr>\n",
       "    <tr>\n",
       "      <th>2011</th>\n",
       "      <td>846.083333</td>\n",
       "      <td>6530928.333333</td>\n",
       "      <td>12.735000</td>\n",
       "      <td>3757698281118.000000</td>\n",
       "      <td>47947.000000</td>\n",
       "    </tr>\n",
       "    <tr>\n",
       "      <th>2012</th>\n",
       "      <td>824.666667</td>\n",
       "      <td>6542342.916667</td>\n",
       "      <td>12.359167</td>\n",
       "      <td>3543983909148.000000</td>\n",
       "      <td>45142.000000</td>\n",
       "    </tr>\n",
       "    <tr>\n",
       "      <th>2013</th>\n",
       "      <td>840.916667</td>\n",
       "      <td>6439249.000000</td>\n",
       "      <td>12.756667</td>\n",
       "      <td>3752513503278.000000</td>\n",
       "      <td>48563.000000</td>\n",
       "    </tr>\n",
       "    <tr>\n",
       "      <th>2014</th>\n",
       "      <td>851.416667</td>\n",
       "      <td>6462697.416667</td>\n",
       "      <td>12.753333</td>\n",
       "      <td>3890606893347.000000</td>\n",
       "      <td>50167.000000</td>\n",
       "    </tr>\n",
       "    <tr>\n",
       "      <th>2015</th>\n",
       "      <td>840.666667</td>\n",
       "      <td>6511390.250000</td>\n",
       "      <td>12.528333</td>\n",
       "      <td>3375611100742.000000</td>\n",
       "      <td>43201.000000</td>\n",
       "    </tr>\n",
       "    <tr>\n",
       "      <th>2017</th>\n",
       "      <td>646.416667</td>\n",
       "      <td>82657002.000000</td>\n",
       "      <td>0.782047</td>\n",
       "      <td>3680000000000.000000</td>\n",
       "      <td>44542.295200</td>\n",
       "    </tr>\n",
       "    <tr>\n",
       "      <th>2018</th>\n",
       "      <td>652.500000</td>\n",
       "      <td>82905782.000000</td>\n",
       "      <td>0.787038</td>\n",
       "      <td>3980000000000.000000</td>\n",
       "      <td>47950.180810</td>\n",
       "    </tr>\n",
       "    <tr>\n",
       "      <th>2019</th>\n",
       "      <td>639.250000</td>\n",
       "      <td>83092962.000000</td>\n",
       "      <td>0.769319</td>\n",
       "      <td>3890000000000.000000</td>\n",
       "      <td>46794.899290</td>\n",
       "    </tr>\n",
       "  </tbody>\n",
       "</table>\n",
       "</div>"
      ],
      "text/plain": [
       "      suicides_no      population  suicides/100k pop     gdp_for_year ($)  \\\n",
       "year                                                                        \n",
       "2010   835.833333  6529088.916667          12.680833 3417094562649.000000   \n",
       "2011   846.083333  6530928.333333          12.735000 3757698281118.000000   \n",
       "2012   824.666667  6542342.916667          12.359167 3543983909148.000000   \n",
       "2013   840.916667  6439249.000000          12.756667 3752513503278.000000   \n",
       "2014   851.416667  6462697.416667          12.753333 3890606893347.000000   \n",
       "2015   840.666667  6511390.250000          12.528333 3375611100742.000000   \n",
       "2017   646.416667 82657002.000000           0.782047 3680000000000.000000   \n",
       "2018   652.500000 82905782.000000           0.787038 3980000000000.000000   \n",
       "2019   639.250000 83092962.000000           0.769319 3890000000000.000000   \n",
       "\n",
       "      gdp_per_capita ($)  \n",
       "year                      \n",
       "2010        43614.000000  \n",
       "2011        47947.000000  \n",
       "2012        45142.000000  \n",
       "2013        48563.000000  \n",
       "2014        50167.000000  \n",
       "2015        43201.000000  \n",
       "2017        44542.295200  \n",
       "2018        47950.180810  \n",
       "2019        46794.899290  "
      ]
     },
     "execution_count": 246,
     "metadata": {},
     "output_type": "execute_result"
    }
   ],
   "source": [
    "df_gb_c_y.loc['Germany'].loc[2010:2019]"
   ]
  },
  {
   "cell_type": "markdown",
   "id": "dff90898",
   "metadata": {},
   "source": [
    "The Problem here is that after 2015 all the data of each country isn´t valid. That´s why I cute data at this point."
   ]
  },
  {
   "cell_type": "code",
   "execution_count": 247,
   "id": "62d9122c",
   "metadata": {},
   "outputs": [],
   "source": [
    "df = df[df['year'] <= 2015]"
   ]
  },
  {
   "cell_type": "code",
   "execution_count": 248,
   "id": "ff709b83",
   "metadata": {},
   "outputs": [
    {
     "data": {
      "text/plain": [
       "array([1987, 1988, 1989, 1992, 1993, 1994, 1995, 1996, 1997, 1998, 1999,\n",
       "       2000, 2001, 2002, 2003, 2004, 2005, 2006, 2007, 2008, 2009, 2010,\n",
       "       1985, 1986, 1990, 1991, 2012, 2013, 2014, 2015, 2011])"
      ]
     },
     "execution_count": 248,
     "metadata": {},
     "output_type": "execute_result"
    }
   ],
   "source": [
    "df['year'].unique()"
   ]
  },
  {
   "cell_type": "code",
   "execution_count": 249,
   "id": "938af464",
   "metadata": {},
   "outputs": [],
   "source": [
    "df_gb_c_y = df.groupby(['country', 'year']).mean()"
   ]
  },
  {
   "cell_type": "code",
   "execution_count": 250,
   "id": "5f1e5043",
   "metadata": {},
   "outputs": [],
   "source": [
    "top_countries = df.groupby(['country']).mean().nlargest(30, 'gdp_for_year ($)').index.tolist()"
   ]
  },
  {
   "cell_type": "code",
   "execution_count": 251,
   "id": "17a3cdec",
   "metadata": {},
   "outputs": [
    {
     "data": {
      "application/vnd.plotly.v1+json": {
       "config": {
        "plotlyServerURL": "https://plot.ly"
       },
       "data": [
        {
         "line": {
          "color": "#470d60"
         },
         "name": "USA",
         "type": "scatter",
         "x": [
          1985,
          1986,
          1987,
          1988,
          1989,
          1990,
          1991,
          1992,
          1993,
          1994,
          1995,
          1996,
          1997,
          1998,
          1999,
          2000,
          2001,
          2002,
          2003,
          2004,
          2005,
          2006,
          2007,
          2008,
          2009,
          2010,
          2011,
          2012,
          2013,
          2014,
          2015
         ],
         "y": [
          15.393333333333333,
          15.970833333333333,
          15.971666666666666,
          15.6425,
          15.203333333333333,
          15.65,
          15.314166666666667,
          14.814166666666667,
          14.926666666666668,
          14.669166666666667,
          14.424166666666666,
          13.870833333333332,
          13.496666666666668,
          13.375833333333333,
          12.564166666666667,
          12.215000000000002,
          12.351666666666667,
          12.501666666666667,
          12.136666666666665,
          12.241666666666667,
          12.223333333333334,
          12.094166666666666,
          12.426666666666668,
          12.770000000000001,
          12.849166666666667,
          13.240833333333333,
          13.530000000000001,
          13.761666666666665,
          13.889166666666668,
          14.277500000000002,
          14.6175
         ]
        },
        {
         "line": {
          "color": "#48186a"
         },
         "name": "Japan",
         "type": "scatter",
         "x": [
          1985,
          1986,
          1987,
          1988,
          1989,
          1990,
          1991,
          1992,
          1993,
          1994,
          1995,
          1996,
          1997,
          1998,
          1999,
          2000,
          2001,
          2002,
          2003,
          2004,
          2005,
          2006,
          2007,
          2008,
          2009,
          2010,
          2011,
          2012,
          2013,
          2014,
          2015
         ],
         "y": [
          25.039166666666663,
          26.962500000000002,
          24.6075,
          23.72666666666667,
          21.951666666666668,
          20.530833333333334,
          19.5425,
          20.023333333333333,
          18.675,
          19.079166666666666,
          19.010833333333334,
          19.04,
          19.781666666666666,
          25.55,
          24.90833333333333,
          23.209999999999997,
          22.263333333333335,
          22.153333333333332,
          23.284166666666664,
          22.1875,
          22.24083333333333,
          21.853333333333335,
          22.396666666666665,
          22.11,
          22.224166666666665,
          21.29,
          21.034166666666668,
          19.474999999999998,
          19.263333333333332,
          18.184166666666666,
          17.169999999999998
         ]
        },
        {
         "line": {
          "color": "#482374"
         },
         "name": "Germany",
         "type": "scatter",
         "x": [
          1990,
          1991,
          1992,
          1993,
          1994,
          1995,
          1996,
          1997,
          1998,
          1999,
          2000,
          2001,
          2002,
          2003,
          2004,
          2005,
          2006,
          2007,
          2008,
          2009,
          2010,
          2011,
          2012,
          2013,
          2014,
          2015
         ],
         "y": [
          21.620833333333334,
          21.50916666666667,
          20.836666666666666,
          19.625,
          19.232499999999998,
          19.465,
          18.035,
          17.580000000000002,
          16.709166666666665,
          15.770000000000001,
          15.4625,
          15.481666666666667,
          15.33,
          15.103333333333333,
          14.3525,
          13.457500000000001,
          12.71,
          12.21,
          12.126666666666667,
          12.126666666666667,
          12.680833333333334,
          12.735,
          12.359166666666667,
          12.756666666666666,
          12.753333333333332,
          12.528333333333334
         ]
        },
        {
         "line": {
          "color": "#472e7c"
         },
         "name": "United Kingdom",
         "type": "scatter",
         "x": [
          1985,
          1986,
          1987,
          1988,
          1989,
          1990,
          1991,
          1992,
          1993,
          1994,
          1995,
          1996,
          1997,
          1998,
          1999,
          2000,
          2001,
          2002,
          2003,
          2004,
          2005,
          2006,
          2007,
          2008,
          2009,
          2010,
          2011,
          2012,
          2013,
          2014,
          2015
         ],
         "y": [
          9.704166666666667,
          9.334166666666667,
          8.650833333333333,
          9.545833333333333,
          8.265833333333333,
          8.611666666666666,
          8.233333333333333,
          8.229166666666666,
          8.070833333333333,
          7.896666666666667,
          7.695,
          7.36,
          7.398333333333333,
          7.5633333333333335,
          7.703333333333333,
          7.2775,
          7.095,
          6.892499999999999,
          6.679166666666667,
          6.8933333333333335,
          6.596666666666667,
          6.514166666666667,
          6.243333333333333,
          6.725833333333333,
          6.5,
          6.450833333333333,
          6.524166666666667,
          6.6225,
          7.076666666666667,
          6.9941666666666675,
          7.228333333333333
         ]
        },
        {
         "line": {
          "color": "#453882"
         },
         "name": "France",
         "type": "scatter",
         "x": [
          1985,
          1986,
          1987,
          1988,
          1989,
          1990,
          1991,
          1992,
          1993,
          1994,
          1995,
          1996,
          1997,
          1998,
          1999,
          2000,
          2001,
          2002,
          2003,
          2004,
          2005,
          2006,
          2007,
          2008,
          2009,
          2010,
          2011,
          2012,
          2013,
          2014
         ],
         "y": [
          29.075,
          29.314166666666665,
          27.585833333333337,
          26.060000000000002,
          26.044166666666666,
          25.227500000000003,
          24.84166666666667,
          25.1225,
          26.0575,
          24.995833333333334,
          24.385,
          22.601666666666663,
          22.194166666666664,
          21.1375,
          20.485833333333332,
          21.435833333333335,
          19.995,
          19.886666666666667,
          20.109166666666667,
          19.375833333333336,
          19.340833333333332,
          18.385833333333334,
          17.8075,
          18.017500000000002,
          18.02,
          17.5975,
          17.598333333333333,
          16.581666666666667,
          16.0275,
          14.963333333333333
         ]
        },
        {
         "line": {
          "color": "#424186"
         },
         "name": "Italy",
         "type": "scatter",
         "x": [
          1985,
          1986,
          1987,
          1988,
          1989,
          1990,
          1991,
          1992,
          1993,
          1994,
          1995,
          1996,
          1997,
          1998,
          1999,
          2000,
          2001,
          2002,
          2003,
          2004,
          2005,
          2006,
          2007,
          2008,
          2009,
          2010,
          2011,
          2012,
          2013,
          2014,
          2015
         ],
         "y": [
          11.116666666666667,
          10.920833333333334,
          10.461666666666668,
          10.150833333333333,
          9.72,
          10.165000000000001,
          9.655833333333334,
          9.623333333333333,
          10.095,
          9.910833333333333,
          9.834166666666667,
          9.620833333333334,
          9.753333333333334,
          9.486666666666666,
          8.31,
          8.268333333333333,
          7.989166666666667,
          7.884166666666666,
          7.868333333333333,
          7.610833333333333,
          6.8825,
          6.800833333333333,
          6.830000000000001,
          6.8075,
          6.8275,
          6.730833333333333,
          7.173333333333333,
          7.120833333333334,
          7.071666666666666,
          6.844166666666666,
          6.5375000000000005
         ]
        },
        {
         "line": {
          "color": "#3e4a89"
         },
         "name": "Brazil",
         "type": "scatter",
         "x": [
          1985,
          1986,
          1987,
          1988,
          1989,
          1990,
          1991,
          1992,
          1993,
          1994,
          1995,
          1996,
          1997,
          1998,
          1999,
          2000,
          2001,
          2002,
          2003,
          2004,
          2005,
          2006,
          2007,
          2008,
          2009,
          2010,
          2011,
          2012,
          2013,
          2014,
          2015
         ],
         "y": [
          4.931666666666667,
          4.763333333333333,
          5.843333333333334,
          5.446666666666666,
          5.335,
          5.588333333333334,
          5.695,
          5.41,
          5.655,
          5.959166666666667,
          6.27,
          6.110833333333333,
          6.3999999999999995,
          6.254166666666666,
          5.637499999999999,
          5.685833333333334,
          6.1241666666666665,
          5.814166666666666,
          5.672499999999999,
          5.851666666666667,
          6.133333333333333,
          5.824999999999999,
          5.973333333333334,
          6.017499999999999,
          5.864166666666667,
          6.060833333333334,
          6.034166666666667,
          6.204166666666667,
          6.1175,
          6.094166666666666,
          6.454166666666667
         ]
        },
        {
         "line": {
          "color": "#3a548c"
         },
         "name": "Canada",
         "type": "scatter",
         "x": [
          1985,
          1986,
          1987,
          1988,
          1989,
          1990,
          1991,
          1992,
          1993,
          1994,
          1995,
          1996,
          1997,
          1998,
          1999,
          2000,
          2001,
          2002,
          2003,
          2004,
          2005,
          2006,
          2007,
          2008,
          2009,
          2010,
          2011,
          2012,
          2013
         ],
         "y": [
          13.871666666666668,
          15.8425,
          14.944166666666666,
          14.615,
          14.248333333333333,
          13.751666666666667,
          13.981666666666667,
          13.633333333333333,
          13.668333333333335,
          13.4925,
          13.626666666666667,
          13.574166666666665,
          12.619166666666667,
          12.51,
          13.203333333333333,
          11.583333333333334,
          11.4525,
          11.4775,
          11.439166666666667,
          10.971666666666666,
          11.153333333333334,
          10.535833333333333,
          10.620833333333334,
          10.6325,
          10.889166666666666,
          11.055833333333332,
          10.418333333333333,
          10.656666666666666,
          11.090833333333334
         ]
        },
        {
         "line": {
          "color": "#365d8d"
         },
         "name": "Russian Federation",
         "type": "scatter",
         "x": [
          1989,
          1990,
          1991,
          1992,
          1993,
          1994,
          1995,
          1996,
          1997,
          1998,
          1999,
          2000,
          2001,
          2002,
          2003,
          2004,
          2005,
          2006,
          2007,
          2008,
          2009,
          2010,
          2011,
          2012,
          2013,
          2014,
          2015
         ],
         "y": [
          33.235,
          33.26416666666667,
          33.03333333333333,
          36.45666666666667,
          43.505,
          47.303333333333335,
          45.615,
          43.85666666666666,
          42.34083333333333,
          39.56166666666667,
          42.51083333333333,
          42.03916666666667,
          42.05416666666667,
          40.7125,
          39.07583333333333,
          37.30083333333334,
          35.028333333333336,
          33.4425,
          32.24916666666667,
          30.566666666666666,
          29.400000000000002,
          26.600833333333338,
          24.973333333333333,
          23.7925,
          22.830833333333334,
          21.601666666666663,
          19.743333333333332
         ]
        },
        {
         "line": {
          "color": "#32658e"
         },
         "name": "Spain",
         "type": "scatter",
         "x": [
          1985,
          1986,
          1987,
          1988,
          1989,
          1990,
          1991,
          1992,
          1993,
          1994,
          1995,
          1996,
          1997,
          1998,
          1999,
          2000,
          2001,
          2002,
          2003,
          2004,
          2005,
          2006,
          2007,
          2008,
          2009,
          2010,
          2011,
          2012,
          2013,
          2014,
          2015
         ],
         "y": [
          9.5775,
          9.985833333333334,
          10.178333333333333,
          10.606666666666667,
          10.540833333333333,
          10.770000000000001,
          10.153333333333332,
          9.9175,
          10.070833333333335,
          10.360000000000001,
          10.3175,
          10.544166666666667,
          10.943333333333333,
          10.336666666666668,
          9.923333333333334,
          10.184166666666668,
          9.366666666666667,
          9.636666666666667,
          9.7075,
          9.385833333333334,
          8.971666666666666,
          8.3225,
          8.245833333333334,
          8.209999999999999,
          8.168333333333333,
          7.286666666666666,
          7.3825,
          8.073333333333332,
          8.443333333333333,
          8.695833333333335,
          8.115
         ]
        },
        {
         "line": {
          "color": "#2b758e"
         },
         "name": "Mexico",
         "type": "scatter",
         "x": [
          1985,
          1986,
          1987,
          1988,
          1989,
          1990,
          1991,
          1992,
          1993,
          1994,
          1995,
          1996,
          1997,
          1998,
          1999,
          2000,
          2001,
          2002,
          2003,
          2004,
          2005,
          2006,
          2007,
          2008,
          2009,
          2010,
          2011,
          2012,
          2013,
          2014,
          2015
         ],
         "y": [
          3.1808333333333336,
          3.811666666666667,
          3.4525,
          3.518333333333333,
          4.0216666666666665,
          4.070833333333334,
          3.9741666666666666,
          4.339166666666666,
          4.333333333333333,
          4.66,
          4.924166666666667,
          4.694166666666667,
          4.755833333333333,
          4.736666666666667,
          4.574166666666667,
          4.574166666666667,
          5.2749999999999995,
          4.863333333333333,
          5.25,
          5.0625,
          5.185,
          4.935,
          4.8341666666666665,
          5.069166666666667,
          5.345,
          5.0841666666666665,
          5.46,
          5.285833333333334,
          5.415833333333333,
          5.698333333333333,
          5.547499999999999
         ]
        },
        {
         "line": {
          "color": "#287d8e"
         },
         "name": "Republic of Korea",
         "type": "scatter",
         "x": [
          1985,
          1986,
          1987,
          1988,
          1989,
          1990,
          1991,
          1992,
          1993,
          1994,
          1995,
          1996,
          1997,
          1998,
          1999,
          2000,
          2001,
          2002,
          2003,
          2004,
          2005,
          2006,
          2007,
          2008,
          2009,
          2010,
          2011,
          2012,
          2013,
          2014,
          2015
         ],
         "y": [
          12.220833333333333,
          11.9425,
          10.686666666666667,
          9.548333333333334,
          10.116666666666667,
          10.044166666666667,
          9.681666666666667,
          10.615833333333333,
          13.29,
          13.783333333333333,
          14.94,
          18.0825,
          18.900000000000002,
          25.19333333333333,
          21.459999999999997,
          20.715833333333332,
          22.795,
          30.08666666666667,
          37.843333333333334,
          39.141666666666666,
          39.92,
          35.038333333333334,
          38.87833333333334,
          37.69,
          43.29333333333333,
          43.18333333333334,
          42.92083333333333,
          36.93833333333333,
          35.714166666666664,
          32.11083333333333,
          32.428333333333335
         ]
        },
        {
         "line": {
          "color": "#25848e"
         },
         "name": "Australia",
         "type": "scatter",
         "x": [
          1985,
          1986,
          1987,
          1988,
          1989,
          1990,
          1991,
          1992,
          1993,
          1994,
          1995,
          1996,
          1997,
          1998,
          1999,
          2000,
          2001,
          2002,
          2003,
          2004,
          2006,
          2007,
          2008,
          2009,
          2010,
          2011,
          2012,
          2013,
          2014,
          2015
         ],
         "y": [
          13.6175,
          14.649166666666666,
          15.735,
          14.943333333333333,
          14.009166666666667,
          14.362499999999999,
          15.012500000000001,
          14.22,
          12.912500000000001,
          13.979166666666666,
          12.9325,
          14.611666666666666,
          15.5775,
          14.700833333333334,
          13.929166666666667,
          13.151666666666666,
          13.2325,
          12.056666666666667,
          11.153333333333334,
          11.146666666666667,
          10.6575,
          10.854166666666666,
          10.874166666666667,
          10.843333333333334,
          11.053333333333335,
          11.101666666666667,
          11.630833333333333,
          11.565,
          12.4225,
          12.848333333333334
         ]
        },
        {
         "line": {
          "color": "#228c8d"
         },
         "name": "Netherlands",
         "type": "scatter",
         "x": [
          1985,
          1986,
          1987,
          1988,
          1989,
          1990,
          1991,
          1992,
          1993,
          1994,
          1995,
          1996,
          1997,
          1998,
          1999,
          2000,
          2001,
          2002,
          2003,
          2004,
          2005,
          2006,
          2007,
          2008,
          2009,
          2010,
          2011,
          2012,
          2013,
          2014,
          2015
         ],
         "y": [
          13.324166666666668,
          13.19,
          13.097500000000002,
          12.299999999999999,
          11.334166666666667,
          11.347499999999998,
          12.540833333333333,
          11.957500000000001,
          11.331666666666665,
          11.413333333333334,
          10.418333333333333,
          11.255833333333333,
          11.380833333333333,
          10.708333333333334,
          10.263333333333334,
          9.915833333333333,
          9.691666666666666,
          9.977500000000001,
          9.444166666666666,
          9.263333333333334,
          9.44,
          9.4325,
          8.12,
          8.5075,
          9.025,
          9.124166666666667,
          9.423333333333334,
          9.875833333333334,
          10.460833333333333,
          10.118333333333334,
          10.5775
         ]
        },
        {
         "line": {
          "color": "#1f948c"
         },
         "name": "Switzerland",
         "type": "scatter",
         "x": [
          1995,
          1996,
          1997,
          1998,
          1999,
          2000,
          2001,
          2002,
          2003,
          2004,
          2005,
          2006,
          2007,
          2008,
          2009,
          2010,
          2011,
          2012,
          2013,
          2014,
          2015
         ],
         "y": [
          23.589166666666667,
          23.324166666666667,
          22.230833333333333,
          22.785,
          20.99833333333333,
          22.183333333333334,
          21.8075,
          22.808333333333334,
          20.221666666666668,
          20.18916666666667,
          20.515833333333333,
          20.135833333333334,
          21.3175,
          19.7925,
          15.010833333333332,
          13.376666666666667,
          14.018333333333333,
          13.782499999999999,
          14.188333333333333,
          13.508333333333333,
          13.721666666666666
         ]
        },
        {
         "line": {
          "color": "#1e9c89"
         },
         "name": "Sweden",
         "type": "scatter",
         "x": [
          1987,
          1988,
          1989,
          1990,
          1991,
          1992,
          1993,
          1994,
          1995,
          1996,
          1997,
          1998,
          1999,
          2000,
          2001,
          2002,
          2003,
          2004,
          2005,
          2006,
          2007,
          2008,
          2009,
          2010,
          2011,
          2012,
          2013,
          2014,
          2015
         ],
         "y": [
          19.2425,
          19.305833333333332,
          19.861666666666668,
          18.504166666666666,
          18.128333333333334,
          16.731666666666666,
          16.7475,
          16.3075,
          15.976666666666667,
          14.853333333333333,
          13.9325,
          14.65,
          14.386666666666665,
          13.541666666666666,
          13.957500000000001,
          13.559166666666668,
          12.784166666666666,
          13.1175,
          13.718333333333334,
          13.396666666666667,
          12.282499999999999,
          12.973333333333334,
          13.366666666666667,
          12.211666666666666,
          11.814166666666667,
          12.3425,
          13.183333333333335,
          12.420833333333334,
          12.441666666666668
         ]
        },
        {
         "line": {
          "color": "#20a386"
         },
         "name": "Belgium",
         "type": "scatter",
         "x": [
          1985,
          1986,
          1987,
          1988,
          1989,
          1990,
          1991,
          1992,
          1993,
          1994,
          1995,
          1996,
          1997,
          1998,
          1999,
          2000,
          2001,
          2002,
          2003,
          2004,
          2005,
          2006,
          2007,
          2008,
          2009,
          2010,
          2011,
          2012,
          2013,
          2014,
          2015
         ],
         "y": [
          27.67,
          26.224166666666665,
          27.313333333333333,
          23.650000000000002,
          23.7375,
          23.0925,
          22.001666666666665,
          22.156666666666666,
          25.03916666666667,
          25.03333333333333,
          23.825,
          22.295,
          23.728333333333335,
          22.061666666666667,
          19.224999999999998,
          22.316666666666666,
          21.76833333333333,
          20.654999999999998,
          20.7275,
          19.255,
          19.3125,
          17.908333333333335,
          17.38083333333333,
          18.461666666666666,
          18.195833333333333,
          18.348333333333333,
          18.892500000000002,
          18.094166666666666,
          16.79583333333333,
          16.820833333333333,
          16.388333333333332
         ]
        },
        {
         "line": {
          "color": "#25ab82"
         },
         "name": "Poland",
         "type": "scatter",
         "x": [
          1990,
          1991,
          1992,
          1993,
          1994,
          1995,
          1996,
          1999,
          2000,
          2001,
          2002,
          2003,
          2004,
          2005,
          2006,
          2007,
          2008,
          2009,
          2010,
          2011,
          2012,
          2013,
          2014,
          2015
         ],
         "y": [
          14.386666666666668,
          15.0225,
          16.2025,
          15.654166666666667,
          15.496666666666668,
          15.141666666666666,
          14.850833333333334,
          15.345833333333333,
          15.917500000000002,
          15.054166666666667,
          15.2725,
          15.012500000000001,
          15.645000000000001,
          15.503333333333332,
          15.237499999999999,
          13.8725,
          14.781666666666666,
          16.425,
          15.886666666666665,
          15.321666666666667,
          16.030833333333334,
          15.6325,
          14.858333333333334,
          13.915833333333333
         ]
        },
        {
         "line": {
          "color": "#2eb37c"
         },
         "name": "Argentina",
         "type": "scatter",
         "x": [
          1985,
          1986,
          1987,
          1988,
          1989,
          1990,
          1991,
          1992,
          1993,
          1994,
          1995,
          1996,
          1997,
          1998,
          1999,
          2000,
          2001,
          2002,
          2003,
          2004,
          2005,
          2006,
          2007,
          2008,
          2009,
          2010,
          2011,
          2012,
          2013,
          2014,
          2015
         ],
         "y": [
          11.205833333333333,
          12.741666666666667,
          12.081666666666665,
          12.186666666666667,
          11.5775,
          11.241666666666667,
          9.936666666666666,
          10.571666666666667,
          11.230833333333335,
          10.170833333333333,
          9.9975,
          9.835833333333333,
          9.283333333333333,
          9.744166666666667,
          9.765833333333333,
          10.949166666666665,
          11.963333333333333,
          11.618333333333334,
          12.190833333333332,
          10.921666666666667,
          10.681666666666667,
          10.685,
          9.862499999999999,
          9.8425,
          8.943333333333333,
          9.27,
          8.8225,
          9.985,
          8.618333333333334,
          9.279166666666667,
          9.344166666666666
         ]
        },
        {
         "line": {
          "color": "#3aba76"
         },
         "name": "Austria",
         "type": "scatter",
         "x": [
          1985,
          1986,
          1987,
          1988,
          1989,
          1990,
          1991,
          1992,
          1993,
          1994,
          1995,
          1996,
          1997,
          1998,
          1999,
          2000,
          2001,
          2002,
          2003,
          2004,
          2005,
          2006,
          2007,
          2008,
          2009,
          2010,
          2011,
          2012,
          2013,
          2014,
          2015
         ],
         "y": [
          32.0675,
          33.483333333333334,
          33.82333333333333,
          29.80333333333333,
          29.94333333333333,
          29.48166666666667,
          29.6225,
          28.478333333333335,
          28.996666666666666,
          28.635,
          29.007499999999997,
          28.554166666666664,
          24.791666666666668,
          24.115,
          23.358333333333334,
          24.147499999999997,
          21.825833333333335,
          23.076666666666668,
          21.421666666666667,
          21.169999999999998,
          19.604166666666668,
          18.241666666666667,
          18.109166666666667,
          18.037499999999998,
          17.768333333333334,
          17.295833333333334,
          17.624166666666667,
          17.219166666666666,
          17.676666666666666,
          17.485,
          16.218333333333334
         ]
        },
        {
         "line": {
          "color": "#58c765"
         },
         "name": "Denmark",
         "type": "scatter",
         "x": [
          1994,
          1995,
          1996,
          1997,
          1998,
          1999,
          2000,
          2001,
          2002,
          2003,
          2004,
          2005,
          2006,
          2007,
          2008,
          2009,
          2010,
          2011,
          2012,
          2013,
          2014,
          2015
         ],
         "y": [
          21.101666666666667,
          19.9275,
          19.13,
          18.205000000000002,
          15.723333333333334,
          15.2575,
          15.089166666666666,
          15.514166666666666,
          14.709166666666667,
          13.058333333333332,
          13.481666666666667,
          13.685833333333333,
          13.506666666666666,
          11.663333333333334,
          11.920833333333334,
          12.058333333333332,
          10.835,
          10.5275,
          11.934166666666668,
          11.2125,
          11.4775,
          10.118333333333334
         ]
        },
        {
         "line": {
          "color": "#6ccd5a"
         },
         "name": "Norway",
         "type": "scatter",
         "x": [
          1986,
          1987,
          1988,
          1989,
          1990,
          1991,
          1992,
          1993,
          1994,
          1995,
          1996,
          1997,
          1998,
          1999,
          2000,
          2001,
          2002,
          2003,
          2004,
          2005,
          2006,
          2007,
          2008,
          2009,
          2010,
          2011,
          2012,
          2013,
          2014,
          2015
         ],
         "y": [
          13.635,
          15.963333333333333,
          17.375,
          16.490833333333335,
          15.9425,
          16.235,
          15.136666666666668,
          14.8375,
          12.544166666666667,
          13.029166666666667,
          12.8275,
          13.217500000000001,
          12.805,
          13.610833333333334,
          12.527499999999998,
          12.8575,
          11.75,
          11.506666666666666,
          11.780833333333334,
          11.840833333333334,
          11.889166666666666,
          10.647499999999999,
          11.0025,
          12.145000000000001,
          11.369166666666667,
          12.207500000000001,
          10.5,
          10.584166666666667,
          10.6025,
          11.369166666666667
         ]
        },
        {
         "line": {
          "color": "#93d741"
         },
         "name": "Thailand",
         "type": "scatter",
         "x": [
          1985,
          1986,
          1987,
          1990,
          1991,
          1992,
          1994,
          1995,
          1996,
          1997,
          1998,
          1999,
          2000,
          2002,
          2003,
          2004,
          2005,
          2006,
          2007,
          2008,
          2009,
          2010,
          2011,
          2012,
          2013,
          2014,
          2015
         ],
         "y": [
          6.878333333333333,
          5.9925,
          6.818333333333334,
          7.993333333333333,
          7.204999999999999,
          6.925,
          4.689166666666667,
          7.793333333333334,
          7.754166666666666,
          7.197500000000001,
          8.296666666666667,
          9.085833333333333,
          8.841666666666667,
          8.593333333333334,
          7.596666666666667,
          7.171666666666667,
          6.4991666666666665,
          5.753333333333334,
          6.595,
          6.515000000000001,
          6.546666666666667,
          6.708333333333333,
          6.465833333333333,
          6.724166666666666,
          6.63,
          6.413333333333334,
          6.7625
         ]
        },
        {
         "line": {
          "color": "#a8db34"
         },
         "name": "Greece",
         "type": "scatter",
         "x": [
          1985,
          1986,
          1987,
          1988,
          1989,
          1990,
          1991,
          1992,
          1993,
          1994,
          1995,
          1996,
          1997,
          1998,
          1999,
          2000,
          2001,
          2002,
          2003,
          2004,
          2005,
          2006,
          2007,
          2008,
          2009,
          2010,
          2011,
          2012,
          2013,
          2014,
          2015
         ],
         "y": [
          4.8475,
          5.100833333333333,
          5.255,
          5.01,
          4.5441666666666665,
          4.2908333333333335,
          4.5475,
          4.0775,
          4.425,
          3.9033333333333338,
          4.14,
          3.7608333333333337,
          3.971666666666667,
          4.0225,
          3.811666666666667,
          3.7383333333333333,
          3.234166666666667,
          3.1958333333333333,
          3.3891666666666667,
          3.41,
          3.8775,
          3.784166666666667,
          2.825833333333333,
          3.358333333333333,
          3.4141666666666666,
          3.3249999999999997,
          4.056666666666667,
          4.443333333333333,
          4.5925,
          4.985,
          4.671666666666667
         ]
        },
        {
         "line": {
          "color": "#c0df25"
         },
         "name": "Finland",
         "type": "scatter",
         "x": [
          1987,
          1988,
          1989,
          1990,
          1991,
          1992,
          1993,
          1994,
          1995,
          1996,
          1997,
          1998,
          1999,
          2000,
          2001,
          2002,
          2003,
          2004,
          2005,
          2006,
          2007,
          2008,
          2009,
          2010,
          2011,
          2012,
          2013,
          2014,
          2015
         ],
         "y": [
          28.945833333333336,
          29.503333333333334,
          31.113333333333333,
          33.01833333333334,
          31.465,
          29.155833333333334,
          27.75,
          27.52,
          27.08,
          24.1375,
          25.8625,
          25.11916666666667,
          23.5925,
          22.1375,
          22.265833333333333,
          21.293333333333333,
          20.2875,
          20.32916666666667,
          19.21,
          19.483333333333334,
          18.59,
          18.357499999999998,
          19.04083333333333,
          17.934166666666666,
          16.9675,
          15.584166666666667,
          16.4025,
          14.763333333333334,
          13.4325
         ]
        },
        {
         "line": {
          "color": "#d5e21a"
         },
         "name": "Colombia",
         "type": "scatter",
         "x": [
          1985,
          1986,
          1987,
          1988,
          1989,
          1990,
          1991,
          1992,
          1993,
          1994,
          1995,
          1996,
          1997,
          1998,
          1999,
          2000,
          2001,
          2002,
          2003,
          2004,
          2005,
          2006,
          2007,
          2008,
          2009,
          2010,
          2011,
          2012,
          2013,
          2014,
          2015
         ],
         "y": [
          5.213333333333334,
          4.175833333333333,
          3.7641666666666667,
          4.22,
          3.474166666666667,
          3.6191666666666666,
          3.6308333333333334,
          4.123333333333333,
          4.1025,
          4.6625000000000005,
          4.136666666666667,
          4.430833333333333,
          4.3975,
          6.806666666666666,
          7.008333333333333,
          7.4816666666666665,
          7.355833333333333,
          6.781666666666666,
          6.654166666666666,
          7.020833333333333,
          6.236666666666667,
          6.534166666666667,
          6.1875,
          6.185,
          6.1525,
          5.603333333333333,
          5.239999999999999,
          5.5375000000000005,
          5.2941666666666665,
          5.551666666666667,
          5.866666666666666
         ]
        },
        {
         "line": {
          "color": "#eae51a"
         },
         "name": "Israel",
         "type": "scatter",
         "x": [
          1985,
          1986,
          1987,
          1988,
          1989,
          1990,
          1991,
          1992,
          1993,
          1994,
          1995,
          1996,
          1997,
          1998,
          1999,
          2000,
          2001,
          2002,
          2003,
          2004,
          2005,
          2006,
          2007,
          2008,
          2009,
          2010,
          2011,
          2012,
          2013,
          2014,
          2015
         ],
         "y": [
          9.335833333333333,
          10.856666666666667,
          11.134166666666667,
          10.346666666666666,
          14.193333333333333,
          10.188333333333334,
          11.611666666666666,
          10.9125,
          11.435833333333333,
          12.490833333333335,
          10.619166666666667,
          9.209166666666667,
          10.548333333333334,
          8.3425,
          8.548333333333334,
          9.046666666666667,
          9.019166666666667,
          7.790833333333333,
          8.0975,
          8.203333333333333,
          8.575833333333334,
          6.71,
          6.139166666666667,
          7.2775,
          6.6933333333333325,
          8.289166666666667,
          7.284166666666667,
          6.982500000000001,
          6.184166666666666,
          5.938333333333333,
          5.4925
         ]
        }
       ],
       "layout": {
        "template": {
         "data": {
          "bar": [
           {
            "error_x": {
             "color": "#2a3f5f"
            },
            "error_y": {
             "color": "#2a3f5f"
            },
            "marker": {
             "line": {
              "color": "#E5ECF6",
              "width": 0.5
             },
             "pattern": {
              "fillmode": "overlay",
              "size": 10,
              "solidity": 0.2
             }
            },
            "type": "bar"
           }
          ],
          "barpolar": [
           {
            "marker": {
             "line": {
              "color": "#E5ECF6",
              "width": 0.5
             },
             "pattern": {
              "fillmode": "overlay",
              "size": 10,
              "solidity": 0.2
             }
            },
            "type": "barpolar"
           }
          ],
          "carpet": [
           {
            "aaxis": {
             "endlinecolor": "#2a3f5f",
             "gridcolor": "white",
             "linecolor": "white",
             "minorgridcolor": "white",
             "startlinecolor": "#2a3f5f"
            },
            "baxis": {
             "endlinecolor": "#2a3f5f",
             "gridcolor": "white",
             "linecolor": "white",
             "minorgridcolor": "white",
             "startlinecolor": "#2a3f5f"
            },
            "type": "carpet"
           }
          ],
          "choropleth": [
           {
            "colorbar": {
             "outlinewidth": 0,
             "ticks": ""
            },
            "type": "choropleth"
           }
          ],
          "contour": [
           {
            "colorbar": {
             "outlinewidth": 0,
             "ticks": ""
            },
            "colorscale": [
             [
              0,
              "#0d0887"
             ],
             [
              0.1111111111111111,
              "#46039f"
             ],
             [
              0.2222222222222222,
              "#7201a8"
             ],
             [
              0.3333333333333333,
              "#9c179e"
             ],
             [
              0.4444444444444444,
              "#bd3786"
             ],
             [
              0.5555555555555556,
              "#d8576b"
             ],
             [
              0.6666666666666666,
              "#ed7953"
             ],
             [
              0.7777777777777778,
              "#fb9f3a"
             ],
             [
              0.8888888888888888,
              "#fdca26"
             ],
             [
              1,
              "#f0f921"
             ]
            ],
            "type": "contour"
           }
          ],
          "contourcarpet": [
           {
            "colorbar": {
             "outlinewidth": 0,
             "ticks": ""
            },
            "type": "contourcarpet"
           }
          ],
          "heatmap": [
           {
            "colorbar": {
             "outlinewidth": 0,
             "ticks": ""
            },
            "colorscale": [
             [
              0,
              "#0d0887"
             ],
             [
              0.1111111111111111,
              "#46039f"
             ],
             [
              0.2222222222222222,
              "#7201a8"
             ],
             [
              0.3333333333333333,
              "#9c179e"
             ],
             [
              0.4444444444444444,
              "#bd3786"
             ],
             [
              0.5555555555555556,
              "#d8576b"
             ],
             [
              0.6666666666666666,
              "#ed7953"
             ],
             [
              0.7777777777777778,
              "#fb9f3a"
             ],
             [
              0.8888888888888888,
              "#fdca26"
             ],
             [
              1,
              "#f0f921"
             ]
            ],
            "type": "heatmap"
           }
          ],
          "heatmapgl": [
           {
            "colorbar": {
             "outlinewidth": 0,
             "ticks": ""
            },
            "colorscale": [
             [
              0,
              "#0d0887"
             ],
             [
              0.1111111111111111,
              "#46039f"
             ],
             [
              0.2222222222222222,
              "#7201a8"
             ],
             [
              0.3333333333333333,
              "#9c179e"
             ],
             [
              0.4444444444444444,
              "#bd3786"
             ],
             [
              0.5555555555555556,
              "#d8576b"
             ],
             [
              0.6666666666666666,
              "#ed7953"
             ],
             [
              0.7777777777777778,
              "#fb9f3a"
             ],
             [
              0.8888888888888888,
              "#fdca26"
             ],
             [
              1,
              "#f0f921"
             ]
            ],
            "type": "heatmapgl"
           }
          ],
          "histogram": [
           {
            "marker": {
             "pattern": {
              "fillmode": "overlay",
              "size": 10,
              "solidity": 0.2
             }
            },
            "type": "histogram"
           }
          ],
          "histogram2d": [
           {
            "colorbar": {
             "outlinewidth": 0,
             "ticks": ""
            },
            "colorscale": [
             [
              0,
              "#0d0887"
             ],
             [
              0.1111111111111111,
              "#46039f"
             ],
             [
              0.2222222222222222,
              "#7201a8"
             ],
             [
              0.3333333333333333,
              "#9c179e"
             ],
             [
              0.4444444444444444,
              "#bd3786"
             ],
             [
              0.5555555555555556,
              "#d8576b"
             ],
             [
              0.6666666666666666,
              "#ed7953"
             ],
             [
              0.7777777777777778,
              "#fb9f3a"
             ],
             [
              0.8888888888888888,
              "#fdca26"
             ],
             [
              1,
              "#f0f921"
             ]
            ],
            "type": "histogram2d"
           }
          ],
          "histogram2dcontour": [
           {
            "colorbar": {
             "outlinewidth": 0,
             "ticks": ""
            },
            "colorscale": [
             [
              0,
              "#0d0887"
             ],
             [
              0.1111111111111111,
              "#46039f"
             ],
             [
              0.2222222222222222,
              "#7201a8"
             ],
             [
              0.3333333333333333,
              "#9c179e"
             ],
             [
              0.4444444444444444,
              "#bd3786"
             ],
             [
              0.5555555555555556,
              "#d8576b"
             ],
             [
              0.6666666666666666,
              "#ed7953"
             ],
             [
              0.7777777777777778,
              "#fb9f3a"
             ],
             [
              0.8888888888888888,
              "#fdca26"
             ],
             [
              1,
              "#f0f921"
             ]
            ],
            "type": "histogram2dcontour"
           }
          ],
          "mesh3d": [
           {
            "colorbar": {
             "outlinewidth": 0,
             "ticks": ""
            },
            "type": "mesh3d"
           }
          ],
          "parcoords": [
           {
            "line": {
             "colorbar": {
              "outlinewidth": 0,
              "ticks": ""
             }
            },
            "type": "parcoords"
           }
          ],
          "pie": [
           {
            "automargin": true,
            "type": "pie"
           }
          ],
          "scatter": [
           {
            "fillpattern": {
             "fillmode": "overlay",
             "size": 10,
             "solidity": 0.2
            },
            "type": "scatter"
           }
          ],
          "scatter3d": [
           {
            "line": {
             "colorbar": {
              "outlinewidth": 0,
              "ticks": ""
             }
            },
            "marker": {
             "colorbar": {
              "outlinewidth": 0,
              "ticks": ""
             }
            },
            "type": "scatter3d"
           }
          ],
          "scattercarpet": [
           {
            "marker": {
             "colorbar": {
              "outlinewidth": 0,
              "ticks": ""
             }
            },
            "type": "scattercarpet"
           }
          ],
          "scattergeo": [
           {
            "marker": {
             "colorbar": {
              "outlinewidth": 0,
              "ticks": ""
             }
            },
            "type": "scattergeo"
           }
          ],
          "scattergl": [
           {
            "marker": {
             "colorbar": {
              "outlinewidth": 0,
              "ticks": ""
             }
            },
            "type": "scattergl"
           }
          ],
          "scattermapbox": [
           {
            "marker": {
             "colorbar": {
              "outlinewidth": 0,
              "ticks": ""
             }
            },
            "type": "scattermapbox"
           }
          ],
          "scatterpolar": [
           {
            "marker": {
             "colorbar": {
              "outlinewidth": 0,
              "ticks": ""
             }
            },
            "type": "scatterpolar"
           }
          ],
          "scatterpolargl": [
           {
            "marker": {
             "colorbar": {
              "outlinewidth": 0,
              "ticks": ""
             }
            },
            "type": "scatterpolargl"
           }
          ],
          "scatterternary": [
           {
            "marker": {
             "colorbar": {
              "outlinewidth": 0,
              "ticks": ""
             }
            },
            "type": "scatterternary"
           }
          ],
          "surface": [
           {
            "colorbar": {
             "outlinewidth": 0,
             "ticks": ""
            },
            "colorscale": [
             [
              0,
              "#0d0887"
             ],
             [
              0.1111111111111111,
              "#46039f"
             ],
             [
              0.2222222222222222,
              "#7201a8"
             ],
             [
              0.3333333333333333,
              "#9c179e"
             ],
             [
              0.4444444444444444,
              "#bd3786"
             ],
             [
              0.5555555555555556,
              "#d8576b"
             ],
             [
              0.6666666666666666,
              "#ed7953"
             ],
             [
              0.7777777777777778,
              "#fb9f3a"
             ],
             [
              0.8888888888888888,
              "#fdca26"
             ],
             [
              1,
              "#f0f921"
             ]
            ],
            "type": "surface"
           }
          ],
          "table": [
           {
            "cells": {
             "fill": {
              "color": "#EBF0F8"
             },
             "line": {
              "color": "white"
             }
            },
            "header": {
             "fill": {
              "color": "#C8D4E3"
             },
             "line": {
              "color": "white"
             }
            },
            "type": "table"
           }
          ]
         },
         "layout": {
          "annotationdefaults": {
           "arrowcolor": "#2a3f5f",
           "arrowhead": 0,
           "arrowwidth": 1
          },
          "autotypenumbers": "strict",
          "coloraxis": {
           "colorbar": {
            "outlinewidth": 0,
            "ticks": ""
           }
          },
          "colorscale": {
           "diverging": [
            [
             0,
             "#8e0152"
            ],
            [
             0.1,
             "#c51b7d"
            ],
            [
             0.2,
             "#de77ae"
            ],
            [
             0.3,
             "#f1b6da"
            ],
            [
             0.4,
             "#fde0ef"
            ],
            [
             0.5,
             "#f7f7f7"
            ],
            [
             0.6,
             "#e6f5d0"
            ],
            [
             0.7,
             "#b8e186"
            ],
            [
             0.8,
             "#7fbc41"
            ],
            [
             0.9,
             "#4d9221"
            ],
            [
             1,
             "#276419"
            ]
           ],
           "sequential": [
            [
             0,
             "#0d0887"
            ],
            [
             0.1111111111111111,
             "#46039f"
            ],
            [
             0.2222222222222222,
             "#7201a8"
            ],
            [
             0.3333333333333333,
             "#9c179e"
            ],
            [
             0.4444444444444444,
             "#bd3786"
            ],
            [
             0.5555555555555556,
             "#d8576b"
            ],
            [
             0.6666666666666666,
             "#ed7953"
            ],
            [
             0.7777777777777778,
             "#fb9f3a"
            ],
            [
             0.8888888888888888,
             "#fdca26"
            ],
            [
             1,
             "#f0f921"
            ]
           ],
           "sequentialminus": [
            [
             0,
             "#0d0887"
            ],
            [
             0.1111111111111111,
             "#46039f"
            ],
            [
             0.2222222222222222,
             "#7201a8"
            ],
            [
             0.3333333333333333,
             "#9c179e"
            ],
            [
             0.4444444444444444,
             "#bd3786"
            ],
            [
             0.5555555555555556,
             "#d8576b"
            ],
            [
             0.6666666666666666,
             "#ed7953"
            ],
            [
             0.7777777777777778,
             "#fb9f3a"
            ],
            [
             0.8888888888888888,
             "#fdca26"
            ],
            [
             1,
             "#f0f921"
            ]
           ]
          },
          "colorway": [
           "#636efa",
           "#EF553B",
           "#00cc96",
           "#ab63fa",
           "#FFA15A",
           "#19d3f3",
           "#FF6692",
           "#B6E880",
           "#FF97FF",
           "#FECB52"
          ],
          "font": {
           "color": "#2a3f5f"
          },
          "geo": {
           "bgcolor": "white",
           "lakecolor": "white",
           "landcolor": "#E5ECF6",
           "showlakes": true,
           "showland": true,
           "subunitcolor": "white"
          },
          "hoverlabel": {
           "align": "left"
          },
          "hovermode": "closest",
          "mapbox": {
           "style": "light"
          },
          "paper_bgcolor": "white",
          "plot_bgcolor": "#E5ECF6",
          "polar": {
           "angularaxis": {
            "gridcolor": "white",
            "linecolor": "white",
            "ticks": ""
           },
           "bgcolor": "#E5ECF6",
           "radialaxis": {
            "gridcolor": "white",
            "linecolor": "white",
            "ticks": ""
           }
          },
          "scene": {
           "xaxis": {
            "backgroundcolor": "#E5ECF6",
            "gridcolor": "white",
            "gridwidth": 2,
            "linecolor": "white",
            "showbackground": true,
            "ticks": "",
            "zerolinecolor": "white"
           },
           "yaxis": {
            "backgroundcolor": "#E5ECF6",
            "gridcolor": "white",
            "gridwidth": 2,
            "linecolor": "white",
            "showbackground": true,
            "ticks": "",
            "zerolinecolor": "white"
           },
           "zaxis": {
            "backgroundcolor": "#E5ECF6",
            "gridcolor": "white",
            "gridwidth": 2,
            "linecolor": "white",
            "showbackground": true,
            "ticks": "",
            "zerolinecolor": "white"
           }
          },
          "shapedefaults": {
           "line": {
            "color": "#2a3f5f"
           }
          },
          "ternary": {
           "aaxis": {
            "gridcolor": "white",
            "linecolor": "white",
            "ticks": ""
           },
           "baxis": {
            "gridcolor": "white",
            "linecolor": "white",
            "ticks": ""
           },
           "bgcolor": "#E5ECF6",
           "caxis": {
            "gridcolor": "white",
            "linecolor": "white",
            "ticks": ""
           }
          },
          "title": {
           "x": 0.05
          },
          "xaxis": {
           "automargin": true,
           "gridcolor": "white",
           "linecolor": "white",
           "ticks": "",
           "title": {
            "standoff": 15
           },
           "zerolinecolor": "white",
           "zerolinewidth": 2
          },
          "yaxis": {
           "automargin": true,
           "gridcolor": "white",
           "linecolor": "white",
           "ticks": "",
           "title": {
            "standoff": 15
           },
           "zerolinecolor": "white",
           "zerolinewidth": 2
          }
         }
        }
       }
      },
      "text/html": [
       "<div>                            <div id=\"acc395bf-ec4e-42a7-b257-f039017abda7\" class=\"plotly-graph-div\" style=\"height:525px; width:100%;\"></div>            <script type=\"text/javascript\">                require([\"plotly\"], function(Plotly) {                    window.PLOTLYENV=window.PLOTLYENV || {};                                    if (document.getElementById(\"acc395bf-ec4e-42a7-b257-f039017abda7\")) {                    Plotly.newPlot(                        \"acc395bf-ec4e-42a7-b257-f039017abda7\",                        [{\"line\":{\"color\":\"#470d60\"},\"name\":\"USA\",\"x\":[1985,1986,1987,1988,1989,1990,1991,1992,1993,1994,1995,1996,1997,1998,1999,2000,2001,2002,2003,2004,2005,2006,2007,2008,2009,2010,2011,2012,2013,2014,2015],\"y\":[15.393333333333333,15.970833333333333,15.971666666666666,15.6425,15.203333333333333,15.65,15.314166666666667,14.814166666666667,14.926666666666668,14.669166666666667,14.424166666666666,13.870833333333332,13.496666666666668,13.375833333333333,12.564166666666667,12.215000000000002,12.351666666666667,12.501666666666667,12.136666666666665,12.241666666666667,12.223333333333334,12.094166666666666,12.426666666666668,12.770000000000001,12.849166666666667,13.240833333333333,13.530000000000001,13.761666666666665,13.889166666666668,14.277500000000002,14.6175],\"type\":\"scatter\"},{\"line\":{\"color\":\"#48186a\"},\"name\":\"Japan\",\"x\":[1985,1986,1987,1988,1989,1990,1991,1992,1993,1994,1995,1996,1997,1998,1999,2000,2001,2002,2003,2004,2005,2006,2007,2008,2009,2010,2011,2012,2013,2014,2015],\"y\":[25.039166666666663,26.962500000000002,24.6075,23.72666666666667,21.951666666666668,20.530833333333334,19.5425,20.023333333333333,18.675,19.079166666666666,19.010833333333334,19.04,19.781666666666666,25.55,24.90833333333333,23.209999999999997,22.263333333333335,22.153333333333332,23.284166666666664,22.1875,22.24083333333333,21.853333333333335,22.396666666666665,22.11,22.224166666666665,21.29,21.034166666666668,19.474999999999998,19.263333333333332,18.184166666666666,17.169999999999998],\"type\":\"scatter\"},{\"line\":{\"color\":\"#482374\"},\"name\":\"Germany\",\"x\":[1990,1991,1992,1993,1994,1995,1996,1997,1998,1999,2000,2001,2002,2003,2004,2005,2006,2007,2008,2009,2010,2011,2012,2013,2014,2015],\"y\":[21.620833333333334,21.50916666666667,20.836666666666666,19.625,19.232499999999998,19.465,18.035,17.580000000000002,16.709166666666665,15.770000000000001,15.4625,15.481666666666667,15.33,15.103333333333333,14.3525,13.457500000000001,12.71,12.21,12.126666666666667,12.126666666666667,12.680833333333334,12.735,12.359166666666667,12.756666666666666,12.753333333333332,12.528333333333334],\"type\":\"scatter\"},{\"line\":{\"color\":\"#472e7c\"},\"name\":\"United Kingdom\",\"x\":[1985,1986,1987,1988,1989,1990,1991,1992,1993,1994,1995,1996,1997,1998,1999,2000,2001,2002,2003,2004,2005,2006,2007,2008,2009,2010,2011,2012,2013,2014,2015],\"y\":[9.704166666666667,9.334166666666667,8.650833333333333,9.545833333333333,8.265833333333333,8.611666666666666,8.233333333333333,8.229166666666666,8.070833333333333,7.896666666666667,7.695,7.36,7.398333333333333,7.5633333333333335,7.703333333333333,7.2775,7.095,6.892499999999999,6.679166666666667,6.8933333333333335,6.596666666666667,6.514166666666667,6.243333333333333,6.725833333333333,6.5,6.450833333333333,6.524166666666667,6.6225,7.076666666666667,6.9941666666666675,7.228333333333333],\"type\":\"scatter\"},{\"line\":{\"color\":\"#453882\"},\"name\":\"France\",\"x\":[1985,1986,1987,1988,1989,1990,1991,1992,1993,1994,1995,1996,1997,1998,1999,2000,2001,2002,2003,2004,2005,2006,2007,2008,2009,2010,2011,2012,2013,2014],\"y\":[29.075,29.314166666666665,27.585833333333337,26.060000000000002,26.044166666666666,25.227500000000003,24.84166666666667,25.1225,26.0575,24.995833333333334,24.385,22.601666666666663,22.194166666666664,21.1375,20.485833333333332,21.435833333333335,19.995,19.886666666666667,20.109166666666667,19.375833333333336,19.340833333333332,18.385833333333334,17.8075,18.017500000000002,18.02,17.5975,17.598333333333333,16.581666666666667,16.0275,14.963333333333333],\"type\":\"scatter\"},{\"line\":{\"color\":\"#424186\"},\"name\":\"Italy\",\"x\":[1985,1986,1987,1988,1989,1990,1991,1992,1993,1994,1995,1996,1997,1998,1999,2000,2001,2002,2003,2004,2005,2006,2007,2008,2009,2010,2011,2012,2013,2014,2015],\"y\":[11.116666666666667,10.920833333333334,10.461666666666668,10.150833333333333,9.72,10.165000000000001,9.655833333333334,9.623333333333333,10.095,9.910833333333333,9.834166666666667,9.620833333333334,9.753333333333334,9.486666666666666,8.31,8.268333333333333,7.989166666666667,7.884166666666666,7.868333333333333,7.610833333333333,6.8825,6.800833333333333,6.830000000000001,6.8075,6.8275,6.730833333333333,7.173333333333333,7.120833333333334,7.071666666666666,6.844166666666666,6.5375000000000005],\"type\":\"scatter\"},{\"line\":{\"color\":\"#3e4a89\"},\"name\":\"Brazil\",\"x\":[1985,1986,1987,1988,1989,1990,1991,1992,1993,1994,1995,1996,1997,1998,1999,2000,2001,2002,2003,2004,2005,2006,2007,2008,2009,2010,2011,2012,2013,2014,2015],\"y\":[4.931666666666667,4.763333333333333,5.843333333333334,5.446666666666666,5.335,5.588333333333334,5.695,5.41,5.655,5.959166666666667,6.27,6.110833333333333,6.3999999999999995,6.254166666666666,5.637499999999999,5.685833333333334,6.1241666666666665,5.814166666666666,5.672499999999999,5.851666666666667,6.133333333333333,5.824999999999999,5.973333333333334,6.017499999999999,5.864166666666667,6.060833333333334,6.034166666666667,6.204166666666667,6.1175,6.094166666666666,6.454166666666667],\"type\":\"scatter\"},{\"line\":{\"color\":\"#3a548c\"},\"name\":\"Canada\",\"x\":[1985,1986,1987,1988,1989,1990,1991,1992,1993,1994,1995,1996,1997,1998,1999,2000,2001,2002,2003,2004,2005,2006,2007,2008,2009,2010,2011,2012,2013],\"y\":[13.871666666666668,15.8425,14.944166666666666,14.615,14.248333333333333,13.751666666666667,13.981666666666667,13.633333333333333,13.668333333333335,13.4925,13.626666666666667,13.574166666666665,12.619166666666667,12.51,13.203333333333333,11.583333333333334,11.4525,11.4775,11.439166666666667,10.971666666666666,11.153333333333334,10.535833333333333,10.620833333333334,10.6325,10.889166666666666,11.055833333333332,10.418333333333333,10.656666666666666,11.090833333333334],\"type\":\"scatter\"},{\"line\":{\"color\":\"#365d8d\"},\"name\":\"Russian Federation\",\"x\":[1989,1990,1991,1992,1993,1994,1995,1996,1997,1998,1999,2000,2001,2002,2003,2004,2005,2006,2007,2008,2009,2010,2011,2012,2013,2014,2015],\"y\":[33.235,33.26416666666667,33.03333333333333,36.45666666666667,43.505,47.303333333333335,45.615,43.85666666666666,42.34083333333333,39.56166666666667,42.51083333333333,42.03916666666667,42.05416666666667,40.7125,39.07583333333333,37.30083333333334,35.028333333333336,33.4425,32.24916666666667,30.566666666666666,29.400000000000002,26.600833333333338,24.973333333333333,23.7925,22.830833333333334,21.601666666666663,19.743333333333332],\"type\":\"scatter\"},{\"line\":{\"color\":\"#32658e\"},\"name\":\"Spain\",\"x\":[1985,1986,1987,1988,1989,1990,1991,1992,1993,1994,1995,1996,1997,1998,1999,2000,2001,2002,2003,2004,2005,2006,2007,2008,2009,2010,2011,2012,2013,2014,2015],\"y\":[9.5775,9.985833333333334,10.178333333333333,10.606666666666667,10.540833333333333,10.770000000000001,10.153333333333332,9.9175,10.070833333333335,10.360000000000001,10.3175,10.544166666666667,10.943333333333333,10.336666666666668,9.923333333333334,10.184166666666668,9.366666666666667,9.636666666666667,9.7075,9.385833333333334,8.971666666666666,8.3225,8.245833333333334,8.209999999999999,8.168333333333333,7.286666666666666,7.3825,8.073333333333332,8.443333333333333,8.695833333333335,8.115],\"type\":\"scatter\"},{\"line\":{\"color\":\"#2b758e\"},\"name\":\"Mexico\",\"x\":[1985,1986,1987,1988,1989,1990,1991,1992,1993,1994,1995,1996,1997,1998,1999,2000,2001,2002,2003,2004,2005,2006,2007,2008,2009,2010,2011,2012,2013,2014,2015],\"y\":[3.1808333333333336,3.811666666666667,3.4525,3.518333333333333,4.0216666666666665,4.070833333333334,3.9741666666666666,4.339166666666666,4.333333333333333,4.66,4.924166666666667,4.694166666666667,4.755833333333333,4.736666666666667,4.574166666666667,4.574166666666667,5.2749999999999995,4.863333333333333,5.25,5.0625,5.185,4.935,4.8341666666666665,5.069166666666667,5.345,5.0841666666666665,5.46,5.285833333333334,5.415833333333333,5.698333333333333,5.547499999999999],\"type\":\"scatter\"},{\"line\":{\"color\":\"#287d8e\"},\"name\":\"Republic of Korea\",\"x\":[1985,1986,1987,1988,1989,1990,1991,1992,1993,1994,1995,1996,1997,1998,1999,2000,2001,2002,2003,2004,2005,2006,2007,2008,2009,2010,2011,2012,2013,2014,2015],\"y\":[12.220833333333333,11.9425,10.686666666666667,9.548333333333334,10.116666666666667,10.044166666666667,9.681666666666667,10.615833333333333,13.29,13.783333333333333,14.94,18.0825,18.900000000000002,25.19333333333333,21.459999999999997,20.715833333333332,22.795,30.08666666666667,37.843333333333334,39.141666666666666,39.92,35.038333333333334,38.87833333333334,37.69,43.29333333333333,43.18333333333334,42.92083333333333,36.93833333333333,35.714166666666664,32.11083333333333,32.428333333333335],\"type\":\"scatter\"},{\"line\":{\"color\":\"#25848e\"},\"name\":\"Australia\",\"x\":[1985,1986,1987,1988,1989,1990,1991,1992,1993,1994,1995,1996,1997,1998,1999,2000,2001,2002,2003,2004,2006,2007,2008,2009,2010,2011,2012,2013,2014,2015],\"y\":[13.6175,14.649166666666666,15.735,14.943333333333333,14.009166666666667,14.362499999999999,15.012500000000001,14.22,12.912500000000001,13.979166666666666,12.9325,14.611666666666666,15.5775,14.700833333333334,13.929166666666667,13.151666666666666,13.2325,12.056666666666667,11.153333333333334,11.146666666666667,10.6575,10.854166666666666,10.874166666666667,10.843333333333334,11.053333333333335,11.101666666666667,11.630833333333333,11.565,12.4225,12.848333333333334],\"type\":\"scatter\"},{\"line\":{\"color\":\"#228c8d\"},\"name\":\"Netherlands\",\"x\":[1985,1986,1987,1988,1989,1990,1991,1992,1993,1994,1995,1996,1997,1998,1999,2000,2001,2002,2003,2004,2005,2006,2007,2008,2009,2010,2011,2012,2013,2014,2015],\"y\":[13.324166666666668,13.19,13.097500000000002,12.299999999999999,11.334166666666667,11.347499999999998,12.540833333333333,11.957500000000001,11.331666666666665,11.413333333333334,10.418333333333333,11.255833333333333,11.380833333333333,10.708333333333334,10.263333333333334,9.915833333333333,9.691666666666666,9.977500000000001,9.444166666666666,9.263333333333334,9.44,9.4325,8.12,8.5075,9.025,9.124166666666667,9.423333333333334,9.875833333333334,10.460833333333333,10.118333333333334,10.5775],\"type\":\"scatter\"},{\"line\":{\"color\":\"#1f948c\"},\"name\":\"Switzerland\",\"x\":[1995,1996,1997,1998,1999,2000,2001,2002,2003,2004,2005,2006,2007,2008,2009,2010,2011,2012,2013,2014,2015],\"y\":[23.589166666666667,23.324166666666667,22.230833333333333,22.785,20.99833333333333,22.183333333333334,21.8075,22.808333333333334,20.221666666666668,20.18916666666667,20.515833333333333,20.135833333333334,21.3175,19.7925,15.010833333333332,13.376666666666667,14.018333333333333,13.782499999999999,14.188333333333333,13.508333333333333,13.721666666666666],\"type\":\"scatter\"},{\"line\":{\"color\":\"#1e9c89\"},\"name\":\"Sweden\",\"x\":[1987,1988,1989,1990,1991,1992,1993,1994,1995,1996,1997,1998,1999,2000,2001,2002,2003,2004,2005,2006,2007,2008,2009,2010,2011,2012,2013,2014,2015],\"y\":[19.2425,19.305833333333332,19.861666666666668,18.504166666666666,18.128333333333334,16.731666666666666,16.7475,16.3075,15.976666666666667,14.853333333333333,13.9325,14.65,14.386666666666665,13.541666666666666,13.957500000000001,13.559166666666668,12.784166666666666,13.1175,13.718333333333334,13.396666666666667,12.282499999999999,12.973333333333334,13.366666666666667,12.211666666666666,11.814166666666667,12.3425,13.183333333333335,12.420833333333334,12.441666666666668],\"type\":\"scatter\"},{\"line\":{\"color\":\"#20a386\"},\"name\":\"Belgium\",\"x\":[1985,1986,1987,1988,1989,1990,1991,1992,1993,1994,1995,1996,1997,1998,1999,2000,2001,2002,2003,2004,2005,2006,2007,2008,2009,2010,2011,2012,2013,2014,2015],\"y\":[27.67,26.224166666666665,27.313333333333333,23.650000000000002,23.7375,23.0925,22.001666666666665,22.156666666666666,25.03916666666667,25.03333333333333,23.825,22.295,23.728333333333335,22.061666666666667,19.224999999999998,22.316666666666666,21.76833333333333,20.654999999999998,20.7275,19.255,19.3125,17.908333333333335,17.38083333333333,18.461666666666666,18.195833333333333,18.348333333333333,18.892500000000002,18.094166666666666,16.79583333333333,16.820833333333333,16.388333333333332],\"type\":\"scatter\"},{\"line\":{\"color\":\"#25ab82\"},\"name\":\"Poland\",\"x\":[1990,1991,1992,1993,1994,1995,1996,1999,2000,2001,2002,2003,2004,2005,2006,2007,2008,2009,2010,2011,2012,2013,2014,2015],\"y\":[14.386666666666668,15.0225,16.2025,15.654166666666667,15.496666666666668,15.141666666666666,14.850833333333334,15.345833333333333,15.917500000000002,15.054166666666667,15.2725,15.012500000000001,15.645000000000001,15.503333333333332,15.237499999999999,13.8725,14.781666666666666,16.425,15.886666666666665,15.321666666666667,16.030833333333334,15.6325,14.858333333333334,13.915833333333333],\"type\":\"scatter\"},{\"line\":{\"color\":\"#2eb37c\"},\"name\":\"Argentina\",\"x\":[1985,1986,1987,1988,1989,1990,1991,1992,1993,1994,1995,1996,1997,1998,1999,2000,2001,2002,2003,2004,2005,2006,2007,2008,2009,2010,2011,2012,2013,2014,2015],\"y\":[11.205833333333333,12.741666666666667,12.081666666666665,12.186666666666667,11.5775,11.241666666666667,9.936666666666666,10.571666666666667,11.230833333333335,10.170833333333333,9.9975,9.835833333333333,9.283333333333333,9.744166666666667,9.765833333333333,10.949166666666665,11.963333333333333,11.618333333333334,12.190833333333332,10.921666666666667,10.681666666666667,10.685,9.862499999999999,9.8425,8.943333333333333,9.27,8.8225,9.985,8.618333333333334,9.279166666666667,9.344166666666666],\"type\":\"scatter\"},{\"line\":{\"color\":\"#3aba76\"},\"name\":\"Austria\",\"x\":[1985,1986,1987,1988,1989,1990,1991,1992,1993,1994,1995,1996,1997,1998,1999,2000,2001,2002,2003,2004,2005,2006,2007,2008,2009,2010,2011,2012,2013,2014,2015],\"y\":[32.0675,33.483333333333334,33.82333333333333,29.80333333333333,29.94333333333333,29.48166666666667,29.6225,28.478333333333335,28.996666666666666,28.635,29.007499999999997,28.554166666666664,24.791666666666668,24.115,23.358333333333334,24.147499999999997,21.825833333333335,23.076666666666668,21.421666666666667,21.169999999999998,19.604166666666668,18.241666666666667,18.109166666666667,18.037499999999998,17.768333333333334,17.295833333333334,17.624166666666667,17.219166666666666,17.676666666666666,17.485,16.218333333333334],\"type\":\"scatter\"},{\"line\":{\"color\":\"#58c765\"},\"name\":\"Denmark\",\"x\":[1994,1995,1996,1997,1998,1999,2000,2001,2002,2003,2004,2005,2006,2007,2008,2009,2010,2011,2012,2013,2014,2015],\"y\":[21.101666666666667,19.9275,19.13,18.205000000000002,15.723333333333334,15.2575,15.089166666666666,15.514166666666666,14.709166666666667,13.058333333333332,13.481666666666667,13.685833333333333,13.506666666666666,11.663333333333334,11.920833333333334,12.058333333333332,10.835,10.5275,11.934166666666668,11.2125,11.4775,10.118333333333334],\"type\":\"scatter\"},{\"line\":{\"color\":\"#6ccd5a\"},\"name\":\"Norway\",\"x\":[1986,1987,1988,1989,1990,1991,1992,1993,1994,1995,1996,1997,1998,1999,2000,2001,2002,2003,2004,2005,2006,2007,2008,2009,2010,2011,2012,2013,2014,2015],\"y\":[13.635,15.963333333333333,17.375,16.490833333333335,15.9425,16.235,15.136666666666668,14.8375,12.544166666666667,13.029166666666667,12.8275,13.217500000000001,12.805,13.610833333333334,12.527499999999998,12.8575,11.75,11.506666666666666,11.780833333333334,11.840833333333334,11.889166666666666,10.647499999999999,11.0025,12.145000000000001,11.369166666666667,12.207500000000001,10.5,10.584166666666667,10.6025,11.369166666666667],\"type\":\"scatter\"},{\"line\":{\"color\":\"#93d741\"},\"name\":\"Thailand\",\"x\":[1985,1986,1987,1990,1991,1992,1994,1995,1996,1997,1998,1999,2000,2002,2003,2004,2005,2006,2007,2008,2009,2010,2011,2012,2013,2014,2015],\"y\":[6.878333333333333,5.9925,6.818333333333334,7.993333333333333,7.204999999999999,6.925,4.689166666666667,7.793333333333334,7.754166666666666,7.197500000000001,8.296666666666667,9.085833333333333,8.841666666666667,8.593333333333334,7.596666666666667,7.171666666666667,6.4991666666666665,5.753333333333334,6.595,6.515000000000001,6.546666666666667,6.708333333333333,6.465833333333333,6.724166666666666,6.63,6.413333333333334,6.7625],\"type\":\"scatter\"},{\"line\":{\"color\":\"#a8db34\"},\"name\":\"Greece\",\"x\":[1985,1986,1987,1988,1989,1990,1991,1992,1993,1994,1995,1996,1997,1998,1999,2000,2001,2002,2003,2004,2005,2006,2007,2008,2009,2010,2011,2012,2013,2014,2015],\"y\":[4.8475,5.100833333333333,5.255,5.01,4.5441666666666665,4.2908333333333335,4.5475,4.0775,4.425,3.9033333333333338,4.14,3.7608333333333337,3.971666666666667,4.0225,3.811666666666667,3.7383333333333333,3.234166666666667,3.1958333333333333,3.3891666666666667,3.41,3.8775,3.784166666666667,2.825833333333333,3.358333333333333,3.4141666666666666,3.3249999999999997,4.056666666666667,4.443333333333333,4.5925,4.985,4.671666666666667],\"type\":\"scatter\"},{\"line\":{\"color\":\"#c0df25\"},\"name\":\"Finland\",\"x\":[1987,1988,1989,1990,1991,1992,1993,1994,1995,1996,1997,1998,1999,2000,2001,2002,2003,2004,2005,2006,2007,2008,2009,2010,2011,2012,2013,2014,2015],\"y\":[28.945833333333336,29.503333333333334,31.113333333333333,33.01833333333334,31.465,29.155833333333334,27.75,27.52,27.08,24.1375,25.8625,25.11916666666667,23.5925,22.1375,22.265833333333333,21.293333333333333,20.2875,20.32916666666667,19.21,19.483333333333334,18.59,18.357499999999998,19.04083333333333,17.934166666666666,16.9675,15.584166666666667,16.4025,14.763333333333334,13.4325],\"type\":\"scatter\"},{\"line\":{\"color\":\"#d5e21a\"},\"name\":\"Colombia\",\"x\":[1985,1986,1987,1988,1989,1990,1991,1992,1993,1994,1995,1996,1997,1998,1999,2000,2001,2002,2003,2004,2005,2006,2007,2008,2009,2010,2011,2012,2013,2014,2015],\"y\":[5.213333333333334,4.175833333333333,3.7641666666666667,4.22,3.474166666666667,3.6191666666666666,3.6308333333333334,4.123333333333333,4.1025,4.6625000000000005,4.136666666666667,4.430833333333333,4.3975,6.806666666666666,7.008333333333333,7.4816666666666665,7.355833333333333,6.781666666666666,6.654166666666666,7.020833333333333,6.236666666666667,6.534166666666667,6.1875,6.185,6.1525,5.603333333333333,5.239999999999999,5.5375000000000005,5.2941666666666665,5.551666666666667,5.866666666666666],\"type\":\"scatter\"},{\"line\":{\"color\":\"#eae51a\"},\"name\":\"Israel\",\"x\":[1985,1986,1987,1988,1989,1990,1991,1992,1993,1994,1995,1996,1997,1998,1999,2000,2001,2002,2003,2004,2005,2006,2007,2008,2009,2010,2011,2012,2013,2014,2015],\"y\":[9.335833333333333,10.856666666666667,11.134166666666667,10.346666666666666,14.193333333333333,10.188333333333334,11.611666666666666,10.9125,11.435833333333333,12.490833333333335,10.619166666666667,9.209166666666667,10.548333333333334,8.3425,8.548333333333334,9.046666666666667,9.019166666666667,7.790833333333333,8.0975,8.203333333333333,8.575833333333334,6.71,6.139166666666667,7.2775,6.6933333333333325,8.289166666666667,7.284166666666667,6.982500000000001,6.184166666666666,5.938333333333333,5.4925],\"type\":\"scatter\"}],                        {\"template\":{\"data\":{\"histogram2dcontour\":[{\"type\":\"histogram2dcontour\",\"colorbar\":{\"outlinewidth\":0,\"ticks\":\"\"},\"colorscale\":[[0.0,\"#0d0887\"],[0.1111111111111111,\"#46039f\"],[0.2222222222222222,\"#7201a8\"],[0.3333333333333333,\"#9c179e\"],[0.4444444444444444,\"#bd3786\"],[0.5555555555555556,\"#d8576b\"],[0.6666666666666666,\"#ed7953\"],[0.7777777777777778,\"#fb9f3a\"],[0.8888888888888888,\"#fdca26\"],[1.0,\"#f0f921\"]]}],\"choropleth\":[{\"type\":\"choropleth\",\"colorbar\":{\"outlinewidth\":0,\"ticks\":\"\"}}],\"histogram2d\":[{\"type\":\"histogram2d\",\"colorbar\":{\"outlinewidth\":0,\"ticks\":\"\"},\"colorscale\":[[0.0,\"#0d0887\"],[0.1111111111111111,\"#46039f\"],[0.2222222222222222,\"#7201a8\"],[0.3333333333333333,\"#9c179e\"],[0.4444444444444444,\"#bd3786\"],[0.5555555555555556,\"#d8576b\"],[0.6666666666666666,\"#ed7953\"],[0.7777777777777778,\"#fb9f3a\"],[0.8888888888888888,\"#fdca26\"],[1.0,\"#f0f921\"]]}],\"heatmap\":[{\"type\":\"heatmap\",\"colorbar\":{\"outlinewidth\":0,\"ticks\":\"\"},\"colorscale\":[[0.0,\"#0d0887\"],[0.1111111111111111,\"#46039f\"],[0.2222222222222222,\"#7201a8\"],[0.3333333333333333,\"#9c179e\"],[0.4444444444444444,\"#bd3786\"],[0.5555555555555556,\"#d8576b\"],[0.6666666666666666,\"#ed7953\"],[0.7777777777777778,\"#fb9f3a\"],[0.8888888888888888,\"#fdca26\"],[1.0,\"#f0f921\"]]}],\"heatmapgl\":[{\"type\":\"heatmapgl\",\"colorbar\":{\"outlinewidth\":0,\"ticks\":\"\"},\"colorscale\":[[0.0,\"#0d0887\"],[0.1111111111111111,\"#46039f\"],[0.2222222222222222,\"#7201a8\"],[0.3333333333333333,\"#9c179e\"],[0.4444444444444444,\"#bd3786\"],[0.5555555555555556,\"#d8576b\"],[0.6666666666666666,\"#ed7953\"],[0.7777777777777778,\"#fb9f3a\"],[0.8888888888888888,\"#fdca26\"],[1.0,\"#f0f921\"]]}],\"contourcarpet\":[{\"type\":\"contourcarpet\",\"colorbar\":{\"outlinewidth\":0,\"ticks\":\"\"}}],\"contour\":[{\"type\":\"contour\",\"colorbar\":{\"outlinewidth\":0,\"ticks\":\"\"},\"colorscale\":[[0.0,\"#0d0887\"],[0.1111111111111111,\"#46039f\"],[0.2222222222222222,\"#7201a8\"],[0.3333333333333333,\"#9c179e\"],[0.4444444444444444,\"#bd3786\"],[0.5555555555555556,\"#d8576b\"],[0.6666666666666666,\"#ed7953\"],[0.7777777777777778,\"#fb9f3a\"],[0.8888888888888888,\"#fdca26\"],[1.0,\"#f0f921\"]]}],\"surface\":[{\"type\":\"surface\",\"colorbar\":{\"outlinewidth\":0,\"ticks\":\"\"},\"colorscale\":[[0.0,\"#0d0887\"],[0.1111111111111111,\"#46039f\"],[0.2222222222222222,\"#7201a8\"],[0.3333333333333333,\"#9c179e\"],[0.4444444444444444,\"#bd3786\"],[0.5555555555555556,\"#d8576b\"],[0.6666666666666666,\"#ed7953\"],[0.7777777777777778,\"#fb9f3a\"],[0.8888888888888888,\"#fdca26\"],[1.0,\"#f0f921\"]]}],\"mesh3d\":[{\"type\":\"mesh3d\",\"colorbar\":{\"outlinewidth\":0,\"ticks\":\"\"}}],\"scatter\":[{\"fillpattern\":{\"fillmode\":\"overlay\",\"size\":10,\"solidity\":0.2},\"type\":\"scatter\"}],\"parcoords\":[{\"type\":\"parcoords\",\"line\":{\"colorbar\":{\"outlinewidth\":0,\"ticks\":\"\"}}}],\"scatterpolargl\":[{\"type\":\"scatterpolargl\",\"marker\":{\"colorbar\":{\"outlinewidth\":0,\"ticks\":\"\"}}}],\"bar\":[{\"error_x\":{\"color\":\"#2a3f5f\"},\"error_y\":{\"color\":\"#2a3f5f\"},\"marker\":{\"line\":{\"color\":\"#E5ECF6\",\"width\":0.5},\"pattern\":{\"fillmode\":\"overlay\",\"size\":10,\"solidity\":0.2}},\"type\":\"bar\"}],\"scattergeo\":[{\"type\":\"scattergeo\",\"marker\":{\"colorbar\":{\"outlinewidth\":0,\"ticks\":\"\"}}}],\"scatterpolar\":[{\"type\":\"scatterpolar\",\"marker\":{\"colorbar\":{\"outlinewidth\":0,\"ticks\":\"\"}}}],\"histogram\":[{\"marker\":{\"pattern\":{\"fillmode\":\"overlay\",\"size\":10,\"solidity\":0.2}},\"type\":\"histogram\"}],\"scattergl\":[{\"type\":\"scattergl\",\"marker\":{\"colorbar\":{\"outlinewidth\":0,\"ticks\":\"\"}}}],\"scatter3d\":[{\"type\":\"scatter3d\",\"line\":{\"colorbar\":{\"outlinewidth\":0,\"ticks\":\"\"}},\"marker\":{\"colorbar\":{\"outlinewidth\":0,\"ticks\":\"\"}}}],\"scattermapbox\":[{\"type\":\"scattermapbox\",\"marker\":{\"colorbar\":{\"outlinewidth\":0,\"ticks\":\"\"}}}],\"scatterternary\":[{\"type\":\"scatterternary\",\"marker\":{\"colorbar\":{\"outlinewidth\":0,\"ticks\":\"\"}}}],\"scattercarpet\":[{\"type\":\"scattercarpet\",\"marker\":{\"colorbar\":{\"outlinewidth\":0,\"ticks\":\"\"}}}],\"carpet\":[{\"aaxis\":{\"endlinecolor\":\"#2a3f5f\",\"gridcolor\":\"white\",\"linecolor\":\"white\",\"minorgridcolor\":\"white\",\"startlinecolor\":\"#2a3f5f\"},\"baxis\":{\"endlinecolor\":\"#2a3f5f\",\"gridcolor\":\"white\",\"linecolor\":\"white\",\"minorgridcolor\":\"white\",\"startlinecolor\":\"#2a3f5f\"},\"type\":\"carpet\"}],\"table\":[{\"cells\":{\"fill\":{\"color\":\"#EBF0F8\"},\"line\":{\"color\":\"white\"}},\"header\":{\"fill\":{\"color\":\"#C8D4E3\"},\"line\":{\"color\":\"white\"}},\"type\":\"table\"}],\"barpolar\":[{\"marker\":{\"line\":{\"color\":\"#E5ECF6\",\"width\":0.5},\"pattern\":{\"fillmode\":\"overlay\",\"size\":10,\"solidity\":0.2}},\"type\":\"barpolar\"}],\"pie\":[{\"automargin\":true,\"type\":\"pie\"}]},\"layout\":{\"autotypenumbers\":\"strict\",\"colorway\":[\"#636efa\",\"#EF553B\",\"#00cc96\",\"#ab63fa\",\"#FFA15A\",\"#19d3f3\",\"#FF6692\",\"#B6E880\",\"#FF97FF\",\"#FECB52\"],\"font\":{\"color\":\"#2a3f5f\"},\"hovermode\":\"closest\",\"hoverlabel\":{\"align\":\"left\"},\"paper_bgcolor\":\"white\",\"plot_bgcolor\":\"#E5ECF6\",\"polar\":{\"bgcolor\":\"#E5ECF6\",\"angularaxis\":{\"gridcolor\":\"white\",\"linecolor\":\"white\",\"ticks\":\"\"},\"radialaxis\":{\"gridcolor\":\"white\",\"linecolor\":\"white\",\"ticks\":\"\"}},\"ternary\":{\"bgcolor\":\"#E5ECF6\",\"aaxis\":{\"gridcolor\":\"white\",\"linecolor\":\"white\",\"ticks\":\"\"},\"baxis\":{\"gridcolor\":\"white\",\"linecolor\":\"white\",\"ticks\":\"\"},\"caxis\":{\"gridcolor\":\"white\",\"linecolor\":\"white\",\"ticks\":\"\"}},\"coloraxis\":{\"colorbar\":{\"outlinewidth\":0,\"ticks\":\"\"}},\"colorscale\":{\"sequential\":[[0.0,\"#0d0887\"],[0.1111111111111111,\"#46039f\"],[0.2222222222222222,\"#7201a8\"],[0.3333333333333333,\"#9c179e\"],[0.4444444444444444,\"#bd3786\"],[0.5555555555555556,\"#d8576b\"],[0.6666666666666666,\"#ed7953\"],[0.7777777777777778,\"#fb9f3a\"],[0.8888888888888888,\"#fdca26\"],[1.0,\"#f0f921\"]],\"sequentialminus\":[[0.0,\"#0d0887\"],[0.1111111111111111,\"#46039f\"],[0.2222222222222222,\"#7201a8\"],[0.3333333333333333,\"#9c179e\"],[0.4444444444444444,\"#bd3786\"],[0.5555555555555556,\"#d8576b\"],[0.6666666666666666,\"#ed7953\"],[0.7777777777777778,\"#fb9f3a\"],[0.8888888888888888,\"#fdca26\"],[1.0,\"#f0f921\"]],\"diverging\":[[0,\"#8e0152\"],[0.1,\"#c51b7d\"],[0.2,\"#de77ae\"],[0.3,\"#f1b6da\"],[0.4,\"#fde0ef\"],[0.5,\"#f7f7f7\"],[0.6,\"#e6f5d0\"],[0.7,\"#b8e186\"],[0.8,\"#7fbc41\"],[0.9,\"#4d9221\"],[1,\"#276419\"]]},\"xaxis\":{\"gridcolor\":\"white\",\"linecolor\":\"white\",\"ticks\":\"\",\"title\":{\"standoff\":15},\"zerolinecolor\":\"white\",\"automargin\":true,\"zerolinewidth\":2},\"yaxis\":{\"gridcolor\":\"white\",\"linecolor\":\"white\",\"ticks\":\"\",\"title\":{\"standoff\":15},\"zerolinecolor\":\"white\",\"automargin\":true,\"zerolinewidth\":2},\"scene\":{\"xaxis\":{\"backgroundcolor\":\"#E5ECF6\",\"gridcolor\":\"white\",\"linecolor\":\"white\",\"showbackground\":true,\"ticks\":\"\",\"zerolinecolor\":\"white\",\"gridwidth\":2},\"yaxis\":{\"backgroundcolor\":\"#E5ECF6\",\"gridcolor\":\"white\",\"linecolor\":\"white\",\"showbackground\":true,\"ticks\":\"\",\"zerolinecolor\":\"white\",\"gridwidth\":2},\"zaxis\":{\"backgroundcolor\":\"#E5ECF6\",\"gridcolor\":\"white\",\"linecolor\":\"white\",\"showbackground\":true,\"ticks\":\"\",\"zerolinecolor\":\"white\",\"gridwidth\":2}},\"shapedefaults\":{\"line\":{\"color\":\"#2a3f5f\"}},\"annotationdefaults\":{\"arrowcolor\":\"#2a3f5f\",\"arrowhead\":0,\"arrowwidth\":1},\"geo\":{\"bgcolor\":\"white\",\"landcolor\":\"#E5ECF6\",\"subunitcolor\":\"white\",\"showland\":true,\"showlakes\":true,\"lakecolor\":\"white\"},\"title\":{\"x\":0.05},\"mapbox\":{\"style\":\"light\"}}}},                        {\"responsive\": true}                    ).then(function(){\n",
       "                            \n",
       "var gd = document.getElementById('acc395bf-ec4e-42a7-b257-f039017abda7');\n",
       "var x = new MutationObserver(function (mutations, observer) {{\n",
       "        var display = window.getComputedStyle(gd).display;\n",
       "        if (!display || display === 'none') {{\n",
       "            console.log([gd, 'removed!']);\n",
       "            Plotly.purge(gd);\n",
       "            observer.disconnect();\n",
       "        }}\n",
       "}});\n",
       "\n",
       "// Listen for the removal of the full notebook cells\n",
       "var notebookContainer = gd.closest('#notebook-container');\n",
       "if (notebookContainer) {{\n",
       "    x.observe(notebookContainer, {childList: true});\n",
       "}}\n",
       "\n",
       "// Listen for the clearing of the current output cell\n",
       "var outputEl = gd.closest('.output');\n",
       "if (outputEl) {{\n",
       "    x.observe(outputEl, {childList: true});\n",
       "}}\n",
       "\n",
       "                        })                };                });            </script>        </div>"
      ]
     },
     "metadata": {},
     "output_type": "display_data"
    }
   ],
   "source": [
    "pal = list(sns.color_palette(palette='viridis', n_colors=len(top_countries)).as_hex())\n",
    "\n",
    "fig = go.Figure()\n",
    "for d,p in zip(top_countries, pal):\n",
    "    if len(df_gb_c_y.loc[d].index) > 20:\n",
    "        fig.add_trace(go.Scatter(x = df_gb_c_y.loc[d].index,\n",
    "                             y = df_gb_c_y.loc[d]['suicides/100k pop'],\n",
    "                             name = d,\n",
    "                             line_color = p, \n",
    "                             fill=None))\n",
    "\n",
    "fig.show()"
   ]
  },
  {
   "cell_type": "code",
   "execution_count": 269,
   "id": "56fd3c79",
   "metadata": {},
   "outputs": [],
   "source": [
    "df_sub = df[df['year'] <= 2014]"
   ]
  },
  {
   "cell_type": "code",
   "execution_count": 270,
   "id": "6cc2d472",
   "metadata": {},
   "outputs": [],
   "source": [
    "top5_coun_all =df_sub.groupby(['country']).mean().\\\n",
    "nlargest(30, 'gdp_for_year ($)').nlargest(5, \\\n",
    "'suicides/100k pop').index.tolist()"
   ]
  },
  {
   "cell_type": "code",
   "execution_count": 271,
   "id": "fd37a04c",
   "metadata": {},
   "outputs": [],
   "source": [
    "top5_sr_all = df_sub.groupby(['country']).mean().\\\n",
    "nlargest(30, 'gdp_for_year ($)').nlargest(5,\\\n",
    "'suicides/100k pop')['suicides/100k pop'].tolist()\n",
    "top5_sr_all = list(np.around(np.array(top5_sr_all),1))"
   ]
  },
  {
   "cell_type": "code",
   "execution_count": 272,
   "id": "623a3ced",
   "metadata": {
    "scrolled": true
   },
   "outputs": [],
   "source": [
    "top5_sr_act = df_sub[df_sub['year']>=2014].groupby(['country']).mean().loc[top5_coun_all]['suicides/100k pop'].tolist()\n",
    "top5_sr_act = list(np.around(np.array(top5_sr_act),1))"
   ]
  },
  {
   "cell_type": "code",
   "execution_count": 273,
   "id": "bb45bd84",
   "metadata": {},
   "outputs": [
    {
     "data": {
      "text/html": [
       "\n",
       "<script>\n",
       "    require.config({\n",
       "        paths: {\n",
       "            'echarts':'https://assets.pyecharts.org/assets/echarts.min'\n",
       "        }\n",
       "    });\n",
       "</script>\n",
       "\n",
       "        <div id=\"cf231382a5fb4875ab58390a4ee5b04c\" style=\"width:900px; height:500px;\"></div>\n",
       "\n",
       "<script>\n",
       "        require(['echarts'], function(echarts) {\n",
       "                var chart_cf231382a5fb4875ab58390a4ee5b04c = echarts.init(\n",
       "                    document.getElementById('cf231382a5fb4875ab58390a4ee5b04c'), 'white', {renderer: 'canvas'});\n",
       "                var option_cf231382a5fb4875ab58390a4ee5b04c = {\n",
       "    \"animation\": true,\n",
       "    \"animationThreshold\": 2000,\n",
       "    \"animationDuration\": 1000,\n",
       "    \"animationEasing\": \"cubicOut\",\n",
       "    \"animationDelay\": 0,\n",
       "    \"animationDurationUpdate\": 300,\n",
       "    \"animationEasingUpdate\": \"cubicOut\",\n",
       "    \"animationDelayUpdate\": 0,\n",
       "    \"color\": [\n",
       "        \"#c23531\",\n",
       "        \"#2f4554\",\n",
       "        \"#61a0a8\",\n",
       "        \"#d48265\",\n",
       "        \"#749f83\",\n",
       "        \"#ca8622\",\n",
       "        \"#bda29a\",\n",
       "        \"#6e7074\",\n",
       "        \"#546570\",\n",
       "        \"#c4ccd3\",\n",
       "        \"#f05b72\",\n",
       "        \"#ef5b9c\",\n",
       "        \"#f47920\",\n",
       "        \"#905a3d\",\n",
       "        \"#fab27b\",\n",
       "        \"#2a5caa\",\n",
       "        \"#444693\",\n",
       "        \"#726930\",\n",
       "        \"#b2d235\",\n",
       "        \"#6d8346\",\n",
       "        \"#ac6767\",\n",
       "        \"#1d953f\",\n",
       "        \"#6950a1\",\n",
       "        \"#918597\"\n",
       "    ],\n",
       "    \"series\": [\n",
       "        {\n",
       "            \"type\": \"bar\",\n",
       "            \"name\": \"Mean Suicide Rate 1985-2014\",\n",
       "            \"data\": [\n",
       "                35.5,\n",
       "                24.9,\n",
       "                24.2,\n",
       "                23.1,\n",
       "                21.7\n",
       "            ],\n",
       "            \"barCategoryGap\": \"20%\",\n",
       "            \"label\": {\n",
       "                \"show\": true,\n",
       "                \"position\": \"top\",\n",
       "                \"margin\": 8\n",
       "            }\n",
       "        },\n",
       "        {\n",
       "            \"type\": \"bar\",\n",
       "            \"name\": \"Suicide Rate 2015\",\n",
       "            \"data\": [\n",
       "                21.6,\n",
       "                32.1,\n",
       "                17.5,\n",
       "                14.8,\n",
       "                18.2\n",
       "            ],\n",
       "            \"barCategoryGap\": \"20%\",\n",
       "            \"label\": {\n",
       "                \"show\": true,\n",
       "                \"position\": \"top\",\n",
       "                \"margin\": 8\n",
       "            }\n",
       "        }\n",
       "    ],\n",
       "    \"legend\": [\n",
       "        {\n",
       "            \"data\": [\n",
       "                \"Mean Suicide Rate 1985-2014\",\n",
       "                \"Suicide Rate 2015\"\n",
       "            ],\n",
       "            \"selected\": {\n",
       "                \"Mean Suicide Rate 1985-2014\": true,\n",
       "                \"Suicide Rate 2015\": true\n",
       "            },\n",
       "            \"show\": true,\n",
       "            \"padding\": 5,\n",
       "            \"itemGap\": 10,\n",
       "            \"itemWidth\": 25,\n",
       "            \"itemHeight\": 14\n",
       "        }\n",
       "    ],\n",
       "    \"tooltip\": {\n",
       "        \"show\": true,\n",
       "        \"trigger\": \"item\",\n",
       "        \"triggerOn\": \"mousemove|click\",\n",
       "        \"axisPointer\": {\n",
       "            \"type\": \"line\"\n",
       "        },\n",
       "        \"textStyle\": {\n",
       "            \"fontSize\": 14\n",
       "        },\n",
       "        \"borderWidth\": 0\n",
       "    },\n",
       "    \"xAxis\": [\n",
       "        {\n",
       "            \"show\": true,\n",
       "            \"scale\": false,\n",
       "            \"nameLocation\": \"end\",\n",
       "            \"nameGap\": 15,\n",
       "            \"gridIndex\": 0,\n",
       "            \"inverse\": false,\n",
       "            \"offset\": 0,\n",
       "            \"splitNumber\": 5,\n",
       "            \"minInterval\": 0,\n",
       "            \"splitLine\": {\n",
       "                \"show\": false,\n",
       "                \"lineStyle\": {\n",
       "                    \"show\": true,\n",
       "                    \"width\": 1,\n",
       "                    \"opacity\": 1,\n",
       "                    \"curveness\": 0,\n",
       "                    \"type\": \"solid\"\n",
       "                }\n",
       "            },\n",
       "            \"data\": [\n",
       "                \"Russian Federation\",\n",
       "                \"Republic of Korea\",\n",
       "                \"Austria\",\n",
       "                \"Finland\",\n",
       "                \"Japan\"\n",
       "            ]\n",
       "        }\n",
       "    ],\n",
       "    \"yAxis\": [\n",
       "        {\n",
       "            \"show\": true,\n",
       "            \"scale\": false,\n",
       "            \"nameLocation\": \"end\",\n",
       "            \"nameGap\": 15,\n",
       "            \"gridIndex\": 0,\n",
       "            \"inverse\": false,\n",
       "            \"offset\": 0,\n",
       "            \"splitNumber\": 5,\n",
       "            \"minInterval\": 0,\n",
       "            \"splitLine\": {\n",
       "                \"show\": false,\n",
       "                \"lineStyle\": {\n",
       "                    \"show\": true,\n",
       "                    \"width\": 1,\n",
       "                    \"opacity\": 1,\n",
       "                    \"curveness\": 0,\n",
       "                    \"type\": \"solid\"\n",
       "                }\n",
       "            }\n",
       "        }\n",
       "    ],\n",
       "    \"title\": [\n",
       "        {\n",
       "            \"text\": \"Suicide Rate Comparison\",\n",
       "            \"subtext\": \"Year 1985-2014 to 2015\",\n",
       "            \"padding\": 5,\n",
       "            \"itemGap\": 10\n",
       "        }\n",
       "    ]\n",
       "};\n",
       "                chart_cf231382a5fb4875ab58390a4ee5b04c.setOption(option_cf231382a5fb4875ab58390a4ee5b04c);\n",
       "        });\n",
       "    </script>\n"
      ],
      "text/plain": [
       "<pyecharts.render.display.HTML at 0x7fabda578eb0>"
      ]
     },
     "execution_count": 273,
     "metadata": {},
     "output_type": "execute_result"
    }
   ],
   "source": [
    "bar = (\n",
    " Bar(init_opts=opts.InitOpts())\n",
    " .add_xaxis(top5_coun_all)\n",
    " .add_yaxis('Mean Suicide Rate 1985-2014', top5_sr_all)\n",
    " .add_yaxis('Suicide Rate 2015', top5_sr_act)\n",
    " .set_global_opts(title_opts=opts.TitleOpts(title='Suicide Rate Comparison', subtitle='Year 1985-2014 to 2015'))\n",
    ")\n",
    "bar.render_notebook()"
   ]
  },
  {
   "cell_type": "code",
   "execution_count": null,
   "id": "36b243ad",
   "metadata": {},
   "outputs": [],
   "source": []
  }
 ],
 "metadata": {
  "kernelspec": {
   "display_name": "Python 3 (ipykernel)",
   "language": "python",
   "name": "python3"
  },
  "language_info": {
   "codemirror_mode": {
    "name": "ipython",
    "version": 3
   },
   "file_extension": ".py",
   "mimetype": "text/x-python",
   "name": "python",
   "nbconvert_exporter": "python",
   "pygments_lexer": "ipython3",
   "version": "3.9.13"
  }
 },
 "nbformat": 4,
 "nbformat_minor": 5
}
